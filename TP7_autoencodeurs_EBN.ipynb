{
  "cells": [
    {
      "cell_type": "markdown",
      "metadata": {
        "id": "view-in-github",
        "colab_type": "text"
      },
      "source": [
        "<a href=\"https://colab.research.google.com/github/Eyabennessib/Machine-Learning/blob/main/TP7_autoencodeurs_EBN.ipynb\" target=\"_parent\"><img src=\"https://colab.research.google.com/assets/colab-badge.svg\" alt=\"Open In Colab\"/></a>"
      ]
    },
    {
      "cell_type": "markdown",
      "metadata": {
        "id": "-EEQSpV4oAge"
      },
      "source": [
        "# TD-TP 7 -- Autoencodeurs \n",
        "\n",
        "\n",
        "> Ce TD-TP a pour objectif de construire un autoencodeur pour trois types d'applications : reconstruction, débruitage et détection d'anomaies sur différents jeux de données.\n",
        "\n",
        "\n",
        "\n",
        "---\n"
      ]
    },
    {
      "cell_type": "markdown",
      "metadata": {
        "id": "wBfxwL2DqQxJ"
      },
      "source": [
        "### Eya BEN NESSIB"
      ]
    },
    {
      "cell_type": "markdown",
      "metadata": {
        "id": "2YkoocKkugwQ"
      },
      "source": [
        "# **Partie I - Introducution : reconstruction**"
      ]
    },
    {
      "cell_type": "markdown",
      "metadata": {
        "id": "gXRS3ggBJ7-C"
      },
      "source": [
        "## 1) Téléchargez les librairies utiles :"
      ]
    },
    {
      "cell_type": "code",
      "execution_count": null,
      "metadata": {
        "id": "dls8tu0DnLbV"
      },
      "outputs": [],
      "source": [
        "from matplotlib.pyplot import imshow\n",
        "import matplotlib.pyplot as plt\n",
        "from sklearn import metrics\n",
        "import numpy as np\n",
        "import cv2\n",
        "from keras.preprocessing.image import img_to_array\n",
        "from tensorflow.keras.layers import Dense, Conv2D, MaxPooling2D, UpSampling2D\n",
        "from tensorflow.keras.models import Sequential\n",
        "import sys"
      ]
    },
    {
      "cell_type": "markdown",
      "metadata": {
        "id": "kiyvHuWxosNC"
      },
      "source": [
        "## 2) Expliquez les lignes de code ci-dessous :"
      ]
    },
    {
      "cell_type": "code",
      "execution_count": null,
      "metadata": {
        "id": "HuqLa_b7ol9r"
      },
      "outputs": [],
      "source": [
        "SIZE=256\n",
        "img_data=[]\n",
        "\n",
        "img = cv2.imread(\"C:/Users/Eyq/OneDrive/Desktop/monalisa.jpg\", 1)   #Change 1 to 0 for grey images\n",
        "img = cv2.cvtColor(img, cv2.COLOR_BGR2RGB) #Changing BGR to RGB to show images in true colors"
      ]
    },
    {
      "cell_type": "markdown",
      "metadata": {
        "id": "K_3cbrd8vu42"
      },
      "source": [
        "## 3) Donnez la dimesion de l'image."
      ]
    },
    {
      "cell_type": "code",
      "execution_count": null,
      "metadata": {
        "id": "Ldoov_8Jv2g-",
        "outputId": "8a52772d-9ab1-49e9-c0fb-480a19d35120"
      },
      "outputs": [
        {
          "name": "stdout",
          "output_type": "stream",
          "text": [
            "(256, 256, 3)\n"
          ]
        }
      ],
      "source": [
        "print(img.shape) # Complétez (256, 256, 3)\n",
        "# 256 X 256 pixels et 3 pour RGB"
      ]
    },
    {
      "cell_type": "code",
      "execution_count": null,
      "metadata": {
        "id": "pFnFaJ49vtlI"
      },
      "outputs": [],
      "source": [
        "img=cv2.resize(img,(SIZE, SIZE))\n",
        "img_data.append(img_to_array(img))\n",
        "\n",
        "img_array = np.reshape(img_data, (len(img_data), SIZE, SIZE, 3))"
      ]
    },
    {
      "cell_type": "markdown",
      "metadata": {
        "id": "fZ74m4n7sL3N"
      },
      "source": [
        "## 4) Donnez le type et la dimension de de img_array."
      ]
    },
    {
      "cell_type": "code",
      "execution_count": null,
      "metadata": {
        "id": "b6V1jFtoCDmY",
        "outputId": "27921525-2b4a-44cb-e00c-5d5d2396a989"
      },
      "outputs": [
        {
          "name": "stdout",
          "output_type": "stream",
          "text": [
            "le type est  <class 'numpy.ndarray'>\n",
            "la dimension est  (1, 256, 256, 3)\n"
          ]
        }
      ],
      "source": [
        "print(\"le type est \", type(img_array))\n",
        "print(\"la dimension est \", img_array.shape)"
      ]
    },
    {
      "cell_type": "markdown",
      "metadata": {
        "id": "pMQLfzI0sweZ"
      },
      "source": [
        "## 5) Normalisez les données disponibles dans img_array."
      ]
    },
    {
      "cell_type": "code",
      "execution_count": null,
      "metadata": {
        "id": "BvBnk_l2sxM4"
      },
      "outputs": [],
      "source": [
        "X_train = img_array/255."
      ]
    },
    {
      "cell_type": "markdown",
      "metadata": {
        "id": "OCkEsXTto4Y_"
      },
      "source": [
        "## 6) Expliquez l'architecture du réseau de neurones sur lequel vous serez amené à travailler (type de réseau, nombre de couches ...)"
      ]
    },
    {
      "cell_type": "code",
      "execution_count": null,
      "metadata": {
        "id": "hxlyox7XpADH"
      },
      "outputs": [],
      "source": [
        "model = Sequential() #type de réseau séquentiel\n",
        "\n",
        "#couche Conv2D : Cette couche crée un noyau de convolution qui est convolué avec l'entrée de la couche pour produire un tenseur de sorties\n",
        "# fonction d'activation :  Rectified Linear Unit ( pour toutes les couches Conv2D) ==> Regression linéaire\n",
        "#Encodeur\n",
        "model.add(Conv2D(32, (3, 3), activation='relu', padding='same', input_shape=(SIZE, SIZE, 3))) #couche d'entrée convolutionelle de taille 2D avec avec 32 input et une fonction d'activation relu \n",
        "model.add(MaxPooling2D((2, 2), padding='same')) # 1ère sous couche MaxPooling2D de taille (2,2) pour un sous-échantillonnage\n",
        "model.add(Conv2D(8, (3, 3), activation='relu', padding='same')) # 2ème sous couche conv2D du réseau avec 8 noyaux et chaque noyaux de taille (3,3)\n",
        "model.add(MaxPooling2D((2, 2), padding='same')) # 3ème sous couche MaxPooling2D de taille (2,2) pour un sous-échantillonnage\n",
        "model.add(Conv2D(8, (3, 3), activation='relu', padding='same')) # 4ème couche conv2D du réseau avec 8 noyaux et chaque noyaux de taille (3,3)\n",
        "model.add(MaxPooling2D((2, 2), padding='same')) # 5ème sous couche de taille (2,2) pour un sous-échantillonnage\n",
        "model.add(Conv2D(8, (3, 3), activation='relu', padding='same')) # 6ème sous couche convolutionelle de taille 2D avec 8 noyaux de taille (3,3)\n",
        "#Décodeur\n",
        "model.add(UpSampling2D((2, 2)))\n",
        "# 7ème sous couche de sur échantillonnage de facteurs(2,2)\n",
        "model.add(Conv2D(8, (3, 3), activation='relu', padding='same'))\n",
        "# 8ème sous couche convolutionelle de taille 2D avec 8 noyaux de taille (3,3)\n",
        "model.add(UpSampling2D((2, 2)))\n",
        "# 9ème sous couche de sur échantillonnage de facteurs(2,2)\n",
        "model.add(Conv2D(32, (3, 3), activation='relu', padding='same'))\n",
        "# 10ème sous couche convolutionelle de taille 2D avec 32 noyaux de taille (3,3)\n",
        "model.add(UpSampling2D((2, 2)))\n",
        "# 11ème sous couche de sur échantillonnage de facteurs(2,2)\n",
        "model.add(Conv2D(3, (3, 3), activation='relu', padding='same'))\n",
        "# couche de sortie convolutionelle de taille 2D avec 3 noyaux de taille (3,3)"
      ]
    },
    {
      "cell_type": "markdown",
      "metadata": {
        "id": "HNhSDTjHpqvM"
      },
      "source": [
        "## 7) Configurez l'architecture avant la phase d'entraiement en choisissant : \n",
        "- la fonction de côut 'mean_squared_error', \n",
        "- l'optimization :  'adam'\n",
        "- la métrique de mesure de la performance : 'accuracy'"
      ]
    },
    {
      "cell_type": "code",
      "execution_count": null,
      "metadata": {
        "id": "uemiQHl0p4wB"
      },
      "outputs": [],
      "source": [
        "model.compile(loss='mean_squared_error', optimizer = 'adam', metrics=['accuracy'])"
      ]
    },
    {
      "cell_type": "markdown",
      "metadata": {
        "id": "Ecfiel_hquoj"
      },
      "source": [
        "## 8) Donnez un aperçu du modèle et analysez le réseau."
      ]
    },
    {
      "cell_type": "code",
      "execution_count": null,
      "metadata": {
        "id": "E5O9tHswq5iK",
        "outputId": "d499ba44-aa10-428f-f871-5614ed8e9865"
      },
      "outputs": [
        {
          "name": "stdout",
          "output_type": "stream",
          "text": [
            "Model: \"sequential_3\"\n",
            "_________________________________________________________________\n",
            " Layer (type)                Output Shape              Param #   \n",
            "=================================================================\n",
            " conv2d_21 (Conv2D)          (None, 256, 256, 32)      896       \n",
            "                                                                 \n",
            " max_pooling2d_9 (MaxPooling  (None, 128, 128, 32)     0         \n",
            " 2D)                                                             \n",
            "                                                                 \n",
            " conv2d_22 (Conv2D)          (None, 128, 128, 8)       2312      \n",
            "                                                                 \n",
            " max_pooling2d_10 (MaxPoolin  (None, 64, 64, 8)        0         \n",
            " g2D)                                                            \n",
            "                                                                 \n",
            " conv2d_23 (Conv2D)          (None, 64, 64, 8)         584       \n",
            "                                                                 \n",
            " max_pooling2d_11 (MaxPoolin  (None, 32, 32, 8)        0         \n",
            " g2D)                                                            \n",
            "                                                                 \n",
            " conv2d_24 (Conv2D)          (None, 32, 32, 8)         584       \n",
            "                                                                 \n",
            " up_sampling2d_9 (UpSampling  (None, 64, 64, 8)        0         \n",
            " 2D)                                                             \n",
            "                                                                 \n",
            " conv2d_25 (Conv2D)          (None, 64, 64, 8)         584       \n",
            "                                                                 \n",
            " up_sampling2d_10 (UpSamplin  (None, 128, 128, 8)      0         \n",
            " g2D)                                                            \n",
            "                                                                 \n",
            " conv2d_26 (Conv2D)          (None, 128, 128, 32)      2336      \n",
            "                                                                 \n",
            " up_sampling2d_11 (UpSamplin  (None, 256, 256, 32)     0         \n",
            " g2D)                                                            \n",
            "                                                                 \n",
            " conv2d_27 (Conv2D)          (None, 256, 256, 3)       867       \n",
            "                                                                 \n",
            "=================================================================\n",
            "Total params: 8,163\n",
            "Trainable params: 8,163\n",
            "Non-trainable params: 0\n",
            "_________________________________________________________________\n",
            "None\n"
          ]
        }
      ],
      "source": [
        "print(model.summary()) \n"
      ]
    },
    {
      "cell_type": "markdown",
      "metadata": {
        "id": "eOuCd0jwq6rs"
      },
      "source": [
        "## 9) Entrainez le modèle en prenant par exemple 20 épisodes. "
      ]
    },
    {
      "cell_type": "code",
      "execution_count": null,
      "metadata": {
        "id": "ni3i0jwlrChF",
        "outputId": "2dc71529-9453-45a6-9b3f-30309d483ea3"
      },
      "outputs": [
        {
          "name": "stdout",
          "output_type": "stream",
          "text": [
            "Epoch 1/20\n",
            "1/1 [==============================] - 1s 801ms/step - loss: 0.1324 - accuracy: 0.2430\n",
            "Epoch 2/20\n",
            "1/1 [==============================] - 0s 96ms/step - loss: 0.1175 - accuracy: 0.1231\n",
            "Epoch 3/20\n",
            "1/1 [==============================] - 0s 120ms/step - loss: 0.1003 - accuracy: 0.1292\n",
            "Epoch 4/20\n",
            "1/1 [==============================] - 0s 127ms/step - loss: 0.0868 - accuracy: 0.1293\n",
            "Epoch 5/20\n",
            "1/1 [==============================] - 0s 119ms/step - loss: 0.0855 - accuracy: 0.1290\n",
            "Epoch 6/20\n",
            "1/1 [==============================] - 0s 118ms/step - loss: 0.0846 - accuracy: 0.1228\n",
            "Epoch 7/20\n",
            "1/1 [==============================] - 0s 136ms/step - loss: 0.0783 - accuracy: 0.2582\n",
            "Epoch 8/20\n",
            "1/1 [==============================] - 0s 165ms/step - loss: 0.0733 - accuracy: 0.2729\n",
            "Epoch 9/20\n",
            "1/1 [==============================] - 0s 151ms/step - loss: 0.0722 - accuracy: 0.2727\n",
            "Epoch 10/20\n",
            "1/1 [==============================] - 0s 145ms/step - loss: 0.0737 - accuracy: 0.2712\n",
            "Epoch 11/20\n",
            "1/1 [==============================] - 0s 129ms/step - loss: 0.0756 - accuracy: 0.2705\n",
            "Epoch 12/20\n",
            "1/1 [==============================] - 0s 137ms/step - loss: 0.0765 - accuracy: 0.2705\n",
            "Epoch 13/20\n",
            "1/1 [==============================] - 0s 165ms/step - loss: 0.0757 - accuracy: 0.2705\n",
            "Epoch 14/20\n",
            "1/1 [==============================] - 0s 143ms/step - loss: 0.0708 - accuracy: 0.2705\n",
            "Epoch 15/20\n",
            "1/1 [==============================] - 0s 148ms/step - loss: 0.0625 - accuracy: 0.2705\n",
            "Epoch 16/20\n",
            "1/1 [==============================] - 0s 161ms/step - loss: 0.0526 - accuracy: 0.2706\n",
            "Epoch 17/20\n",
            "1/1 [==============================] - 0s 169ms/step - loss: 0.0419 - accuracy: 0.2709\n",
            "Epoch 18/20\n",
            "1/1 [==============================] - 0s 140ms/step - loss: 0.0324 - accuracy: 0.2726\n",
            "Epoch 19/20\n",
            "1/1 [==============================] - 0s 110ms/step - loss: 0.0258 - accuracy: 0.2742\n",
            "Epoch 20/20\n",
            "1/1 [==============================] - 0s 144ms/step - loss: 0.0208 - accuracy: 0.2748\n"
          ]
        },
        {
          "data": {
            "text/plain": [
              "<keras.callbacks.History at 0x1ef1dbb3250>"
            ]
          },
          "execution_count": 19,
          "metadata": {},
          "output_type": "execute_result"
        }
      ],
      "source": [
        "model.fit(X_train, X_train, batch_size=64, verbose = 1 ,epochs =20)"
      ]
    },
    {
      "cell_type": "markdown",
      "metadata": {
        "id": "czDvCQhJuQ8n"
      },
      "source": [
        "## 10) Prédisez le modèle."
      ]
    },
    {
      "cell_type": "code",
      "execution_count": null,
      "metadata": {
        "id": "JeRZrCLouRZA",
        "outputId": "a474e21d-2085-4d49-a7fd-5f96e6597b5a"
      },
      "outputs": [
        {
          "name": "stdout",
          "output_type": "stream",
          "text": [
            "Neural network output\n"
          ]
        }
      ],
      "source": [
        "print(\"Neural network output\")\n",
        "pred = model.predict(X_train)"
      ]
    },
    {
      "cell_type": "markdown",
      "metadata": {
        "id": "WrMNdRwNxwGl"
      },
      "source": [
        "## 11) Affichez l'image prédite puis commentez le résultat."
      ]
    },
    {
      "cell_type": "code",
      "execution_count": null,
      "metadata": {
        "id": "XjYdYu8kxwjZ",
        "outputId": "5a5de47f-cf4d-4faa-f5f9-b1e2cdbc0178"
      },
      "outputs": [
        {
          "data": {
            "text/plain": [
              "<matplotlib.image.AxesImage at 0x1ef2c5a3640>"
            ]
          },
          "execution_count": 24,
          "metadata": {},
          "output_type": "execute_result"
        },
        {
          "data": {
            "image/png": "[encoded data removed]",
            "text/plain": [
              "<Figure size 432x288 with 1 Axes>"
            ]
          },
          "metadata": {
            "needs_background": "light"
          },
          "output_type": "display_data"
        }
      ],
      "source": [
        "imshow(pred[0].reshape(SIZE,SIZE,3), cmap=\"gray\")"
      ]
    },
    {
      "cell_type": "markdown",
      "metadata": {
        "id": "T99GdXsUqQxS"
      },
      "source": [
        "On retrouve l'image mais elle est masquée et floue.\n",
        "20 epochs ne suffit pas pour reconstruire l'image."
      ]
    },
    {
      "cell_type": "markdown",
      "metadata": {
        "id": "ZIsC8gAOxwDI"
      },
      "source": [
        "## 12) Augmentez le nombre d'épisode et analysez les images prédites obtenues."
      ]
    },
    {
      "cell_type": "markdown",
      "metadata": {
        "id": "qVRyygAE2Gql"
      },
      "source": [
        "# **Partie II - Débruitage d'images**\n",
        "\n",
        "L'objectif de cette partie est de débruiter des images en utilisant un autoencodeur. Vous travaillerez avec le jeu de données MNIST.\n",
        "\n",
        "---"
      ]
    },
    {
      "cell_type": "markdown",
      "metadata": {
        "id": "LGSG_Nqa3gqA"
      },
      "source": [
        "## 1) Téléchargez le jeu de données MNIST"
      ]
    },
    {
      "cell_type": "code",
      "execution_count": null,
      "metadata": {
        "id": "txKlZ3C45jic"
      },
      "outputs": [],
      "source": [
        "from tensorflow.keras.datasets import mnist"
      ]
    },
    {
      "cell_type": "code",
      "execution_count": null,
      "metadata": {
        "id": "Pcnysjbm3nHw"
      },
      "outputs": [],
      "source": [
        "(x_train, _), (x_test, _) = mnist.load_data()"
      ]
    },
    {
      "cell_type": "markdown",
      "metadata": {
        "id": "o3FGbss03oKO"
      },
      "source": [
        "## 2) Donnez les dimensions du jeu de données ainsi que la taille des images. Normalisez ensuite les images."
      ]
    },
    {
      "cell_type": "code",
      "execution_count": null,
      "metadata": {
        "id": "jr6HAXb83vMQ",
        "outputId": "fd94c644-46fd-4a00-8821-1ce2d9d092aa"
      },
      "outputs": [
        {
          "name": "stdout",
          "output_type": "stream",
          "text": [
            "(60000, 28, 28)\n",
            "(10000, 28, 28)\n"
          ]
        }
      ],
      "source": [
        "print(x_train.shape)\n",
        "print(x_test.shape)\n",
        "\n",
        "x_train = x_train/255.\n",
        "x_test = x_test/255."
      ]
    },
    {
      "cell_type": "markdown",
      "metadata": {
        "id": "sOK1gUsy6veu"
      },
      "source": [
        "## 3) Expliquez les lignes ci-dessous :"
      ]
    },
    {
      "cell_type": "code",
      "execution_count": null,
      "metadata": {
        "id": "jKb7Jptr6asQ",
        "outputId": "b383378d-3656-4b30-b707-d1e079a12b45"
      },
      "outputs": [
        {
          "name": "stdout",
          "output_type": "stream",
          "text": [
            "(60000, 28, 28, 1)\n",
            "(10000, 28, 28, 1)\n"
          ]
        }
      ],
      "source": [
        "x_train = np.reshape(x_train, (len(x_train), 28, 28, 1)) #l'ajout d'une dimension vide au jeu de données \n",
        "#pour indiquer le plan à numpy\n",
        "x_test = np.reshape(x_test, (len(x_test), 28, 28, 1))\n",
        "print(x_train.shape)\n",
        "print(x_test.shape)"
      ]
    },
    {
      "cell_type": "markdown",
      "metadata": {
        "id": "9fGFz5Oz30hn"
      },
      "source": [
        "## 4) On souhaite construire à partir des images MNIST non-bruités des imges bruitées (bruit Gaussien) comme suit : "
      ]
    },
    {
      "cell_type": "code",
      "execution_count": null,
      "metadata": {
        "id": "KZe4HQO_31AB"
      },
      "outputs": [],
      "source": [
        "noise_factor = 0.5\n",
        "x_train_noisy = x_train + noise_factor * np.random.normal(loc=0.0, scale=1.0, size=x_train.shape) \n",
        "x_test_noisy = x_test + noise_factor * np.random.normal(loc=0.0, scale=1.0, size=x_test.shape) "
      ]
    },
    {
      "cell_type": "markdown",
      "metadata": {
        "id": "Y-JEg4nJ4IKb"
      },
      "source": [
        "## 5) Affichez une dizaine d'images bruitées :"
      ]
    },
    {
      "cell_type": "code",
      "execution_count": null,
      "metadata": {
        "id": "HmZTqgF-2-si",
        "outputId": "650fe950-33fb-4511-b5c8-7b9246b7e9ef"
      },
      "outputs": [
        {
          "data": {
            "image/png": "[encoded data removed]",
            "text/plain": [
              "<Figure size 1440x144 with 9 Axes>"
            ]
          },
          "metadata": {
            "needs_background": "light"
          },
          "output_type": "display_data"
        }
      ],
      "source": [
        "plt.figure(figsize=(20, 2))\n",
        "for i in range(1,10):\n",
        "    ax = plt.subplot(1, 10, i)\n",
        "    plt.imshow(x_test_noisy[i].reshape(28, 28), cmap=\"binary\")\n",
        "plt.show()"
      ]
    },
    {
      "cell_type": "markdown",
      "metadata": {
        "id": "3Afi9fzkFQbQ"
      },
      "source": [
        "## 6) Expliquez l'intérêt des lignes de code ci-dessous :"
      ]
    },
    {
      "cell_type": "code",
      "execution_count": null,
      "metadata": {
        "id": "CdMcXaX1FUKX"
      },
      "outputs": [],
      "source": [
        "# un type d'égalisation\n",
        "x_train_noisy = np.clip(x_train_noisy, 0., 1.) #minimiser les valeurs de x train entre 0 et 1\n",
        "x_test_noisy = np.clip(x_test_noisy, 0., 1.)  #minimiser les valeurs de x test entre 0 et 1"
      ]
    },
    {
      "cell_type": "markdown",
      "metadata": {
        "id": "25W_tMBPFssX"
      },
      "source": [
        "## 7) Affichez une dizaine d'images bruitées puis commentez."
      ]
    },
    {
      "cell_type": "code",
      "execution_count": null,
      "metadata": {
        "id": "yd6MTrKuFP_L",
        "outputId": "5dcf9f1f-ad70-4d6e-df23-8bbe83afe430"
      },
      "outputs": [
        {
          "data": {
            "image/png": "[encoded data removed]",
            "text/plain": [
              "<Figure size 1440x144 with 9 Axes>"
            ]
          },
          "metadata": {
            "needs_background": "light"
          },
          "output_type": "display_data"
        }
      ],
      "source": [
        "#Displaying images with noise\n",
        "plt.figure(figsize=(20, 2))\n",
        "for i in range(1,10):\n",
        "    ax = plt.subplot(1, 10, i)\n",
        "    plt.imshow(x_test_noisy[i].reshape(28, 28), cmap=\"binary\")\n",
        "plt.show()"
      ]
    },
    {
      "cell_type": "markdown",
      "metadata": {
        "id": "e0uZaBq0qQxU"
      },
      "source": [
        "Après l'égalisation des valeurs entre 0 et 1, on peut distinguer les chiffres."
      ]
    },
    {
      "cell_type": "markdown",
      "metadata": {
        "id": "lIWMQ3Zf4mQs"
      },
      "source": [
        "## 8) Expliquez l'architecture du réseau de neuronnes sur lequel vous serez amené à travailler (type de réseau, nombre de couches ...)"
      ]
    },
    {
      "cell_type": "code",
      "execution_count": null,
      "metadata": {
        "id": "h93oN38G4mtn"
      },
      "outputs": [],
      "source": [
        "# choisir le modèle séquentiel\n",
        "model = Sequential() \n",
        "#Encodeur\n",
        "model.add(Conv2D(32, (3, 3), activation='relu', padding='same', input_shape=(28, 28, 1)))\n",
        "# couche d'entrée : couche de convolutionn 2D avec 32 neurones de taille (3,3) \n",
        "# avec fonction d'activation relu pour la couche d'entrée\n",
        "model.add(MaxPooling2D((2, 2), padding='same'))\n",
        "# sous couche Maxpooling est pour réduire les dimensions spatiales du volume de sortie\n",
        "# sous_échantillonnage de facteur 2\n",
        "model.add(Conv2D(8, (3, 3), activation='relu', padding='same'))\n",
        "# sous couche de convolutionn 2D avec 8 neurones de taille (3,3) \n",
        "model.add(MaxPooling2D((2, 2), padding='same'))\n",
        "# sous_échantillonnage de facteur 2\n",
        "# sous couche Maxpooling est pour réduire les dimensions spatiales du volume de sortie\n",
        "model.add(Conv2D(8, (3, 3), activation='relu', padding='same'))\n",
        "# sous couche de convolutionn 2D avec 8 neurones de taille (3,3) \n",
        "model.add(MaxPooling2D((2, 2), padding='same'))\n",
        "# sous_échantillonnage de facteur 2\n",
        "# sous couche Maxpooling est pour réduire les dimensions spatiales du volume de sortie\n",
        "\n",
        "#Décodeur\n",
        "# sous couche de convolutionn 2D avec 8 neurones de taille (3,3)\n",
        "model.add(Conv2D(8, (3, 3), activation='relu', padding='same'))\n",
        "model.add(UpSampling2D((2, 2))) # sous couche de sur-échantillonnage de facteur 2,2\n",
        "model.add(Conv2D(8, (3, 3), activation='relu', padding='same'))\n",
        "# sous couche de convolutionn 2D avec 8 neurones de taille (3,3)\n",
        "model.add(UpSampling2D((2, 2)))\n",
        "# sous couche de sur-échantillonnage de facteur 2,2\n",
        "model.add(Conv2D(32, (3, 3), activation='relu'))\n",
        "# sous couche de convolutionn 2D avec 8 neurones de taille (3,3)\n",
        "model.add(UpSampling2D((2, 2)))\n",
        "# sous couche de sur-échantillonnage de facteur 2,2\n",
        "model.add(Conv2D(1, (3, 3), activation='relu', padding='same'))\n",
        "# couche de sortie convolutionn 2D avec 8 neurones de taille (3,3)\n",
        "\n",
        "# 13 couches en total\n",
        "# l'entrée est une image de 28 pixel par 28 et pour chaque pixel un vecteur de une seule composante (28, 28, 1)\n"
      ]
    },
    {
      "cell_type": "markdown",
      "metadata": {
        "id": "KxkBlEtxGpVO"
      },
      "source": [
        "## 9) Configurez l'architecture avant la phase d'entraiement en choisissant : \n",
        "- la fonction de côut 'mean_squared_error', \n",
        "- l'optimization :  'adam'\n",
        "- la métrique de mesure de la performance : 'accuracy'Nouvelle section"
      ]
    },
    {
      "cell_type": "code",
      "execution_count": null,
      "metadata": {
        "id": "rpJdcpHYGEEc"
      },
      "outputs": [],
      "source": [
        "model.compile(loss='mean_squared_error', optimizer = 'adam', metrics=['accuracy'])"
      ]
    },
    {
      "cell_type": "markdown",
      "metadata": {
        "id": "Xra-U-UkHgEd"
      },
      "source": [
        "## 10) Donnez un aperçu du modèle et analysez le réseau."
      ]
    },
    {
      "cell_type": "code",
      "execution_count": null,
      "metadata": {
        "id": "l2oY7ZMwHgj2",
        "outputId": "baa97d0f-b782-49ba-cf56-7a8cc4d21dd1"
      },
      "outputs": [
        {
          "name": "stdout",
          "output_type": "stream",
          "text": [
            "Model: \"sequential_4\"\n",
            "_________________________________________________________________\n",
            " Layer (type)                Output Shape              Param #   \n",
            "=================================================================\n",
            " conv2d_28 (Conv2D)          (None, 28, 28, 32)        320       \n",
            "                                                                 \n",
            " max_pooling2d_12 (MaxPoolin  (None, 14, 14, 32)       0         \n",
            " g2D)                                                            \n",
            "                                                                 \n",
            " conv2d_29 (Conv2D)          (None, 14, 14, 8)         2312      \n",
            "                                                                 \n",
            " max_pooling2d_13 (MaxPoolin  (None, 7, 7, 8)          0         \n",
            " g2D)                                                            \n",
            "                                                                 \n",
            " conv2d_30 (Conv2D)          (None, 7, 7, 8)           584       \n",
            "                                                                 \n",
            " max_pooling2d_14 (MaxPoolin  (None, 4, 4, 8)          0         \n",
            " g2D)                                                            \n",
            "                                                                 \n",
            " conv2d_31 (Conv2D)          (None, 4, 4, 8)           584       \n",
            "                                                                 \n",
            " up_sampling2d_12 (UpSamplin  (None, 8, 8, 8)          0         \n",
            " g2D)                                                            \n",
            "                                                                 \n",
            " conv2d_32 (Conv2D)          (None, 8, 8, 8)           584       \n",
            "                                                                 \n",
            " up_sampling2d_13 (UpSamplin  (None, 16, 16, 8)        0         \n",
            " g2D)                                                            \n",
            "                                                                 \n",
            " conv2d_33 (Conv2D)          (None, 14, 14, 32)        2336      \n",
            "                                                                 \n",
            " up_sampling2d_14 (UpSamplin  (None, 28, 28, 32)       0         \n",
            " g2D)                                                            \n",
            "                                                                 \n",
            " conv2d_34 (Conv2D)          (None, 28, 28, 1)         289       \n",
            "                                                                 \n",
            "=================================================================\n",
            "Total params: 7,009\n",
            "Trainable params: 7,009\n",
            "Non-trainable params: 0\n",
            "_________________________________________________________________\n",
            "None\n"
          ]
        }
      ],
      "source": [
        "print(model.summary())"
      ]
    },
    {
      "cell_type": "markdown",
      "metadata": {
        "id": "W9X4MDjEHip5"
      },
      "source": [
        "## 11) Entrainez le modèle en utilisant par exemple 10 episodes et un batch_size de 256."
      ]
    },
    {
      "cell_type": "code",
      "execution_count": null,
      "metadata": {
        "id": "E4njOuy7GIiK",
        "outputId": "45cbb5fa-7bf6-44c6-fe71-36c4713b8999"
      },
      "outputs": [
        {
          "name": "stdout",
          "output_type": "stream",
          "text": [
            "Epoch 1/10\n",
            "235/235 [==============================] - 40s 167ms/step - loss: 0.0566 - accuracy: 0.7979\n",
            "Epoch 2/10\n",
            "235/235 [==============================] - 45s 191ms/step - loss: 0.0401 - accuracy: 0.7993\n",
            "Epoch 3/10\n",
            "235/235 [==============================] - 45s 190ms/step - loss: 0.0351 - accuracy: 0.8016\n",
            "Epoch 4/10\n",
            "235/235 [==============================] - 55s 236ms/step - loss: 0.0321 - accuracy: 0.8031\n",
            "Epoch 5/10\n",
            "235/235 [==============================] - 49s 207ms/step - loss: 0.0300 - accuracy: 0.8043\n",
            "Epoch 6/10\n",
            "235/235 [==============================] - 54s 232ms/step - loss: 0.0286 - accuracy: 0.8052\n",
            "Epoch 7/10\n",
            "235/235 [==============================] - 55s 233ms/step - loss: 0.0275 - accuracy: 0.8058\n",
            "Epoch 8/10\n",
            "235/235 [==============================] - 53s 226ms/step - loss: 0.0266 - accuracy: 0.8062\n",
            "Epoch 9/10\n",
            "235/235 [==============================] - 49s 208ms/step - loss: 0.0259 - accuracy: 0.8066\n",
            "Epoch 10/10\n",
            "235/235 [==============================] - 74s 317ms/step - loss: 0.0253 - accuracy: 0.8069\n"
          ]
        },
        {
          "data": {
            "text/plain": [
              "<keras.callbacks.History at 0x1ef2cc6d040>"
            ]
          },
          "execution_count": 37,
          "metadata": {},
          "output_type": "execute_result"
        }
      ],
      "source": [
        "model.fit(x_train_noisy, x_train, batch_size=256, epochs =10, shuffle = False)"
      ]
    },
    {
      "cell_type": "markdown",
      "metadata": {
        "id": "OSQIOY3pHjyv"
      },
      "source": [
        "## 12) Evaluez, sauvegardez (denoising_autoencoder.model) le modèle."
      ]
    },
    {
      "cell_type": "code",
      "execution_count": null,
      "metadata": {
        "id": "oQOesAlzGMrK",
        "outputId": "dd5f4092-c502-476f-cbc5-0d0bacf78f55"
      },
      "outputs": [
        {
          "name": "stdout",
          "output_type": "stream",
          "text": [
            "313/313 [==============================] - 3s 10ms/step - loss: 0.0250 - accuracy: 0.8073\n",
            "[0.025041956454515457, 0.8073357343673706]\n",
            "INFO:tensorflow:Assets written to: denoising_autoencoder.model\\assets\n"
          ]
        }
      ],
      "source": [
        "print(model.evaluate(x_test_noisy, x_test))\n",
        "\n",
        "model.save('denoising_autoencoder.model')"
      ]
    },
    {
      "cell_type": "markdown",
      "metadata": {
        "id": "n0cRJs1cJRkE"
      },
      "source": [
        "## 13) Prédisez puis affichez une dizaine d'images bruitées que vous comparerez à leurs  versions débruitées par l'autoencodeur."
      ]
    },
    {
      "cell_type": "code",
      "execution_count": null,
      "metadata": {
        "id": "CnaTIsQRJRGQ",
        "outputId": "119a786b-2c2f-4633-e806-f4b96dc3e3ee"
      },
      "outputs": [
        {
          "data": {
            "image/png": "[encoded data removed]",
            "text/plain": [
              "<Figure size 2880x288 with 20 Axes>"
            ]
          },
          "metadata": {
            "needs_background": "light"
          },
          "output_type": "display_data"
        }
      ],
      "source": [
        "no_noise_img =model.predict(x_test_noisy)\n",
        "\n",
        "plt.figure(figsize=(40, 4))\n",
        "for i in range(10):\n",
        "    # display original\n",
        "    ax = plt.subplot(3, 20, i + 1)\n",
        "    plt.imshow(x_test_noisy[i].reshape(28, 28), cmap=\"binary\")\n",
        "    \n",
        "    # display reconstructed (after noise removed) image\n",
        "    ax = plt.subplot(3, 20, 40 +i+ 1)\n",
        "    plt.imshow(no_noise_img[i].reshape(28, 28), cmap=\"binary\")\n",
        "\n",
        "plt.show()"
      ]
    },
    {
      "cell_type": "markdown",
      "metadata": {
        "id": "6jqiR8xbqQxV"
      },
      "source": [
        "On peut voir les chiffres clairement avec l'autoencodeur "
      ]
    },
    {
      "cell_type": "markdown",
      "metadata": {
        "id": "2ph9AVrOPL_6"
      },
      "source": [
        "# **Partie III -- Détection d'anomalies**\n",
        "L'objectif de cette partie est déceler une anomalie dans les données en utilsant un autoencodeur. "
      ]
    },
    {
      "cell_type": "markdown",
      "metadata": {
        "id": "T5_T7C4NjTud"
      },
      "source": [
        "## 1) Lisez et analysez le fichier csv. Que contient df ?"
      ]
    },
    {
      "cell_type": "code",
      "execution_count": null,
      "metadata": {
        "id": "4_rq79WCqQxV",
        "outputId": "3538481f-606d-4098-cb3f-fc16d9b0606f"
      },
      "outputs": [
        {
          "name": "stdout",
          "output_type": "stream",
          "text": [
            "C:\\Users\\Eyq\\OneDrive\\Desktop\n"
          ]
        }
      ],
      "source": [
        "cd \"C:\\Users\\Eyq\\OneDrive\\Desktop\""
      ]
    },
    {
      "cell_type": "code",
      "execution_count": null,
      "metadata": {
        "id": "S9BTx3cFPLFk",
        "outputId": "9fa24311-de4c-4406-9058-b713b1e7faae"
      },
      "outputs": [
        {
          "name": "stdout",
          "output_type": "stream",
          "text": [
            "       Date  Power  Detector Quality\n",
            "0  1-Jan-16     96         8    Good\n",
            "1  2-Jan-16     96        10    Good\n",
            "2  3-Jan-16     91         8    Good\n",
            "3  4-Jan-16     97         9    Good\n",
            "4  5-Jan-16     91        11    Good\n",
            "Quality\n",
            "Bad      407\n",
            "Good    1054\n",
            "Name: Quality, dtype: int64\n"
          ]
        }
      ],
      "source": [
        "import pandas as pd\n",
        "df = pd.read_csv(\"anomaly.csv\")\n",
        "\n",
        "print(df.head())\n",
        "print(df.groupby('Quality')['Quality'].count())"
      ]
    },
    {
      "cell_type": "markdown",
      "metadata": {
        "id": "ZLwtlJkyjreI"
      },
      "source": [
        "## 2) Nettoyez le fichier anomaly.csv (supprimer 'Date')"
      ]
    },
    {
      "cell_type": "code",
      "execution_count": null,
      "metadata": {
        "id": "1ClgxTDikMOr"
      },
      "outputs": [],
      "source": [
        "df=df.drop(['Date'],axis=1)"
      ]
    },
    {
      "cell_type": "code",
      "execution_count": null,
      "metadata": {
        "id": "7CqbnEstqQxW",
        "outputId": "74c00d7b-95f1-411e-acae-155d2b3695d6"
      },
      "outputs": [
        {
          "data": {
            "text/html": [
              "<div>\n",
              "<style scoped>\n",
              "    .dataframe tbody tr th:only-of-type {\n",
              "        vertical-align: middle;\n",
              "    }\n",
              "\n",
              "    .dataframe tbody tr th {\n",
              "        vertical-align: top;\n",
              "    }\n",
              "\n",
              "    .dataframe thead th {\n",
              "        text-align: right;\n",
              "    }\n",
              "</style>\n",
              "<table border=\"1\" class=\"dataframe\">\n",
              "  <thead>\n",
              "    <tr style=\"text-align: right;\">\n",
              "      <th></th>\n",
              "      <th>Power</th>\n",
              "      <th>Detector</th>\n",
              "      <th>Quality</th>\n",
              "    </tr>\n",
              "  </thead>\n",
              "  <tbody>\n",
              "    <tr>\n",
              "      <th>0</th>\n",
              "      <td>96</td>\n",
              "      <td>8</td>\n",
              "      <td>Good</td>\n",
              "    </tr>\n",
              "    <tr>\n",
              "      <th>1</th>\n",
              "      <td>96</td>\n",
              "      <td>10</td>\n",
              "      <td>Good</td>\n",
              "    </tr>\n",
              "    <tr>\n",
              "      <th>2</th>\n",
              "      <td>91</td>\n",
              "      <td>8</td>\n",
              "      <td>Good</td>\n",
              "    </tr>\n",
              "    <tr>\n",
              "      <th>3</th>\n",
              "      <td>97</td>\n",
              "      <td>9</td>\n",
              "      <td>Good</td>\n",
              "    </tr>\n",
              "    <tr>\n",
              "      <th>4</th>\n",
              "      <td>91</td>\n",
              "      <td>11</td>\n",
              "      <td>Good</td>\n",
              "    </tr>\n",
              "  </tbody>\n",
              "</table>\n",
              "</div>"
            ],
            "text/plain": [
              "   Power  Detector Quality\n",
              "0     96         8    Good\n",
              "1     96        10    Good\n",
              "2     91         8    Good\n",
              "3     97         9    Good\n",
              "4     91        11    Good"
            ]
          },
          "execution_count": 41,
          "metadata": {},
          "output_type": "execute_result"
        }
      ],
      "source": [
        "df.head()"
      ]
    },
    {
      "cell_type": "markdown",
      "metadata": {
        "id": "r-7xmp77kOpd"
      },
      "source": [
        "## 3) Préparez le jeu de données en expliquant les différentes lignes de code ci-dessous : "
      ]
    },
    {
      "cell_type": "code",
      "execution_count": null,
      "metadata": {
        "id": "lG91ZJrHzkqO",
        "outputId": "997e41e7-c20b-4220-9698-08aaa691b131"
      },
      "outputs": [
        {
          "name": "stderr",
          "output_type": "stream",
          "text": [
            "C:\\Users\\Eyq\\AppData\\Local\\Temp/ipykernel_12516/808736868.py:2: SettingWithCopyWarning: \n",
            "A value is trying to be set on a copy of a slice from a DataFrame\n",
            "\n",
            "See the caveats in the documentation: https://pandas.pydata.org/pandas-docs/stable/user_guide/indexing.html#returning-a-view-versus-a-copy\n",
            "  df.Quality[df.Quality == 'Good'] = 1 # affecter 1 à good\n",
            "C:\\Users\\Eyq\\AppData\\Local\\Temp/ipykernel_12516/808736868.py:3: SettingWithCopyWarning: \n",
            "A value is trying to be set on a copy of a slice from a DataFrame\n",
            "\n",
            "See the caveats in the documentation: https://pandas.pydata.org/pandas-docs/stable/user_guide/indexing.html#returning-a-view-versus-a-copy\n",
            "  df.Quality[df.Quality == 'Bad'] = 2 #ffecter 2 à bad\n"
          ]
        }
      ],
      "source": [
        "#COnvert non-numeric to numeric\n",
        "df.Quality[df.Quality == 'Good'] = 1 # affecter 1 à good\n",
        "df.Quality[df.Quality == 'Bad'] = 2 #ffecter 2 à bad"
      ]
    },
    {
      "cell_type": "code",
      "execution_count": null,
      "metadata": {
        "id": "eLTPfawKjnvp",
        "outputId": "e1995009-3b5e-4be1-8f36-037c07ec300b"
      },
      "outputs": [
        {
          "name": "stdout",
          "output_type": "stream",
          "text": [
            "Good count: 1054\n",
            "Bad count: 407\n"
          ]
        }
      ],
      "source": [
        "# Séparation des données \"good\" des données \"bad\"\n",
        "good_mask = df['Quality']== 1 \n",
        "bad_mask = df['Quality']== 2 \n",
        "\n",
        "df.drop('Quality',axis=1,inplace=True)\n",
        "df_good = df[good_mask]\n",
        "df_bad = df[bad_mask]\n",
        "\n",
        "print(f\"Good count: {len(df_good)}\")\n",
        "print(f\"Bad count: {len(df_bad)}\")\n",
        "\n",
        "# Jeu de données\n",
        "x_good = df_good.values\n",
        "x_bad = df_bad.values"
      ]
    },
    {
      "cell_type": "markdown",
      "metadata": {
        "id": "3JI29AsQjMP7"
      },
      "source": [
        "## 4) Préparez le jeu de données d'entrainement et de test."
      ]
    },
    {
      "cell_type": "code",
      "execution_count": null,
      "metadata": {
        "id": "uQWgeNY3jM0K",
        "outputId": "059dabcf-fbd9-43f9-d6b6-d11414282e52"
      },
      "outputs": [
        {
          "name": "stdout",
          "output_type": "stream",
          "text": [
            "Good train count: 790\n",
            "Good test count: 264\n"
          ]
        }
      ],
      "source": [
        "from sklearn.model_selection import train_test_split\n",
        "\n",
        "x_good_train, x_good_test = train_test_split(\n",
        "        x_good, test_size=0.25, random_state=42)\n",
        "\n",
        "print(f\"Good train count: {len(x_good_train)}\")\n",
        "print(f\"Good test count: {len(x_good_test)}\")"
      ]
    },
    {
      "cell_type": "markdown",
      "metadata": {
        "id": "j3YjhXKcioBw"
      },
      "source": [
        "## 5) Expliquez l'architecture du réseau décrite ci-dessous. Identifiez le type de réseau de neurones."
      ]
    },
    {
      "cell_type": "code",
      "execution_count": null,
      "metadata": {
        "id": "D1zcBMxFiyYY"
      },
      "outputs": [],
      "source": [
        "model = Sequential() #type séquentiel\n",
        "model.add(Dense(10, input_dim=x_good.shape[1], activation='relu'))\n",
        "#couche d'entrée avec 10 neurones et une fonction d'activation relu \n",
        "# dimension d'entrée égale à 2\n",
        "model.add(Dense(3, activation='relu'))\n",
        "#sous couche avec 3 poids ou 3 neurones et une fonction d'activation relu(regression)\n",
        "model.add(Dense(10, activation='relu'))\n",
        "#sous couche avec 10 poids ou 10 neurones et une fonction d'activation relu(regression)\n",
        "model.add(Dense(x_good.shape[1])) \n",
        "#couche de sortie avec 2 poids"
      ]
    },
    {
      "cell_type": "markdown",
      "metadata": {
        "id": "vt4KIQOii6YL"
      },
      "source": [
        "## 6) Configurez l'architecture avant la phase d'entraiement en choisissant :\n",
        "- la fonction de côut 'mean_squared_error',\n",
        "- l'optimization : 'adam'\n",
        "- la métrique de mesure de la performance : 'accuracy'"
      ]
    },
    {
      "cell_type": "code",
      "execution_count": null,
      "metadata": {
        "id": "m-PWAlnHi4-f"
      },
      "outputs": [],
      "source": [
        "model.compile(loss='mean_squared_error', optimizer = 'adam', metrics=['accuracy'])"
      ]
    },
    {
      "cell_type": "markdown",
      "metadata": {
        "id": "0zTUXiM5i9G3"
      },
      "source": [
        "## 7) Donnez un aperçu du modèle et analysez le réseau."
      ]
    },
    {
      "cell_type": "code",
      "execution_count": null,
      "metadata": {
        "id": "hNgnxkr3pFhx",
        "outputId": "65f63190-9158-4f4c-fe9a-93ab3f20aba9"
      },
      "outputs": [
        {
          "name": "stdout",
          "output_type": "stream",
          "text": [
            "Model: \"sequential_5\"\n",
            "_________________________________________________________________\n",
            " Layer (type)                Output Shape              Param #   \n",
            "=================================================================\n",
            " dense_4 (Dense)             (None, 10)                30        \n",
            "                                                                 \n",
            " dense_5 (Dense)             (None, 3)                 33        \n",
            "                                                                 \n",
            " dense_6 (Dense)             (None, 10)                40        \n",
            "                                                                 \n",
            " dense_7 (Dense)             (None, 2)                 22        \n",
            "                                                                 \n",
            "=================================================================\n",
            "Total params: 125\n",
            "Trainable params: 125\n",
            "Non-trainable params: 0\n",
            "_________________________________________________________________\n",
            "None\n"
          ]
        }
      ],
      "source": [
        "print(model.summary())"
      ]
    },
    {
      "cell_type": "markdown",
      "metadata": {
        "id": "tRw_lJICpdka"
      },
      "source": [
        "## 8) Entrainez le modèle en utilisant par exemple 100 episodes et un batch_size de XXX. "
      ]
    },
    {
      "cell_type": "code",
      "execution_count": null,
      "metadata": {
        "id": "CV3-T2XLqQxX",
        "outputId": "87bdf067-1530-46dc-abcb-e55385bf145b"
      },
      "outputs": [
        {
          "name": "stdout",
          "output_type": "stream",
          "text": [
            "      Power  Detector\n",
            "0        96         8\n",
            "1        96        10\n",
            "2        91         8\n",
            "3        97         9\n",
            "4        91        11\n",
            "...     ...       ...\n",
            "1456     93         8\n",
            "1457     91        10\n",
            "1458     95         8\n",
            "1459     91        10\n",
            "1460    100        12\n",
            "\n",
            "[1054 rows x 2 columns]\n"
          ]
        }
      ],
      "source": [
        "print(df_good)"
      ]
    },
    {
      "cell_type": "code",
      "execution_count": null,
      "metadata": {
        "id": "rjwiqpFti9dY",
        "outputId": "1ebee0c1-bd70-4116-fff2-e88ed465da4b"
      },
      "outputs": [
        {
          "name": "stdout",
          "output_type": "stream",
          "text": [
            "Epoch 1/100\n",
            "25/25 [==============================] - 0s 1ms/step - loss: 4555.7847 - accuracy: 0.0000e+00\n",
            "Epoch 2/100\n",
            "25/25 [==============================] - 0s 818us/step - loss: 4454.3706 - accuracy: 0.0000e+00\n",
            "Epoch 3/100\n",
            "25/25 [==============================] - 0s 879us/step - loss: 4250.8198 - accuracy: 0.0000e+00\n",
            "Epoch 4/100\n",
            "25/25 [==============================] - 0s 935us/step - loss: 3850.8782 - accuracy: 0.0000e+00\n",
            "Epoch 5/100\n",
            "25/25 [==============================] - 0s 888us/step - loss: 3291.7896 - accuracy: 0.6987\n",
            "Epoch 6/100\n",
            "25/25 [==============================] - 0s 815us/step - loss: 2567.6914 - accuracy: 1.0000\n",
            "Epoch 7/100\n",
            "25/25 [==============================] - 0s 882us/step - loss: 1709.2350 - accuracy: 1.0000\n",
            "Epoch 8/100\n",
            "25/25 [==============================] - 0s 747us/step - loss: 867.2518 - accuracy: 1.0000\n",
            "Epoch 9/100\n",
            "25/25 [==============================] - 0s 955us/step - loss: 277.6393 - accuracy: 1.0000\n",
            "Epoch 10/100\n",
            "25/25 [==============================] - 0s 847us/step - loss: 41.1599 - accuracy: 1.0000\n",
            "Epoch 11/100\n",
            "25/25 [==============================] - 0s 825us/step - loss: 2.9253 - accuracy: 1.0000\n",
            "Epoch 12/100\n",
            "25/25 [==============================] - 0s 815us/step - loss: 1.7327 - accuracy: 1.0000\n",
            "Epoch 13/100\n",
            "25/25 [==============================] - 0s 800us/step - loss: 1.6966 - accuracy: 1.0000\n",
            "Epoch 14/100\n",
            "25/25 [==============================] - 0s 733us/step - loss: 1.7118 - accuracy: 1.0000\n",
            "Epoch 15/100\n",
            "25/25 [==============================] - 0s 872us/step - loss: 1.6773 - accuracy: 1.0000\n",
            "Epoch 16/100\n",
            "25/25 [==============================] - 0s 798us/step - loss: 1.6690 - accuracy: 1.0000\n",
            "Epoch 17/100\n",
            "25/25 [==============================] - 0s 806us/step - loss: 1.6695 - accuracy: 1.0000\n",
            "Epoch 18/100\n",
            "25/25 [==============================] - 0s 783us/step - loss: 1.6881 - accuracy: 1.0000\n",
            "Epoch 19/100\n",
            "25/25 [==============================] - 0s 748us/step - loss: 1.6735 - accuracy: 1.0000\n",
            "Epoch 20/100\n",
            "25/25 [==============================] - 0s 873us/step - loss: 1.6695 - accuracy: 1.0000\n",
            "Epoch 21/100\n",
            "25/25 [==============================] - 0s 800us/step - loss: 1.6664 - accuracy: 1.0000\n",
            "Epoch 22/100\n",
            "25/25 [==============================] - 0s 713us/step - loss: 1.6631 - accuracy: 1.0000\n",
            "Epoch 23/100\n",
            "25/25 [==============================] - 0s 729us/step - loss: 1.6604 - accuracy: 1.0000\n",
            "Epoch 24/100\n",
            "25/25 [==============================] - 0s 752us/step - loss: 1.6609 - accuracy: 1.0000\n",
            "Epoch 25/100\n",
            "25/25 [==============================] - 0s 706us/step - loss: 1.6623 - accuracy: 1.0000\n",
            "Epoch 26/100\n",
            "25/25 [==============================] - 0s 706us/step - loss: 1.6751 - accuracy: 1.0000\n",
            "Epoch 27/100\n",
            "25/25 [==============================] - 0s 706us/step - loss: 1.6771 - accuracy: 1.0000\n",
            "Epoch 28/100\n",
            "25/25 [==============================] - 0s 757us/step - loss: 1.6633 - accuracy: 1.0000\n",
            "Epoch 29/100\n",
            "25/25 [==============================] - 0s 813us/step - loss: 1.6541 - accuracy: 1.0000\n",
            "Epoch 30/100\n",
            "25/25 [==============================] - 0s 637us/step - loss: 1.6560 - accuracy: 1.0000\n",
            "Epoch 31/100\n",
            "25/25 [==============================] - 0s 669us/step - loss: 1.6617 - accuracy: 1.0000\n",
            "Epoch 32/100\n",
            "25/25 [==============================] - 0s 623us/step - loss: 1.6621 - accuracy: 1.0000\n",
            "Epoch 33/100\n",
            "25/25 [==============================] - 0s 614us/step - loss: 1.6569 - accuracy: 1.0000\n",
            "Epoch 34/100\n",
            "25/25 [==============================] - 0s 655us/step - loss: 1.6470 - accuracy: 1.0000\n",
            "Epoch 35/100\n",
            "25/25 [==============================] - 0s 709us/step - loss: 1.6617 - accuracy: 1.0000\n",
            "Epoch 36/100\n",
            "25/25 [==============================] - 0s 752us/step - loss: 1.6431 - accuracy: 1.0000\n",
            "Epoch 37/100\n",
            "25/25 [==============================] - 0s 623us/step - loss: 1.6428 - accuracy: 1.0000\n",
            "Epoch 38/100\n",
            "25/25 [==============================] - 0s 665us/step - loss: 1.6459 - accuracy: 1.0000\n",
            "Epoch 39/100\n",
            "25/25 [==============================] - 0s 748us/step - loss: 1.6512 - accuracy: 1.0000\n",
            "Epoch 40/100\n",
            "25/25 [==============================] - 0s 629us/step - loss: 1.6365 - accuracy: 1.0000\n",
            "Epoch 41/100\n",
            "25/25 [==============================] - 0s 664us/step - loss: 1.6353 - accuracy: 1.0000\n",
            "Epoch 42/100\n",
            "25/25 [==============================] - 0s 706us/step - loss: 1.6352 - accuracy: 1.0000\n",
            "Epoch 43/100\n",
            "25/25 [==============================] - 0s 628us/step - loss: 1.6451 - accuracy: 1.0000\n",
            "Epoch 44/100\n",
            "25/25 [==============================] - 0s 639us/step - loss: 1.6591 - accuracy: 1.0000\n",
            "Epoch 45/100\n",
            "25/25 [==============================] - 0s 589us/step - loss: 1.6356 - accuracy: 1.0000\n",
            "Epoch 46/100\n",
            "25/25 [==============================] - 0s 664us/step - loss: 1.6344 - accuracy: 1.0000\n",
            "Epoch 47/100\n",
            "25/25 [==============================] - 0s 642us/step - loss: 1.6335 - accuracy: 1.0000\n",
            "Epoch 48/100\n",
            "25/25 [==============================] - 0s 671us/step - loss: 1.6319 - accuracy: 1.0000\n",
            "Epoch 49/100\n",
            "25/25 [==============================] - 0s 677us/step - loss: 1.6198 - accuracy: 1.0000\n",
            "Epoch 50/100\n",
            "25/25 [==============================] - 0s 772us/step - loss: 1.6433 - accuracy: 1.0000\n",
            "Epoch 51/100\n",
            "25/25 [==============================] - 0s 581us/step - loss: 1.6292 - accuracy: 1.0000\n",
            "Epoch 52/100\n",
            "25/25 [==============================] - 0s 992us/step - loss: 1.6343 - accuracy: 1.0000\n",
            "Epoch 53/100\n",
            "25/25 [==============================] - 0s 831us/step - loss: 1.6105 - accuracy: 1.0000\n",
            "Epoch 54/100\n",
            "25/25 [==============================] - 0s 731us/step - loss: 1.6200 - accuracy: 1.0000\n",
            "Epoch 55/100\n",
            "25/25 [==============================] - 0s 665us/step - loss: 1.6200 - accuracy: 1.0000\n",
            "Epoch 56/100\n",
            "25/25 [==============================] - 0s 628us/step - loss: 1.6257 - accuracy: 1.0000\n",
            "Epoch 57/100\n",
            "25/25 [==============================] - 0s 623us/step - loss: 1.6051 - accuracy: 1.0000\n",
            "Epoch 58/100\n",
            "25/25 [==============================] - 0s 629us/step - loss: 1.6094 - accuracy: 1.0000\n",
            "Epoch 59/100\n",
            "25/25 [==============================] - 0s 685us/step - loss: 1.6026 - accuracy: 1.0000\n",
            "Epoch 60/100\n",
            "25/25 [==============================] - 0s 636us/step - loss: 1.6011 - accuracy: 1.0000\n",
            "Epoch 61/100\n",
            "25/25 [==============================] - 0s 650us/step - loss: 1.5962 - accuracy: 1.0000\n",
            "Epoch 62/100\n",
            "25/25 [==============================] - 0s 664us/step - loss: 1.6149 - accuracy: 1.0000\n",
            "Epoch 63/100\n",
            "25/25 [==============================] - 0s 694us/step - loss: 1.6265 - accuracy: 1.0000\n",
            "Epoch 64/100\n",
            "25/25 [==============================] - 0s 596us/step - loss: 1.6205 - accuracy: 1.0000\n",
            "Epoch 65/100\n",
            "25/25 [==============================] - 0s 640us/step - loss: 1.6080 - accuracy: 1.0000\n",
            "Epoch 66/100\n",
            "25/25 [==============================] - 0s 601us/step - loss: 1.5999 - accuracy: 1.0000\n",
            "Epoch 67/100\n",
            "25/25 [==============================] - 0s 688us/step - loss: 1.5867 - accuracy: 1.0000\n",
            "Epoch 68/100\n",
            "25/25 [==============================] - 0s 706us/step - loss: 1.5945 - accuracy: 1.0000\n",
            "Epoch 69/100\n",
            "25/25 [==============================] - 0s 678us/step - loss: 1.5836 - accuracy: 1.0000\n",
            "Epoch 70/100\n",
            "25/25 [==============================] - 0s 622us/step - loss: 1.6052 - accuracy: 1.0000\n",
            "Epoch 71/100\n",
            "25/25 [==============================] - 0s 649us/step - loss: 1.5823 - accuracy: 1.0000\n",
            "Epoch 72/100\n",
            "25/25 [==============================] - 0s 677us/step - loss: 1.5705 - accuracy: 1.0000\n",
            "Epoch 73/100\n",
            "25/25 [==============================] - 0s 671us/step - loss: 1.5753 - accuracy: 1.0000\n",
            "Epoch 74/100\n",
            "25/25 [==============================] - 0s 664us/step - loss: 1.5691 - accuracy: 1.0000\n",
            "Epoch 75/100\n",
            "25/25 [==============================] - 0s 693us/step - loss: 1.5662 - accuracy: 1.0000\n",
            "Epoch 76/100\n",
            "25/25 [==============================] - 0s 671us/step - loss: 1.5586 - accuracy: 1.0000\n",
            "Epoch 77/100\n",
            "25/25 [==============================] - 0s 602us/step - loss: 1.5571 - accuracy: 1.0000\n",
            "Epoch 78/100\n",
            "25/25 [==============================] - 0s 706us/step - loss: 1.5666 - accuracy: 1.0000\n",
            "Epoch 79/100\n",
            "25/25 [==============================] - 0s 581us/step - loss: 1.5665 - accuracy: 1.0000\n",
            "Epoch 80/100\n",
            "25/25 [==============================] - 0s 654us/step - loss: 1.5453 - accuracy: 1.0000\n",
            "Epoch 81/100\n",
            "25/25 [==============================] - 0s 589us/step - loss: 1.5554 - accuracy: 1.0000\n",
            "Epoch 82/100\n",
            "25/25 [==============================] - 0s 706us/step - loss: 1.5488 - accuracy: 1.0000\n",
            "Epoch 83/100\n",
            "25/25 [==============================] - 0s 671us/step - loss: 1.5617 - accuracy: 1.0000\n",
            "Epoch 84/100\n",
            "25/25 [==============================] - 0s 626us/step - loss: 1.5640 - accuracy: 1.0000\n",
            "Epoch 85/100\n",
            "25/25 [==============================] - 0s 704us/step - loss: 1.5616 - accuracy: 1.0000\n",
            "Epoch 86/100\n",
            "25/25 [==============================] - 0s 705us/step - loss: 1.5594 - accuracy: 1.0000\n",
            "Epoch 87/100\n",
            "25/25 [==============================] - 0s 664us/step - loss: 1.5460 - accuracy: 1.0000\n",
            "Epoch 88/100\n",
            "25/25 [==============================] - 0s 686us/step - loss: 1.5413 - accuracy: 1.0000\n",
            "Epoch 89/100\n",
            "25/25 [==============================] - 0s 664us/step - loss: 1.5242 - accuracy: 1.0000\n",
            "Epoch 90/100\n",
            "25/25 [==============================] - 0s 688us/step - loss: 1.5269 - accuracy: 1.0000\n",
            "Epoch 91/100\n",
            "25/25 [==============================] - 0s 636us/step - loss: 1.5198 - accuracy: 1.0000\n",
            "Epoch 92/100\n",
            "25/25 [==============================] - 0s 640us/step - loss: 1.5210 - accuracy: 1.0000\n",
            "Epoch 93/100\n",
            "25/25 [==============================] - 0s 660us/step - loss: 1.5122 - accuracy: 1.0000\n",
            "Epoch 94/100\n",
            "25/25 [==============================] - 0s 596us/step - loss: 1.5120 - accuracy: 1.0000\n",
            "Epoch 95/100\n",
            "25/25 [==============================] - 0s 623us/step - loss: 1.5131 - accuracy: 1.0000\n",
            "Epoch 96/100\n",
            "25/25 [==============================] - 0s 672us/step - loss: 1.5120 - accuracy: 1.0000\n",
            "Epoch 97/100\n",
            "25/25 [==============================] - 0s 687us/step - loss: 1.5167 - accuracy: 1.0000\n",
            "Epoch 98/100\n",
            "25/25 [==============================] - 0s 623us/step - loss: 1.5144 - accuracy: 1.0000\n",
            "Epoch 99/100\n",
            "25/25 [==============================] - 0s 664us/step - loss: 1.5394 - accuracy: 1.0000\n",
            "Epoch 100/100\n",
            "25/25 [==============================] - 0s 768us/step - loss: 1.5388 - accuracy: 1.0000\n"
          ]
        },
        {
          "data": {
            "text/plain": [
              "<keras.callbacks.History at 0x1b184d04d00>"
            ]
          },
          "execution_count": 123,
          "metadata": {},
          "output_type": "execute_result"
        }
      ],
      "source": [
        "model.fit(x_good_train, x_good_train, batch_size=32 ,epochs =100)"
      ]
    },
    {
      "cell_type": "markdown",
      "metadata": {
        "id": "UvKwhh-QjBlP"
      },
      "source": [
        "## 9) Evaluez le modèle entrainé. Affichez et interprétez les scores obtenus."
      ]
    },
    {
      "cell_type": "code",
      "execution_count": null,
      "metadata": {
        "id": "yHUqv9iyjCAD",
        "outputId": "bb95fa74-7b7f-433e-ca38-23c90a4db459"
      },
      "outputs": [
        {
          "name": "stdout",
          "output_type": "stream",
          "text": [
            "1.2298374295287577\n",
            "1.2283729946648247\n",
            "3.082762722490509\n"
          ]
        }
      ],
      "source": [
        "pred = model.predict(x_good_test)\n",
        "score1 = np.sqrt(metrics.mean_squared_error(pred,x_good_test))\n",
        "print (score1)\n",
        "pred = model.predict(x_good)\n",
        "score2 = np.sqrt(metrics.mean_squared_error(pred,x_good))\n",
        "print (score2)\n",
        "pred = model.predict(x_bad)\n",
        "score3 = np.sqrt(metrics.mean_squared_error(pred,x_bad))\n",
        "print (score3)\n"
      ]
    },
    {
      "cell_type": "markdown",
      "metadata": {
        "id": "t2xgTsgsqQxX"
      },
      "source": [
        "On obtient presque la même erreur avec les jeux de données x_good et x_good_test.\n",
        "Cependant, on obtient une valeur plus elevée avec le jeu de donnée x_bad.\n",
        "On peut conclure que le modèle prédit mieux les valeurs de X_good par rapport à X_bad.\n",
        "On peut expliquer ce phénomène par le fait d'entraîner le modèle sur le jeu de donnée x_good uniquement."
      ]
    }
  ],
  "metadata": {
    "colab": {
      "collapsed_sections": [],
      "name": "TP7_autoencodeurs_EBN.ipynb",
      "provenance": [],
      "include_colab_link": true
    },
    "kernelspec": {
      "display_name": "Python 3",
      "name": "python3"
    },
    "language_info": {
      "codemirror_mode": {
        "name": "ipython",
        "version": 3
      },
      "file_extension": ".py",
      "mimetype": "text/x-python",
      "name": "python",
      "nbconvert_exporter": "python",
      "pygments_lexer": "ipython3",
      "version": "3.8.8"
    }
  },
  "nbformat": 4,
  "nbformat_minor": 0
}