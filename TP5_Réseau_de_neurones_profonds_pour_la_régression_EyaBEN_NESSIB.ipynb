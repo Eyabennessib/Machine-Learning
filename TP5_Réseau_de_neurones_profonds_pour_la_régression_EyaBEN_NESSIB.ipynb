{
  "nbformat": 4,
  "nbformat_minor": 0,
  "metadata": {
    "colab": {
      "name": "TP5_Réseau de neurones profonds pour la régression.ipynb",
      "provenance": [],
      "collapsed_sections": [
        "TtaWKCc1qg6l"
      ],
      "authorship_tag": "ABX9TyNQxw3NZptN9QP6nt/+ggIs",
      "include_colab_link": true
    },
    "kernelspec": {
      "name": "python3",
      "display_name": "Python 3"
    },
    "language_info": {
      "name": "python"
    }
  },
  "cells": [
    {
      "cell_type": "markdown",
      "metadata": {
        "id": "view-in-github",
        "colab_type": "text"
      },
      "source": [
        "<a href=\"https://colab.research.google.com/github/Eyabennessib/Machine-Learning/blob/main/TP5_R%C3%A9seau_de_neurones_profonds_pour_la_r%C3%A9gression_EyaBEN_NESSIB.ipynb\" target=\"_parent\"><img src=\"https://colab.research.google.com/assets/colab-badge.svg\" alt=\"Open In Colab\"/></a>"
      ]
    },
    {
      "cell_type": "markdown",
      "source": [
        "Ce TP s’intéresse à la prédiction des prix des appartements à partir d’un ensemble d’attributs. Vous serez amené à construire votre premier réseau de neurones profonds"
      ],
      "metadata": {
        "id": "C2an2-8nqOjS"
      }
    },
    {
      "cell_type": "markdown",
      "source": [
        "# Prise en main de l’environnement de travail \n",
        "\n",
        "---"
      ],
      "metadata": {
        "id": "TtaWKCc1qg6l"
      }
    },
    {
      "cell_type": "code",
      "execution_count": 17,
      "metadata": {
        "colab": {
          "base_uri": "https://localhost:8080/"
        },
        "id": "DqXWZcPqLpiW",
        "outputId": "c5251f5c-11fa-4ab8-f17e-1e94ed077bc8"
      },
      "outputs": [
        {
          "output_type": "stream",
          "name": "stdout",
          "text": [
            "Model name:          Intel(R) Xeon(R) CPU @ 2.20GHz\n",
            "df: –h: No such file or directory\n",
            "Available\n",
            "69020032\n",
            "13302920\n",
            "/bin/bash: nvidia-smi: command not found\n"
          ]
        }
      ],
      "source": [
        "from psutil import * \n",
        "cpu_count() # indique le nombre de CPU \n",
        "!lscpu |grep 'Model name' # CPU mode and speed \n",
        "!df –h / | awk '{print $4}' # available Hard disk space \n",
        "!free –h –si | awk '/Mem:/{print $2}' # Usuable memory \n",
        "!nvidia-smi –L # GPU specifications."
      ]
    },
    {
      "cell_type": "markdown",
      "source": [
        "# A) Réseau de neurones profonds pour la régression \n"
      ],
      "metadata": {
        "id": "Umsw55UNqxFp"
      }
    },
    {
      "cell_type": "code",
      "source": [
        "from keras.models import Sequential \n",
        "from keras.layers import Dense \n",
        "from keras.wrappers.scikit_learn import KerasRegressor \n",
        "from pandas import read_csv \n",
        "from sklearn.model_selection import cross_val_score \n",
        "from sklearn.model_selection import KFold \n",
        "from sklearn.pipeline import Pipeline \n",
        "from sklearn.model_selection import train_test_split "
      ],
      "metadata": {
        "id": "8eIrcg4fNS1j"
      },
      "execution_count": 95,
      "outputs": []
    },
    {
      "cell_type": "markdown",
      "source": [
        "**Exercice 1 : Lecture et labellisation du jeu de données**"
      ],
      "metadata": {
        "id": "wN6fFyHsra7H"
      }
    },
    {
      "cell_type": "code",
      "source": [
        "df = read_csv(\"housing_data_for_regression.csv\", delim_whitespace=True, header=None)"
      ],
      "metadata": {
        "id": "rv2QlR9SN4Zh"
      },
      "execution_count": 96,
      "outputs": []
    },
    {
      "cell_type": "code",
      "source": [
        "df.describe() #Analyse du contenu df"
      ],
      "metadata": {
        "id": "EyKgP3EDnWQ1",
        "colab": {
          "base_uri": "https://localhost:8080/",
          "height": 364
        },
        "outputId": "7a68fba5-408a-4db9-84ac-9ddf677766f7"
      },
      "execution_count": 97,
      "outputs": [
        {
          "output_type": "execute_result",
          "data": {
            "text/html": [
              "\n",
              "  <div id=\"df-44f433ee-553e-4799-8b3a-5be46cb569e4\">\n",
              "    <div class=\"colab-df-container\">\n",
              "      <div>\n",
              "<style scoped>\n",
              "    .dataframe tbody tr th:only-of-type {\n",
              "        vertical-align: middle;\n",
              "    }\n",
              "\n",
              "    .dataframe tbody tr th {\n",
              "        vertical-align: top;\n",
              "    }\n",
              "\n",
              "    .dataframe thead th {\n",
              "        text-align: right;\n",
              "    }\n",
              "</style>\n",
              "<table border=\"1\" class=\"dataframe\">\n",
              "  <thead>\n",
              "    <tr style=\"text-align: right;\">\n",
              "      <th></th>\n",
              "      <th>0</th>\n",
              "      <th>1</th>\n",
              "      <th>2</th>\n",
              "      <th>3</th>\n",
              "      <th>4</th>\n",
              "      <th>5</th>\n",
              "      <th>6</th>\n",
              "      <th>7</th>\n",
              "      <th>8</th>\n",
              "      <th>9</th>\n",
              "      <th>10</th>\n",
              "      <th>11</th>\n",
              "      <th>12</th>\n",
              "      <th>13</th>\n",
              "    </tr>\n",
              "  </thead>\n",
              "  <tbody>\n",
              "    <tr>\n",
              "      <th>count</th>\n",
              "      <td>506.000000</td>\n",
              "      <td>506.000000</td>\n",
              "      <td>506.000000</td>\n",
              "      <td>506.000000</td>\n",
              "      <td>506.000000</td>\n",
              "      <td>506.000000</td>\n",
              "      <td>506.000000</td>\n",
              "      <td>506.000000</td>\n",
              "      <td>506.000000</td>\n",
              "      <td>506.000000</td>\n",
              "      <td>506.000000</td>\n",
              "      <td>506.000000</td>\n",
              "      <td>506.000000</td>\n",
              "      <td>506.000000</td>\n",
              "    </tr>\n",
              "    <tr>\n",
              "      <th>mean</th>\n",
              "      <td>3.613524</td>\n",
              "      <td>11.363636</td>\n",
              "      <td>11.136779</td>\n",
              "      <td>0.069170</td>\n",
              "      <td>0.554695</td>\n",
              "      <td>6.284634</td>\n",
              "      <td>68.574901</td>\n",
              "      <td>3.795043</td>\n",
              "      <td>9.549407</td>\n",
              "      <td>408.237154</td>\n",
              "      <td>18.455534</td>\n",
              "      <td>356.674032</td>\n",
              "      <td>12.653063</td>\n",
              "      <td>22.532806</td>\n",
              "    </tr>\n",
              "    <tr>\n",
              "      <th>std</th>\n",
              "      <td>8.601545</td>\n",
              "      <td>23.322453</td>\n",
              "      <td>6.860353</td>\n",
              "      <td>0.253994</td>\n",
              "      <td>0.115878</td>\n",
              "      <td>0.702617</td>\n",
              "      <td>28.148861</td>\n",
              "      <td>2.105710</td>\n",
              "      <td>8.707259</td>\n",
              "      <td>168.537116</td>\n",
              "      <td>2.164946</td>\n",
              "      <td>91.294864</td>\n",
              "      <td>7.141062</td>\n",
              "      <td>9.197104</td>\n",
              "    </tr>\n",
              "    <tr>\n",
              "      <th>min</th>\n",
              "      <td>0.006320</td>\n",
              "      <td>0.000000</td>\n",
              "      <td>0.460000</td>\n",
              "      <td>0.000000</td>\n",
              "      <td>0.385000</td>\n",
              "      <td>3.561000</td>\n",
              "      <td>2.900000</td>\n",
              "      <td>1.129600</td>\n",
              "      <td>1.000000</td>\n",
              "      <td>187.000000</td>\n",
              "      <td>12.600000</td>\n",
              "      <td>0.320000</td>\n",
              "      <td>1.730000</td>\n",
              "      <td>5.000000</td>\n",
              "    </tr>\n",
              "    <tr>\n",
              "      <th>25%</th>\n",
              "      <td>0.082045</td>\n",
              "      <td>0.000000</td>\n",
              "      <td>5.190000</td>\n",
              "      <td>0.000000</td>\n",
              "      <td>0.449000</td>\n",
              "      <td>5.885500</td>\n",
              "      <td>45.025000</td>\n",
              "      <td>2.100175</td>\n",
              "      <td>4.000000</td>\n",
              "      <td>279.000000</td>\n",
              "      <td>17.400000</td>\n",
              "      <td>375.377500</td>\n",
              "      <td>6.950000</td>\n",
              "      <td>17.025000</td>\n",
              "    </tr>\n",
              "    <tr>\n",
              "      <th>50%</th>\n",
              "      <td>0.256510</td>\n",
              "      <td>0.000000</td>\n",
              "      <td>9.690000</td>\n",
              "      <td>0.000000</td>\n",
              "      <td>0.538000</td>\n",
              "      <td>6.208500</td>\n",
              "      <td>77.500000</td>\n",
              "      <td>3.207450</td>\n",
              "      <td>5.000000</td>\n",
              "      <td>330.000000</td>\n",
              "      <td>19.050000</td>\n",
              "      <td>391.440000</td>\n",
              "      <td>11.360000</td>\n",
              "      <td>21.200000</td>\n",
              "    </tr>\n",
              "    <tr>\n",
              "      <th>75%</th>\n",
              "      <td>3.677083</td>\n",
              "      <td>12.500000</td>\n",
              "      <td>18.100000</td>\n",
              "      <td>0.000000</td>\n",
              "      <td>0.624000</td>\n",
              "      <td>6.623500</td>\n",
              "      <td>94.075000</td>\n",
              "      <td>5.188425</td>\n",
              "      <td>24.000000</td>\n",
              "      <td>666.000000</td>\n",
              "      <td>20.200000</td>\n",
              "      <td>396.225000</td>\n",
              "      <td>16.955000</td>\n",
              "      <td>25.000000</td>\n",
              "    </tr>\n",
              "    <tr>\n",
              "      <th>max</th>\n",
              "      <td>88.976200</td>\n",
              "      <td>100.000000</td>\n",
              "      <td>27.740000</td>\n",
              "      <td>1.000000</td>\n",
              "      <td>0.871000</td>\n",
              "      <td>8.780000</td>\n",
              "      <td>100.000000</td>\n",
              "      <td>12.126500</td>\n",
              "      <td>24.000000</td>\n",
              "      <td>711.000000</td>\n",
              "      <td>22.000000</td>\n",
              "      <td>396.900000</td>\n",
              "      <td>37.970000</td>\n",
              "      <td>50.000000</td>\n",
              "    </tr>\n",
              "  </tbody>\n",
              "</table>\n",
              "</div>\n",
              "      <button class=\"colab-df-convert\" onclick=\"convertToInteractive('df-44f433ee-553e-4799-8b3a-5be46cb569e4')\"\n",
              "              title=\"Convert this dataframe to an interactive table.\"\n",
              "              style=\"display:none;\">\n",
              "        \n",
              "  <svg xmlns=\"http://www.w3.org/2000/svg\" height=\"24px\"viewBox=\"0 0 24 24\"\n",
              "       width=\"24px\">\n",
              "    <path d=\"M0 0h24v24H0V0z\" fill=\"none\"/>\n",
              "    <path d=\"M18.56 5.44l.94 2.06.94-2.06 2.06-.94-2.06-.94-.94-2.06-.94 2.06-2.06.94zm-11 1L8.5 8.5l.94-2.06 2.06-.94-2.06-.94L8.5 2.5l-.94 2.06-2.06.94zm10 10l.94 2.06.94-2.06 2.06-.94-2.06-.94-.94-2.06-.94 2.06-2.06.94z\"/><path d=\"M17.41 7.96l-1.37-1.37c-.4-.4-.92-.59-1.43-.59-.52 0-1.04.2-1.43.59L10.3 9.45l-7.72 7.72c-.78.78-.78 2.05 0 2.83L4 21.41c.39.39.9.59 1.41.59.51 0 1.02-.2 1.41-.59l7.78-7.78 2.81-2.81c.8-.78.8-2.07 0-2.86zM5.41 20L4 18.59l7.72-7.72 1.47 1.35L5.41 20z\"/>\n",
              "  </svg>\n",
              "      </button>\n",
              "      \n",
              "  <style>\n",
              "    .colab-df-container {\n",
              "      display:flex;\n",
              "      flex-wrap:wrap;\n",
              "      gap: 12px;\n",
              "    }\n",
              "\n",
              "    .colab-df-convert {\n",
              "      background-color: #E8F0FE;\n",
              "      border: none;\n",
              "      border-radius: 50%;\n",
              "      cursor: pointer;\n",
              "      display: none;\n",
              "      fill: #1967D2;\n",
              "      height: 32px;\n",
              "      padding: 0 0 0 0;\n",
              "      width: 32px;\n",
              "    }\n",
              "\n",
              "    .colab-df-convert:hover {\n",
              "      background-color: #E2EBFA;\n",
              "      box-shadow: 0px 1px 2px rgba(60, 64, 67, 0.3), 0px 1px 3px 1px rgba(60, 64, 67, 0.15);\n",
              "      fill: #174EA6;\n",
              "    }\n",
              "\n",
              "    [theme=dark] .colab-df-convert {\n",
              "      background-color: #3B4455;\n",
              "      fill: #D2E3FC;\n",
              "    }\n",
              "\n",
              "    [theme=dark] .colab-df-convert:hover {\n",
              "      background-color: #434B5C;\n",
              "      box-shadow: 0px 1px 3px 1px rgba(0, 0, 0, 0.15);\n",
              "      filter: drop-shadow(0px 1px 2px rgba(0, 0, 0, 0.3));\n",
              "      fill: #FFFFFF;\n",
              "    }\n",
              "  </style>\n",
              "\n",
              "      <script>\n",
              "        const buttonEl =\n",
              "          document.querySelector('#df-44f433ee-553e-4799-8b3a-5be46cb569e4 button.colab-df-convert');\n",
              "        buttonEl.style.display =\n",
              "          google.colab.kernel.accessAllowed ? 'block' : 'none';\n",
              "\n",
              "        async function convertToInteractive(key) {\n",
              "          const element = document.querySelector('#df-44f433ee-553e-4799-8b3a-5be46cb569e4');\n",
              "          const dataTable =\n",
              "            await google.colab.kernel.invokeFunction('convertToInteractive',\n",
              "                                                     [key], {});\n",
              "          if (!dataTable) return;\n",
              "\n",
              "          const docLinkHtml = 'Like what you see? Visit the ' +\n",
              "            '<a target=\"_blank\" href=https://colab.research.google.com/notebooks/data_table.ipynb>data table notebook</a>'\n",
              "            + ' to learn more about interactive tables.';\n",
              "          element.innerHTML = '';\n",
              "          dataTable['output_type'] = 'display_data';\n",
              "          await google.colab.output.renderOutput(dataTable, element);\n",
              "          const docLink = document.createElement('div');\n",
              "          docLink.innerHTML = docLinkHtml;\n",
              "          element.appendChild(docLink);\n",
              "        }\n",
              "      </script>\n",
              "    </div>\n",
              "  </div>\n",
              "  "
            ],
            "text/plain": [
              "               0           1           2   ...          11          12          13\n",
              "count  506.000000  506.000000  506.000000  ...  506.000000  506.000000  506.000000\n",
              "mean     3.613524   11.363636   11.136779  ...  356.674032   12.653063   22.532806\n",
              "std      8.601545   23.322453    6.860353  ...   91.294864    7.141062    9.197104\n",
              "min      0.006320    0.000000    0.460000  ...    0.320000    1.730000    5.000000\n",
              "25%      0.082045    0.000000    5.190000  ...  375.377500    6.950000   17.025000\n",
              "50%      0.256510    0.000000    9.690000  ...  391.440000   11.360000   21.200000\n",
              "75%      3.677083   12.500000   18.100000  ...  396.225000   16.955000   25.000000\n",
              "max     88.976200  100.000000   27.740000  ...  396.900000   37.970000   50.000000\n",
              "\n",
              "[8 rows x 14 columns]"
            ]
          },
          "metadata": {},
          "execution_count": 97
        }
      ]
    },
    {
      "cell_type": "code",
      "source": [
        "feature_names = ['CRIM', 'ZN', 'INDUS', 'CHAS', 'NOX', 'RM', 'AGE', 'DIS', 'RAD', 'TAX','PTRATIO', 'B', 'LSTAT', 'MEDV'] \n",
        "df.columns = feature_names"
      ],
      "metadata": {
        "id": "7APJZ1vkna1j"
      },
      "execution_count": 98,
      "outputs": []
    },
    {
      "cell_type": "code",
      "source": [
        "print(df.head()) "
      ],
      "metadata": {
        "id": "oewKiK8Yn6K6",
        "colab": {
          "base_uri": "https://localhost:8080/"
        },
        "outputId": "cad9aa87-9820-4775-df24-335a01079fb4"
      },
      "execution_count": 99,
      "outputs": [
        {
          "output_type": "stream",
          "name": "stdout",
          "text": [
            "      CRIM    ZN  INDUS  CHAS    NOX  ...    TAX  PTRATIO       B  LSTAT  MEDV\n",
            "0  0.00632  18.0   2.31     0  0.538  ...  296.0     15.3  396.90   4.98  24.0\n",
            "1  0.02731   0.0   7.07     0  0.469  ...  242.0     17.8  396.90   9.14  21.6\n",
            "2  0.02729   0.0   7.07     0  0.469  ...  242.0     17.8  392.83   4.03  34.7\n",
            "3  0.03237   0.0   2.18     0  0.458  ...  222.0     18.7  394.63   2.94  33.4\n",
            "4  0.06905   0.0   2.18     0  0.458  ...  222.0     18.7  396.90   5.33  36.2\n",
            "\n",
            "[5 rows x 14 columns]\n"
          ]
        }
      ]
    },
    {
      "cell_type": "code",
      "source": [
        "df = df.rename(columns={'MEDV': 'PRICE'}) \n",
        "print(df.describe()) "
      ],
      "metadata": {
        "id": "lCePdM3voAYz",
        "colab": {
          "base_uri": "https://localhost:8080/"
        },
        "outputId": "77db0b7c-9a52-420d-d5b1-52f63f0a3f47"
      },
      "execution_count": 100,
      "outputs": [
        {
          "output_type": "stream",
          "name": "stdout",
          "text": [
            "             CRIM          ZN       INDUS  ...           B       LSTAT       PRICE\n",
            "count  506.000000  506.000000  506.000000  ...  506.000000  506.000000  506.000000\n",
            "mean     3.613524   11.363636   11.136779  ...  356.674032   12.653063   22.532806\n",
            "std      8.601545   23.322453    6.860353  ...   91.294864    7.141062    9.197104\n",
            "min      0.006320    0.000000    0.460000  ...    0.320000    1.730000    5.000000\n",
            "25%      0.082045    0.000000    5.190000  ...  375.377500    6.950000   17.025000\n",
            "50%      0.256510    0.000000    9.690000  ...  391.440000   11.360000   21.200000\n",
            "75%      3.677083   12.500000   18.100000  ...  396.225000   16.955000   25.000000\n",
            "max     88.976200  100.000000   27.740000  ...  396.900000   37.970000   50.000000\n",
            "\n",
            "[8 rows x 14 columns]\n"
          ]
        }
      ]
    },
    {
      "cell_type": "code",
      "source": [
        "X = df.drop('PRICE', axis = 1) \n",
        "y = df['PRICE'] "
      ],
      "metadata": {
        "id": "ash0J2otoMfi"
      },
      "execution_count": 101,
      "outputs": []
    },
    {
      "cell_type": "markdown",
      "source": [
        "**Exercice 2 : Construction et entrainement du modèle**\n",
        "\n"
      ],
      "metadata": {
        "id": "xszEFVqhocIZ"
      }
    },
    {
      "cell_type": "code",
      "source": [
        "X_train, X_test, y_train, y_test = train_test_split(X, y, test_size = 0.2, random_state = 20) "
      ],
      "metadata": {
        "id": "To8MphxTobl9"
      },
      "execution_count": 102,
      "outputs": []
    },
    {
      "cell_type": "markdown",
      "source": [
        "On utilise **le StandardScaler** pour normaliser des données possedant des échelles différentes. \n",
        "Elles sont standardisées pour avoir une échelle commune lors de la création du modèle d'apprentissage automatique."
      ],
      "metadata": {
        "id": "cPOo78n2zwA4"
      }
    },
    {
      "cell_type": "code",
      "source": [
        "from sklearn.preprocessing import StandardScaler # importer l'algorithme Standardscaler\n",
        "scaler=StandardScaler() #affecter l'algorithme au variable scaler\n",
        "scaler.fit(X_train) #entraîner le modèle sur le training set\n",
        "X_train_scaled = scaler.transform(X_train) \n",
        "#transformez les données d'entrainement de manière à ce que la variance soit unitaire et que la moyenne de la série soit égale à 0.\n",
        "X_test_scaled = scaler.transform(X_test)\n",
        "#transformez les données du test de manière à ce que la variance soit unitaire et que la moyenne de la série soit égale à 0."
      ],
      "metadata": {
        "id": "nmmsAt8AqNiL"
      },
      "execution_count": 103,
      "outputs": []
    },
    {
      "cell_type": "markdown",
      "source": [
        "Un modèle séquentiel est approprié pour une pile ordinaire de couches où chaque couche a exactement un tenseur d’entrée et un tenseur de sortie.\n",
        " \n",
        " \n",
        " Un modèle séquentiel n’est pas approprié lorsque :\n",
        "\n",
        "\n",
        "*   le modèle a plusieurs entrées ou plusieurs sorties\n",
        "*   Les couches a plusieurs entrées ou plusieurs sorties\n",
        "*   faire du partage de couches\n"
      ],
      "metadata": {
        "id": "suArIitu6uDR"
      }
    },
    {
      "cell_type": "code",
      "source": [
        "#choisir le modèle séquentiel\n",
        "model = Sequential() \n",
        "model.add(Dense(128, input_dim=13, activation='relu')) #couche d'entrée avec 128 neurones et la dimension des données d'entrée est 13.\n",
        "#avec une fonction d'activation relu \"Rectified Linear Unit\" : \n",
        "#La fonction renvoie 0 si elle reçoit une entrée négative, mais pour toute valeur positive x, elle renvoie cette valeur.\n",
        "model.add(Dense(64, activation='relu')) #1ère sous couche avec 64 neurones possedant une fonction d'activation relu\n",
        "model.add(Dense(1, activation='linear')) #couche de sortie avec un seul neurone et une fonction d'activation linear\n",
        "#linear: l'activation est proportionnelle à l'entrée, \n",
        "#c'est-à-dire la somme pondérée des neurones. f(x) = ax + c."
      ],
      "metadata": {
        "id": "wOsQ8jojrTCp"
      },
      "execution_count": 104,
      "outputs": []
    },
    {
      "cell_type": "code",
      "source": [
        "model.compile(loss='mean_squared_error', optimizer='adam', metrics=['mae']) \n",
        "model.summary()"
      ],
      "metadata": {
        "id": "UtMFzPrAsIKx",
        "colab": {
          "base_uri": "https://localhost:8080/"
        },
        "outputId": "93895201-f863-4402-d884-e26f78b75a72"
      },
      "execution_count": 105,
      "outputs": [
        {
          "output_type": "stream",
          "name": "stdout",
          "text": [
            "Model: \"sequential_4\"\n",
            "_________________________________________________________________\n",
            " Layer (type)                Output Shape              Param #   \n",
            "=================================================================\n",
            " dense_12 (Dense)            (None, 128)               1792      \n",
            "                                                                 \n",
            " dense_13 (Dense)            (None, 64)                8256      \n",
            "                                                                 \n",
            " dense_14 (Dense)            (None, 1)                 65        \n",
            "                                                                 \n",
            "=================================================================\n",
            "Total params: 10,113\n",
            "Trainable params: 10,113\n",
            "Non-trainable params: 0\n",
            "_________________________________________________________________\n"
          ]
        }
      ]
    },
    {
      "cell_type": "code",
      "source": [
        "history = model.fit(X_train_scaled, y_train, validation_split=0.2, epochs =100) "
      ],
      "metadata": {
        "id": "3rVisU99s51M",
        "colab": {
          "base_uri": "https://localhost:8080/"
        },
        "outputId": "9f714620-36a7-44a9-87b6-9baf45b51f2e"
      },
      "execution_count": 106,
      "outputs": [
        {
          "output_type": "stream",
          "name": "stdout",
          "text": [
            "Epoch 1/100\n",
            "11/11 [==============================] - 1s 17ms/step - loss: 562.9862 - mae: 21.8281 - val_loss: 578.8874 - val_mae: 21.9771\n",
            "Epoch 2/100\n",
            "11/11 [==============================] - 0s 4ms/step - loss: 496.5555 - mae: 20.2166 - val_loss: 498.5182 - val_mae: 20.0853\n",
            "Epoch 3/100\n",
            "11/11 [==============================] - 0s 4ms/step - loss: 416.8576 - mae: 18.1764 - val_loss: 392.9578 - val_mae: 17.4613\n",
            "Epoch 4/100\n",
            "11/11 [==============================] - 0s 6ms/step - loss: 312.9302 - mae: 15.3746 - val_loss: 261.5099 - val_mae: 13.9748\n",
            "Epoch 5/100\n",
            "11/11 [==============================] - 0s 6ms/step - loss: 200.9881 - mae: 11.7996 - val_loss: 136.2373 - val_mae: 9.9210\n",
            "Epoch 6/100\n",
            "11/11 [==============================] - 0s 4ms/step - loss: 111.2655 - mae: 8.2065 - val_loss: 64.9689 - val_mae: 6.6079\n",
            "Epoch 7/100\n",
            "11/11 [==============================] - 0s 4ms/step - loss: 70.3749 - mae: 6.2964 - val_loss: 43.9883 - val_mae: 5.2821\n",
            "Epoch 8/100\n",
            "11/11 [==============================] - 0s 6ms/step - loss: 54.7500 - mae: 5.4767 - val_loss: 33.6627 - val_mae: 4.6284\n",
            "Epoch 9/100\n",
            "11/11 [==============================] - 0s 5ms/step - loss: 41.7721 - mae: 4.6187 - val_loss: 27.7259 - val_mae: 4.2914\n",
            "Epoch 10/100\n",
            "11/11 [==============================] - 0s 4ms/step - loss: 34.1742 - mae: 4.1107 - val_loss: 24.4811 - val_mae: 4.0418\n",
            "Epoch 11/100\n",
            "11/11 [==============================] - 0s 5ms/step - loss: 30.1910 - mae: 3.8317 - val_loss: 22.1592 - val_mae: 3.8198\n",
            "Epoch 12/100\n",
            "11/11 [==============================] - 0s 4ms/step - loss: 27.0484 - mae: 3.6157 - val_loss: 20.3959 - val_mae: 3.6862\n",
            "Epoch 13/100\n",
            "11/11 [==============================] - 0s 4ms/step - loss: 25.1168 - mae: 3.4716 - val_loss: 19.0457 - val_mae: 3.5634\n",
            "Epoch 14/100\n",
            "11/11 [==============================] - 0s 4ms/step - loss: 23.6395 - mae: 3.3450 - val_loss: 18.6694 - val_mae: 3.5265\n",
            "Epoch 15/100\n",
            "11/11 [==============================] - 0s 4ms/step - loss: 22.2749 - mae: 3.2408 - val_loss: 16.8612 - val_mae: 3.3774\n",
            "Epoch 16/100\n",
            "11/11 [==============================] - 0s 4ms/step - loss: 20.9576 - mae: 3.1275 - val_loss: 16.3099 - val_mae: 3.3116\n",
            "Epoch 17/100\n",
            "11/11 [==============================] - 0s 4ms/step - loss: 19.9142 - mae: 3.0219 - val_loss: 15.5495 - val_mae: 3.2270\n",
            "Epoch 18/100\n",
            "11/11 [==============================] - 0s 4ms/step - loss: 19.2010 - mae: 2.9856 - val_loss: 15.2896 - val_mae: 3.1888\n",
            "Epoch 19/100\n",
            "11/11 [==============================] - 0s 5ms/step - loss: 18.1735 - mae: 2.9073 - val_loss: 14.8529 - val_mae: 3.1383\n",
            "Epoch 20/100\n",
            "11/11 [==============================] - 0s 4ms/step - loss: 17.5401 - mae: 2.8247 - val_loss: 14.4707 - val_mae: 3.0656\n",
            "Epoch 21/100\n",
            "11/11 [==============================] - 0s 4ms/step - loss: 17.0275 - mae: 2.7906 - val_loss: 14.3226 - val_mae: 3.0302\n",
            "Epoch 22/100\n",
            "11/11 [==============================] - 0s 4ms/step - loss: 16.4420 - mae: 2.7356 - val_loss: 14.1837 - val_mae: 3.0040\n",
            "Epoch 23/100\n",
            "11/11 [==============================] - 0s 5ms/step - loss: 16.0385 - mae: 2.7019 - val_loss: 13.3232 - val_mae: 2.9162\n",
            "Epoch 24/100\n",
            "11/11 [==============================] - 0s 4ms/step - loss: 15.3884 - mae: 2.6696 - val_loss: 13.0888 - val_mae: 2.8998\n",
            "Epoch 25/100\n",
            "11/11 [==============================] - 0s 4ms/step - loss: 14.8926 - mae: 2.6638 - val_loss: 13.0483 - val_mae: 2.8659\n",
            "Epoch 26/100\n",
            "11/11 [==============================] - 0s 4ms/step - loss: 14.7282 - mae: 2.6128 - val_loss: 13.3776 - val_mae: 2.8442\n",
            "Epoch 27/100\n",
            "11/11 [==============================] - 0s 4ms/step - loss: 14.2410 - mae: 2.5491 - val_loss: 12.5383 - val_mae: 2.8056\n",
            "Epoch 28/100\n",
            "11/11 [==============================] - 0s 5ms/step - loss: 13.9219 - mae: 2.5255 - val_loss: 12.1771 - val_mae: 2.7869\n",
            "Epoch 29/100\n",
            "11/11 [==============================] - 0s 4ms/step - loss: 13.6616 - mae: 2.5367 - val_loss: 12.2944 - val_mae: 2.7768\n",
            "Epoch 30/100\n",
            "11/11 [==============================] - 0s 4ms/step - loss: 13.3411 - mae: 2.5115 - val_loss: 11.9611 - val_mae: 2.7670\n",
            "Epoch 31/100\n",
            "11/11 [==============================] - 0s 4ms/step - loss: 13.1064 - mae: 2.4725 - val_loss: 12.3308 - val_mae: 2.7765\n",
            "Epoch 32/100\n",
            "11/11 [==============================] - 0s 4ms/step - loss: 12.7945 - mae: 2.4384 - val_loss: 12.1706 - val_mae: 2.7718\n",
            "Epoch 33/100\n",
            "11/11 [==============================] - 0s 4ms/step - loss: 12.5620 - mae: 2.4211 - val_loss: 12.0167 - val_mae: 2.7690\n",
            "Epoch 34/100\n",
            "11/11 [==============================] - 0s 4ms/step - loss: 12.5115 - mae: 2.4327 - val_loss: 12.0921 - val_mae: 2.7717\n",
            "Epoch 35/100\n",
            "11/11 [==============================] - 0s 4ms/step - loss: 12.1882 - mae: 2.3758 - val_loss: 12.4395 - val_mae: 2.7816\n",
            "Epoch 36/100\n",
            "11/11 [==============================] - 0s 4ms/step - loss: 12.1279 - mae: 2.3778 - val_loss: 11.8566 - val_mae: 2.7593\n",
            "Epoch 37/100\n",
            "11/11 [==============================] - 0s 4ms/step - loss: 11.8051 - mae: 2.3693 - val_loss: 12.0439 - val_mae: 2.7726\n",
            "Epoch 38/100\n",
            "11/11 [==============================] - 0s 4ms/step - loss: 11.6898 - mae: 2.3232 - val_loss: 12.1211 - val_mae: 2.7679\n",
            "Epoch 39/100\n",
            "11/11 [==============================] - 0s 4ms/step - loss: 11.5954 - mae: 2.3141 - val_loss: 12.2782 - val_mae: 2.8075\n",
            "Epoch 40/100\n",
            "11/11 [==============================] - 0s 4ms/step - loss: 11.3597 - mae: 2.3102 - val_loss: 12.0521 - val_mae: 2.8052\n",
            "Epoch 41/100\n",
            "11/11 [==============================] - 0s 4ms/step - loss: 11.1770 - mae: 2.2795 - val_loss: 11.9740 - val_mae: 2.7935\n",
            "Epoch 42/100\n",
            "11/11 [==============================] - 0s 4ms/step - loss: 11.0031 - mae: 2.2847 - val_loss: 12.2079 - val_mae: 2.8010\n",
            "Epoch 43/100\n",
            "11/11 [==============================] - 0s 4ms/step - loss: 12.3421 - mae: 2.3757 - val_loss: 13.2099 - val_mae: 2.8776\n",
            "Epoch 44/100\n",
            "11/11 [==============================] - 0s 4ms/step - loss: 11.9635 - mae: 2.3700 - val_loss: 11.8012 - val_mae: 2.7886\n",
            "Epoch 45/100\n",
            "11/11 [==============================] - 0s 4ms/step - loss: 11.1126 - mae: 2.3415 - val_loss: 11.8607 - val_mae: 2.7950\n",
            "Epoch 46/100\n",
            "11/11 [==============================] - 0s 4ms/step - loss: 10.8648 - mae: 2.3296 - val_loss: 11.5738 - val_mae: 2.7730\n",
            "Epoch 47/100\n",
            "11/11 [==============================] - 0s 4ms/step - loss: 10.6184 - mae: 2.2679 - val_loss: 11.3538 - val_mae: 2.7165\n",
            "Epoch 48/100\n",
            "11/11 [==============================] - 0s 6ms/step - loss: 10.3498 - mae: 2.2336 - val_loss: 11.8238 - val_mae: 2.7332\n",
            "Epoch 49/100\n",
            "11/11 [==============================] - 0s 4ms/step - loss: 10.2437 - mae: 2.2265 - val_loss: 11.6163 - val_mae: 2.7430\n",
            "Epoch 50/100\n",
            "11/11 [==============================] - 0s 4ms/step - loss: 10.1995 - mae: 2.2435 - val_loss: 11.5622 - val_mae: 2.7455\n",
            "Epoch 51/100\n",
            "11/11 [==============================] - 0s 4ms/step - loss: 9.9924 - mae: 2.1790 - val_loss: 12.0379 - val_mae: 2.7540\n",
            "Epoch 52/100\n",
            "11/11 [==============================] - 0s 4ms/step - loss: 9.9111 - mae: 2.1721 - val_loss: 11.7285 - val_mae: 2.7775\n",
            "Epoch 53/100\n",
            "11/11 [==============================] - 0s 4ms/step - loss: 9.7310 - mae: 2.1891 - val_loss: 11.8159 - val_mae: 2.8089\n",
            "Epoch 54/100\n",
            "11/11 [==============================] - 0s 4ms/step - loss: 9.6519 - mae: 2.1674 - val_loss: 11.8175 - val_mae: 2.7812\n",
            "Epoch 55/100\n",
            "11/11 [==============================] - 0s 4ms/step - loss: 9.4707 - mae: 2.1407 - val_loss: 11.9917 - val_mae: 2.7950\n",
            "Epoch 56/100\n",
            "11/11 [==============================] - 0s 4ms/step - loss: 9.4814 - mae: 2.1491 - val_loss: 11.9922 - val_mae: 2.7899\n",
            "Epoch 57/100\n",
            "11/11 [==============================] - 0s 4ms/step - loss: 9.2826 - mae: 2.1240 - val_loss: 11.9866 - val_mae: 2.7972\n",
            "Epoch 58/100\n",
            "11/11 [==============================] - 0s 4ms/step - loss: 9.1663 - mae: 2.1194 - val_loss: 12.0865 - val_mae: 2.8084\n",
            "Epoch 59/100\n",
            "11/11 [==============================] - 0s 4ms/step - loss: 9.3211 - mae: 2.1362 - val_loss: 11.9557 - val_mae: 2.7737\n",
            "Epoch 60/100\n",
            "11/11 [==============================] - 0s 4ms/step - loss: 9.3465 - mae: 2.1127 - val_loss: 11.6731 - val_mae: 2.7573\n",
            "Epoch 61/100\n",
            "11/11 [==============================] - 0s 4ms/step - loss: 9.1435 - mae: 2.0755 - val_loss: 11.4385 - val_mae: 2.7196\n",
            "Epoch 62/100\n",
            "11/11 [==============================] - 0s 4ms/step - loss: 9.2152 - mae: 2.1096 - val_loss: 11.2890 - val_mae: 2.7287\n",
            "Epoch 63/100\n",
            "11/11 [==============================] - 0s 4ms/step - loss: 8.9872 - mae: 2.0936 - val_loss: 11.9680 - val_mae: 2.7523\n",
            "Epoch 64/100\n",
            "11/11 [==============================] - 0s 4ms/step - loss: 8.8436 - mae: 2.0749 - val_loss: 11.5726 - val_mae: 2.7645\n",
            "Epoch 65/100\n",
            "11/11 [==============================] - 0s 4ms/step - loss: 8.5185 - mae: 2.0792 - val_loss: 11.9198 - val_mae: 2.8094\n",
            "Epoch 66/100\n",
            "11/11 [==============================] - 0s 4ms/step - loss: 8.6485 - mae: 2.0978 - val_loss: 12.0672 - val_mae: 2.7797\n",
            "Epoch 67/100\n",
            "11/11 [==============================] - 0s 6ms/step - loss: 8.4495 - mae: 2.0551 - val_loss: 11.7213 - val_mae: 2.7574\n",
            "Epoch 68/100\n",
            "11/11 [==============================] - 0s 4ms/step - loss: 8.4564 - mae: 2.0592 - val_loss: 11.6101 - val_mae: 2.7315\n",
            "Epoch 69/100\n",
            "11/11 [==============================] - 0s 5ms/step - loss: 8.5748 - mae: 2.0745 - val_loss: 11.7090 - val_mae: 2.7236\n",
            "Epoch 70/100\n",
            "11/11 [==============================] - 0s 4ms/step - loss: 8.3333 - mae: 2.0316 - val_loss: 11.3470 - val_mae: 2.7238\n",
            "Epoch 71/100\n",
            "11/11 [==============================] - 0s 4ms/step - loss: 8.3197 - mae: 2.0577 - val_loss: 11.5335 - val_mae: 2.7348\n",
            "Epoch 72/100\n",
            "11/11 [==============================] - 0s 5ms/step - loss: 8.2149 - mae: 2.0091 - val_loss: 11.5281 - val_mae: 2.6999\n",
            "Epoch 73/100\n",
            "11/11 [==============================] - 0s 4ms/step - loss: 8.0718 - mae: 1.9900 - val_loss: 11.2591 - val_mae: 2.7045\n",
            "Epoch 74/100\n",
            "11/11 [==============================] - 0s 6ms/step - loss: 8.0074 - mae: 2.0272 - val_loss: 11.4347 - val_mae: 2.7667\n",
            "Epoch 75/100\n",
            "11/11 [==============================] - 0s 4ms/step - loss: 8.0420 - mae: 2.0378 - val_loss: 11.8683 - val_mae: 2.7779\n",
            "Epoch 76/100\n",
            "11/11 [==============================] - 0s 4ms/step - loss: 7.9261 - mae: 2.0131 - val_loss: 11.3245 - val_mae: 2.7219\n",
            "Epoch 77/100\n",
            "11/11 [==============================] - 0s 4ms/step - loss: 7.7397 - mae: 1.9763 - val_loss: 10.9690 - val_mae: 2.6815\n",
            "Epoch 78/100\n",
            "11/11 [==============================] - 0s 4ms/step - loss: 7.7146 - mae: 1.9432 - val_loss: 11.3478 - val_mae: 2.6775\n",
            "Epoch 79/100\n",
            "11/11 [==============================] - 0s 4ms/step - loss: 7.8065 - mae: 1.9480 - val_loss: 11.0877 - val_mae: 2.6702\n",
            "Epoch 80/100\n",
            "11/11 [==============================] - 0s 4ms/step - loss: 7.5647 - mae: 1.9381 - val_loss: 11.3327 - val_mae: 2.7037\n",
            "Epoch 81/100\n",
            "11/11 [==============================] - 0s 4ms/step - loss: 7.4846 - mae: 1.9246 - val_loss: 11.2955 - val_mae: 2.6661\n",
            "Epoch 82/100\n",
            "11/11 [==============================] - 0s 4ms/step - loss: 7.5579 - mae: 1.9427 - val_loss: 11.2668 - val_mae: 2.6993\n",
            "Epoch 83/100\n",
            "11/11 [==============================] - 0s 4ms/step - loss: 7.4101 - mae: 1.9267 - val_loss: 11.0200 - val_mae: 2.7044\n",
            "Epoch 84/100\n",
            "11/11 [==============================] - 0s 4ms/step - loss: 7.5447 - mae: 1.9603 - val_loss: 10.9327 - val_mae: 2.6828\n",
            "Epoch 85/100\n",
            "11/11 [==============================] - 0s 4ms/step - loss: 7.2262 - mae: 1.9112 - val_loss: 11.2668 - val_mae: 2.6886\n",
            "Epoch 86/100\n",
            "11/11 [==============================] - 0s 4ms/step - loss: 7.2291 - mae: 1.9037 - val_loss: 10.9612 - val_mae: 2.6512\n",
            "Epoch 87/100\n",
            "11/11 [==============================] - 0s 4ms/step - loss: 7.5516 - mae: 1.9628 - val_loss: 10.8263 - val_mae: 2.6748\n",
            "Epoch 88/100\n",
            "11/11 [==============================] - 0s 4ms/step - loss: 8.3697 - mae: 2.0371 - val_loss: 12.2698 - val_mae: 2.8331\n",
            "Epoch 89/100\n",
            "11/11 [==============================] - 0s 4ms/step - loss: 7.4808 - mae: 1.9679 - val_loss: 10.4430 - val_mae: 2.6278\n",
            "Epoch 90/100\n",
            "11/11 [==============================] - 0s 5ms/step - loss: 7.4816 - mae: 1.9987 - val_loss: 10.5234 - val_mae: 2.6365\n",
            "Epoch 91/100\n",
            "11/11 [==============================] - 0s 4ms/step - loss: 7.2465 - mae: 1.8729 - val_loss: 10.9957 - val_mae: 2.6726\n",
            "Epoch 92/100\n",
            "11/11 [==============================] - 0s 4ms/step - loss: 7.2281 - mae: 1.9237 - val_loss: 10.9920 - val_mae: 2.6369\n",
            "Epoch 93/100\n",
            "11/11 [==============================] - 0s 4ms/step - loss: 7.4759 - mae: 1.9372 - val_loss: 11.6728 - val_mae: 2.7560\n",
            "Epoch 94/100\n",
            "11/11 [==============================] - 0s 4ms/step - loss: 7.1270 - mae: 1.8821 - val_loss: 10.7811 - val_mae: 2.6578\n",
            "Epoch 95/100\n",
            "11/11 [==============================] - 0s 4ms/step - loss: 6.8965 - mae: 1.8787 - val_loss: 10.8205 - val_mae: 2.6662\n",
            "Epoch 96/100\n",
            "11/11 [==============================] - 0s 4ms/step - loss: 6.7117 - mae: 1.8494 - val_loss: 11.0585 - val_mae: 2.6867\n",
            "Epoch 97/100\n",
            "11/11 [==============================] - 0s 4ms/step - loss: 6.7778 - mae: 1.8628 - val_loss: 10.8460 - val_mae: 2.6779\n",
            "Epoch 98/100\n",
            "11/11 [==============================] - 0s 4ms/step - loss: 6.9053 - mae: 1.8747 - val_loss: 10.9323 - val_mae: 2.6596\n",
            "Epoch 99/100\n",
            "11/11 [==============================] - 0s 4ms/step - loss: 6.4842 - mae: 1.8147 - val_loss: 11.2726 - val_mae: 2.7281\n",
            "Epoch 100/100\n",
            "11/11 [==============================] - 0s 4ms/step - loss: 6.7885 - mae: 1.8712 - val_loss: 10.8919 - val_mae: 2.6476\n"
          ]
        }
      ]
    },
    {
      "cell_type": "code",
      "source": [
        "from matplotlib import pyplot as plt \n",
        "loss = history.history['loss'] \n",
        "val_loss = history.history['val_loss'] \n",
        "epochs = range(1, len(loss) + 1) \n",
        "plt.plot(epochs, loss, 'y', label='Training loss') \n",
        "plt.plot(epochs, val_loss, 'r', label='Validation loss') \n",
        "plt.title('Training and validation loss') \n",
        "plt.xlabel('Epochs') \n",
        "plt.ylabel('Loss') \n",
        "plt.legend() \n",
        "plt.show() "
      ],
      "metadata": {
        "id": "xph9bwagtA8M",
        "colab": {
          "base_uri": "https://localhost:8080/",
          "height": 295
        },
        "outputId": "02f872a6-cfaa-4d63-8b22-4eb921f3cbc6"
      },
      "execution_count": 107,
      "outputs": [
        {
          "output_type": "display_data",
          "data": {
            "image/png": "[encoded data removed]",
            "text/plain": [
              "<Figure size 432x288 with 1 Axes>"
            ]
          },
          "metadata": {
            "needs_background": "light"
          }
        }
      ]
    },
    {
      "cell_type": "markdown",
      "source": [
        "Le training loss indique dans quelle mesure le modèle s'adapte aux données d'apprentissage, tandis que le validation loss indique dans quelle mesure le modèle s'adapte aux nouvelles données.\n",
        "On constate, avec ces courbes, que le modèle est bien entraîné et que la fonction loss tend vers 0. Ce qui correspond à notre objectif."
      ],
      "metadata": {
        "id": "YV4fIGXoNlo4"
      }
    },
    {
      "cell_type": "code",
      "source": [
        "mae = history.history['mae'] \n",
        "val_mae = history.history['val_mae'] \n",
        "plt.plot(epochs, mae, 'y', label='Training MAE') \n",
        "plt.plot(epochs, val_mae, 'r', label='Validation MAE') \n",
        "plt.title('Training and validation MAE') \n",
        "plt.xlabel('Epochs') \n",
        "plt.ylabel('Mean Absolute Error') \n",
        "plt.legend() \n",
        "plt.show()"
      ],
      "metadata": {
        "id": "-DJs4W2GumXS",
        "colab": {
          "base_uri": "https://localhost:8080/",
          "height": 295
        },
        "outputId": "d4e6bd51-3180-4aa8-c03a-169a5e92214e"
      },
      "execution_count": 108,
      "outputs": [
        {
          "output_type": "display_data",
          "data": {
            "image/png": "[encoded data removed]",
            "text/plain": [
              "<Figure size 432x288 with 1 Axes>"
            ]
          },
          "metadata": {
            "needs_background": "light"
          }
        }
      ]
    },
    {
      "cell_type": "markdown",
      "source": [
        "Maintenant, on compare la valeur de l'erreur absolue moyenne entre la \n",
        "courbe de training set et de validation set. On peut constater que l'erreur tend vers 0 au cours des epochs mais il ne s'annule pas. \n",
        "\n",
        "L'erreur se stabilise à une valeur de 2.\n",
        "le mae du dataset de training est plus proche de 0 que le mae du dataset de validation ce qui est tout à fait normale puisque l'entraînement du modèle est basé sur le training set."
      ],
      "metadata": {
        "id": "-vqFBUjAxAN_"
      }
    },
    {
      "cell_type": "code",
      "source": [
        "predictions = model.predict(X_test_scaled[:5]) \n",
        "print(\"Predicted values are: \", predictions) \n",
        "print(\"Real values are: \", y_test[:5]) "
      ],
      "metadata": {
        "colab": {
          "base_uri": "https://localhost:8080/"
        },
        "id": "4HH6wwi6WhfD",
        "outputId": "8e048adf-912c-4fd2-e2ce-272bd5465a62"
      },
      "execution_count": 109,
      "outputs": [
        {
          "output_type": "stream",
          "name": "stdout",
          "text": [
            "Predicted values are:  [[18.084272]\n",
            " [20.463865]\n",
            " [20.547405]\n",
            " [20.18252 ]\n",
            " [12.684773]]\n",
            "Real values are:  498    21.2\n",
            "94     20.6\n",
            "150    21.5\n",
            "221    21.7\n",
            "423    13.4\n",
            "Name: PRICE, dtype: float64\n"
          ]
        }
      ]
    },
    {
      "cell_type": "code",
      "source": [
        "mse_neural, mae_neural = model.evaluate(X_test_scaled, y_test) \n",
        "print('Mean squared error from neural net: ', mse_neural) \n",
        "print('Mean absolute error from neural net: ', mae_neural)"
      ],
      "metadata": {
        "colab": {
          "base_uri": "https://localhost:8080/"
        },
        "id": "P61HtTvrWiiP",
        "outputId": "a0a8238a-0dbf-491e-907d-6d07534d19cf"
      },
      "execution_count": 110,
      "outputs": [
        {
          "output_type": "stream",
          "name": "stdout",
          "text": [
            "4/4 [==============================] - 0s 3ms/step - loss: 15.1577 - mae: 2.8739\n",
            "Mean squared error from neural net:  15.15771198272705\n",
            "Mean absolute error from neural net:  2.8738884925842285\n"
          ]
        }
      ]
    },
    {
      "cell_type": "code",
      "source": [
        "history = model.fit(X_train_scaled, y_train, validation_split=0.2, epochs =20) "
      ],
      "metadata": {
        "colab": {
          "base_uri": "https://localhost:8080/"
        },
        "id": "2DFXVYCdUmx7",
        "outputId": "9d2a5cb8-d147-4027-a3f4-a4bd0dd64491"
      },
      "execution_count": 111,
      "outputs": [
        {
          "output_type": "stream",
          "name": "stdout",
          "text": [
            "Epoch 1/20\n",
            "11/11 [==============================] - 0s 7ms/step - loss: 6.5976 - mae: 1.8404 - val_loss: 11.0296 - val_mae: 2.6619\n",
            "Epoch 2/20\n",
            "11/11 [==============================] - 0s 5ms/step - loss: 6.4113 - mae: 1.8240 - val_loss: 10.5390 - val_mae: 2.6082\n",
            "Epoch 3/20\n",
            "11/11 [==============================] - 0s 4ms/step - loss: 7.2840 - mae: 1.9825 - val_loss: 11.1242 - val_mae: 2.6410\n",
            "Epoch 4/20\n",
            "11/11 [==============================] - 0s 4ms/step - loss: 6.5902 - mae: 1.8494 - val_loss: 11.7403 - val_mae: 2.7273\n",
            "Epoch 5/20\n",
            "11/11 [==============================] - 0s 4ms/step - loss: 6.5508 - mae: 1.8549 - val_loss: 11.3244 - val_mae: 2.6774\n",
            "Epoch 6/20\n",
            "11/11 [==============================] - 0s 4ms/step - loss: 6.1929 - mae: 1.8150 - val_loss: 11.1277 - val_mae: 2.6886\n",
            "Epoch 7/20\n",
            "11/11 [==============================] - 0s 4ms/step - loss: 6.1423 - mae: 1.8010 - val_loss: 10.7270 - val_mae: 2.6299\n",
            "Epoch 8/20\n",
            "11/11 [==============================] - 0s 4ms/step - loss: 6.1384 - mae: 1.7952 - val_loss: 10.8406 - val_mae: 2.6505\n",
            "Epoch 9/20\n",
            "11/11 [==============================] - 0s 4ms/step - loss: 6.1036 - mae: 1.7919 - val_loss: 10.6634 - val_mae: 2.6599\n",
            "Epoch 10/20\n",
            "11/11 [==============================] - 0s 5ms/step - loss: 6.0605 - mae: 1.7771 - val_loss: 10.4528 - val_mae: 2.6174\n",
            "Epoch 11/20\n",
            "11/11 [==============================] - 0s 4ms/step - loss: 5.9704 - mae: 1.7864 - val_loss: 10.6901 - val_mae: 2.6667\n",
            "Epoch 12/20\n",
            "11/11 [==============================] - 0s 4ms/step - loss: 6.0341 - mae: 1.8006 - val_loss: 10.6713 - val_mae: 2.6342\n",
            "Epoch 13/20\n",
            "11/11 [==============================] - 0s 4ms/step - loss: 6.0034 - mae: 1.7804 - val_loss: 10.5839 - val_mae: 2.6200\n",
            "Epoch 14/20\n",
            "11/11 [==============================] - 0s 4ms/step - loss: 5.8458 - mae: 1.7700 - val_loss: 10.6256 - val_mae: 2.6515\n",
            "Epoch 15/20\n",
            "11/11 [==============================] - 0s 4ms/step - loss: 5.8721 - mae: 1.7656 - val_loss: 10.9828 - val_mae: 2.6413\n",
            "Epoch 16/20\n",
            "11/11 [==============================] - 0s 4ms/step - loss: 5.7109 - mae: 1.7566 - val_loss: 10.4233 - val_mae: 2.6152\n",
            "Epoch 17/20\n",
            "11/11 [==============================] - 0s 4ms/step - loss: 5.7094 - mae: 1.7464 - val_loss: 11.0404 - val_mae: 2.6620\n",
            "Epoch 18/20\n",
            "11/11 [==============================] - 0s 5ms/step - loss: 5.7069 - mae: 1.7441 - val_loss: 11.0230 - val_mae: 2.6802\n",
            "Epoch 19/20\n",
            "11/11 [==============================] - 0s 5ms/step - loss: 5.6088 - mae: 1.7336 - val_loss: 10.6429 - val_mae: 2.6178\n",
            "Epoch 20/20\n",
            "11/11 [==============================] - 0s 4ms/step - loss: 5.5305 - mae: 1.7032 - val_loss: 10.7538 - val_mae: 2.6393\n"
          ]
        }
      ]
    },
    {
      "cell_type": "code",
      "source": [
        "from matplotlib import pyplot as plt \n",
        "loss = history.history['loss'] \n",
        "val_loss = history.history['val_loss'] \n",
        "epochs = range(1, len(loss) + 1) \n",
        "plt.plot(epochs, loss, 'y', label='Training loss') \n",
        "plt.plot(epochs, val_loss, 'r', label='Validation loss') \n",
        "plt.title('Training and validation loss 20 epochs') \n",
        "plt.xlabel('Epochs') \n",
        "plt.ylabel('Loss') \n",
        "plt.legend() \n",
        "plt.show() "
      ],
      "metadata": {
        "colab": {
          "base_uri": "https://localhost:8080/",
          "height": 295
        },
        "id": "ja7T098zU_A4",
        "outputId": "e9f328e0-b2d7-4349-89d3-643b7a386398"
      },
      "execution_count": 112,
      "outputs": [
        {
          "output_type": "display_data",
          "data": {
            "image/png": "[encoded data removed]",
            "text/plain": [
              "<Figure size 432x288 with 1 Axes>"
            ]
          },
          "metadata": {
            "needs_background": "light"
          }
        }
      ]
    },
    {
      "cell_type": "markdown",
      "source": [
        "la fonction loss pour la validation set est presque 11. \n",
        "Ceci nous indique que le modèle n'est pas vraiment stable à ce stade."
      ],
      "metadata": {
        "id": "PBi8rBsFe6wi"
      }
    },
    {
      "cell_type": "code",
      "source": [
        "mae = history.history['mae'] \n",
        "val_mae = history.history['val_mae'] \n",
        "plt.plot(epochs, mae, 'y', label='Training MAE') \n",
        "plt.plot(epochs, val_mae, 'r', label='Validation MAE') \n",
        "plt.title('Training and validation MAE 20 epochs') \n",
        "plt.xlabel('Epochs') \n",
        "plt.ylabel('Mean Absolute Error') \n",
        "plt.legend() \n",
        "plt.show()"
      ],
      "metadata": {
        "colab": {
          "base_uri": "https://localhost:8080/",
          "height": 295
        },
        "id": "1MtYqv2BVNKb",
        "outputId": "cefdcb1a-13d2-41dd-9656-de9d8a8d4415"
      },
      "execution_count": 113,
      "outputs": [
        {
          "output_type": "display_data",
          "data": {
            "image/png": "[encoded data removed]",
            "text/plain": [
              "<Figure size 432x288 with 1 Axes>"
            ]
          },
          "metadata": {
            "needs_background": "light"
          }
        }
      ]
    },
    {
      "cell_type": "markdown",
      "source": [
        "On peut voir que l'erreur moyen absolue est presque 2,5 sur la courbe de validation set."
      ],
      "metadata": {
        "id": "11pFDr8kYQOf"
      }
    },
    {
      "cell_type": "code",
      "source": [
        "predictions = model.predict(X_test_scaled[:5]) \n",
        "print(\"Predicted values are: \", predictions) \n",
        "print(\"Real values are: \", y_test[:5]) "
      ],
      "metadata": {
        "colab": {
          "base_uri": "https://localhost:8080/"
        },
        "id": "qxW5jadaXQoq",
        "outputId": "0d56737a-3f8b-4b55-9b69-2495c5132a32"
      },
      "execution_count": 114,
      "outputs": [
        {
          "output_type": "stream",
          "name": "stdout",
          "text": [
            "Predicted values are:  [[18.353724]\n",
            " [20.48421 ]\n",
            " [20.380991]\n",
            " [20.565289]\n",
            " [12.666644]]\n",
            "Real values are:  498    21.2\n",
            "94     20.6\n",
            "150    21.5\n",
            "221    21.7\n",
            "423    13.4\n",
            "Name: PRICE, dtype: float64\n"
          ]
        }
      ]
    },
    {
      "cell_type": "code",
      "source": [
        "mse_neural, mae_neural = model.evaluate(X_test_scaled, y_test) \n",
        "print('Mean squared error from neural net: ', mse_neural) \n",
        "print('Mean absolute error from neural net: ', mae_neural)"
      ],
      "metadata": {
        "colab": {
          "base_uri": "https://localhost:8080/"
        },
        "id": "bzpABkeWXP0L",
        "outputId": "c1551afd-2e6c-43bc-a32b-575aacfbfcaa"
      },
      "execution_count": 115,
      "outputs": [
        {
          "output_type": "stream",
          "name": "stdout",
          "text": [
            "4/4 [==============================] - 0s 3ms/step - loss: 14.7695 - mae: 2.8173\n",
            "Mean squared error from neural net:  14.769464492797852\n",
            "Mean absolute error from neural net:  2.817258834838867\n"
          ]
        }
      ]
    },
    {
      "cell_type": "code",
      "source": [
        "history = model.fit(X_train_scaled, y_train, validation_split=0.2, epochs =30) "
      ],
      "metadata": {
        "colab": {
          "base_uri": "https://localhost:8080/"
        },
        "id": "FVPKO301Vqtv",
        "outputId": "ee83277a-4cc7-4948-eb3b-ee4644672bc3"
      },
      "execution_count": 116,
      "outputs": [
        {
          "output_type": "stream",
          "name": "stdout",
          "text": [
            "Epoch 1/30\n",
            "11/11 [==============================] - 0s 7ms/step - loss: 5.5184 - mae: 1.7134 - val_loss: 10.7942 - val_mae: 2.6594\n",
            "Epoch 2/30\n",
            "11/11 [==============================] - 0s 4ms/step - loss: 5.5208 - mae: 1.7181 - val_loss: 10.7231 - val_mae: 2.6400\n",
            "Epoch 3/30\n",
            "11/11 [==============================] - 0s 4ms/step - loss: 5.4507 - mae: 1.7048 - val_loss: 10.5074 - val_mae: 2.6024\n",
            "Epoch 4/30\n",
            "11/11 [==============================] - 0s 3ms/step - loss: 5.4100 - mae: 1.6868 - val_loss: 10.7082 - val_mae: 2.6555\n",
            "Epoch 5/30\n",
            "11/11 [==============================] - 0s 4ms/step - loss: 5.3613 - mae: 1.6926 - val_loss: 10.5608 - val_mae: 2.5892\n",
            "Epoch 6/30\n",
            "11/11 [==============================] - 0s 4ms/step - loss: 5.4196 - mae: 1.7076 - val_loss: 10.7313 - val_mae: 2.6290\n",
            "Epoch 7/30\n",
            "11/11 [==============================] - 0s 4ms/step - loss: 5.3097 - mae: 1.6768 - val_loss: 10.5368 - val_mae: 2.6101\n",
            "Epoch 8/30\n",
            "11/11 [==============================] - 0s 4ms/step - loss: 5.2073 - mae: 1.6552 - val_loss: 10.4575 - val_mae: 2.6068\n",
            "Epoch 9/30\n",
            "11/11 [==============================] - 0s 4ms/step - loss: 5.1975 - mae: 1.6546 - val_loss: 10.5460 - val_mae: 2.6190\n",
            "Epoch 10/30\n",
            "11/11 [==============================] - 0s 4ms/step - loss: 5.1405 - mae: 1.6437 - val_loss: 10.5202 - val_mae: 2.6163\n",
            "Epoch 11/30\n",
            "11/11 [==============================] - 0s 4ms/step - loss: 5.1824 - mae: 1.6619 - val_loss: 10.5253 - val_mae: 2.5834\n",
            "Epoch 12/30\n",
            "11/11 [==============================] - 0s 4ms/step - loss: 5.1165 - mae: 1.6372 - val_loss: 10.6351 - val_mae: 2.6513\n",
            "Epoch 13/30\n",
            "11/11 [==============================] - 0s 5ms/step - loss: 5.1897 - mae: 1.6621 - val_loss: 10.4159 - val_mae: 2.5943\n",
            "Epoch 14/30\n",
            "11/11 [==============================] - 0s 4ms/step - loss: 5.0065 - mae: 1.6284 - val_loss: 10.3208 - val_mae: 2.5722\n",
            "Epoch 15/30\n",
            "11/11 [==============================] - 0s 4ms/step - loss: 5.0038 - mae: 1.6400 - val_loss: 10.3063 - val_mae: 2.5748\n",
            "Epoch 16/30\n",
            "11/11 [==============================] - 0s 4ms/step - loss: 4.9944 - mae: 1.6680 - val_loss: 10.2756 - val_mae: 2.5719\n",
            "Epoch 17/30\n",
            "11/11 [==============================] - 0s 5ms/step - loss: 4.9955 - mae: 1.6117 - val_loss: 10.9234 - val_mae: 2.6370\n",
            "Epoch 18/30\n",
            "11/11 [==============================] - 0s 4ms/step - loss: 5.0456 - mae: 1.6489 - val_loss: 10.4928 - val_mae: 2.6172\n",
            "Epoch 19/30\n",
            "11/11 [==============================] - 0s 4ms/step - loss: 4.8705 - mae: 1.6118 - val_loss: 10.4224 - val_mae: 2.6053\n",
            "Epoch 20/30\n",
            "11/11 [==============================] - 0s 4ms/step - loss: 4.9317 - mae: 1.6361 - val_loss: 10.2054 - val_mae: 2.5554\n",
            "Epoch 21/30\n",
            "11/11 [==============================] - 0s 4ms/step - loss: 5.0390 - mae: 1.6382 - val_loss: 10.5271 - val_mae: 2.6284\n",
            "Epoch 22/30\n",
            "11/11 [==============================] - 0s 4ms/step - loss: 4.9035 - mae: 1.6147 - val_loss: 10.1133 - val_mae: 2.5703\n",
            "Epoch 23/30\n",
            "11/11 [==============================] - 0s 4ms/step - loss: 5.1152 - mae: 1.6997 - val_loss: 10.1196 - val_mae: 2.5588\n",
            "Epoch 24/30\n",
            "11/11 [==============================] - 0s 4ms/step - loss: 4.6694 - mae: 1.6081 - val_loss: 10.5986 - val_mae: 2.5985\n",
            "Epoch 25/30\n",
            "11/11 [==============================] - 0s 4ms/step - loss: 4.8056 - mae: 1.6205 - val_loss: 10.4400 - val_mae: 2.5939\n",
            "Epoch 26/30\n",
            "11/11 [==============================] - 0s 4ms/step - loss: 4.6974 - mae: 1.5982 - val_loss: 10.2552 - val_mae: 2.5878\n",
            "Epoch 27/30\n",
            "11/11 [==============================] - 0s 4ms/step - loss: 4.5755 - mae: 1.5835 - val_loss: 10.2987 - val_mae: 2.5510\n",
            "Epoch 28/30\n",
            "11/11 [==============================] - 0s 5ms/step - loss: 4.6008 - mae: 1.5801 - val_loss: 10.3176 - val_mae: 2.5905\n",
            "Epoch 29/30\n",
            "11/11 [==============================] - 0s 4ms/step - loss: 4.5452 - mae: 1.5736 - val_loss: 9.9734 - val_mae: 2.5386\n",
            "Epoch 30/30\n",
            "11/11 [==============================] - 0s 4ms/step - loss: 4.6528 - mae: 1.6052 - val_loss: 10.3412 - val_mae: 2.5774\n"
          ]
        }
      ]
    },
    {
      "cell_type": "code",
      "source": [
        "from matplotlib import pyplot as plt \n",
        "loss = history.history['loss'] \n",
        "val_loss = history.history['val_loss'] \n",
        "epochs = range(1, len(loss) + 1) \n",
        "plt.plot(epochs, loss, 'y', label='Training loss') \n",
        "plt.plot(epochs, val_loss, 'r', label='Validation loss') \n",
        "plt.title('Training and validation loss 30 epochs') \n",
        "plt.xlabel('Epochs') \n",
        "plt.ylabel('Loss') \n",
        "plt.legend() \n",
        "plt.show() "
      ],
      "metadata": {
        "colab": {
          "base_uri": "https://localhost:8080/",
          "height": 295
        },
        "id": "8XNdC5WwV-bW",
        "outputId": "5a17cbdf-4ab0-4d4a-85a6-9af88251fed4"
      },
      "execution_count": 117,
      "outputs": [
        {
          "output_type": "display_data",
          "data": {
            "image/png": "[encoded data removed]",
            "text/plain": [
              "<Figure size 432x288 with 1 Axes>"
            ]
          },
          "metadata": {
            "needs_background": "light"
          }
        }
      ]
    },
    {
      "cell_type": "markdown",
      "source": [
        "Nous pouvons voir qu'après 30 époques, la fonction de perte nous indique une erreur de 10,5 tant que l'autre est proche de 5."
      ],
      "metadata": {
        "id": "o77ClZSHutdg"
      }
    },
    {
      "cell_type": "code",
      "source": [
        "mae = history.history['mae'] \n",
        "val_mae = history.history['val_mae'] \n",
        "plt.plot(epochs, mae, 'y', label='Training MAE') \n",
        "plt.plot(epochs, val_mae, 'r', label='Validation MAE') \n",
        "plt.title('Training and validation MAE 30 epochs') \n",
        "plt.xlabel('Epochs') \n",
        "plt.ylabel('Mean Absolute Error') \n",
        "plt.legend() \n",
        "plt.show()"
      ],
      "metadata": {
        "colab": {
          "base_uri": "https://localhost:8080/",
          "height": 295
        },
        "id": "uJ4-bR4_WO7t",
        "outputId": "f4d6f3a0-127d-454e-adf1-96f6aa856cee"
      },
      "execution_count": 118,
      "outputs": [
        {
          "output_type": "display_data",
          "data": {
            "image/png": "[encoded data removed]",
            "text/plain": [
              "<Figure size 432x288 with 1 Axes>"
            ]
          },
          "metadata": {
            "needs_background": "light"
          }
        }
      ]
    },
    {
      "cell_type": "code",
      "source": [
        "predictions = model.predict(X_test_scaled[:5]) \n",
        "print(\"Predicted values are: \", predictions) \n",
        "print(\"Real values are: \", y_test[:5]) "
      ],
      "metadata": {
        "id": "8J84BqovxAlv",
        "colab": {
          "base_uri": "https://localhost:8080/"
        },
        "outputId": "260d78bc-b6cf-4768-ba19-1e233bcf251b"
      },
      "execution_count": 119,
      "outputs": [
        {
          "output_type": "stream",
          "name": "stdout",
          "text": [
            "Predicted values are:  [[19.055632]\n",
            " [20.274704]\n",
            " [20.924162]\n",
            " [20.627903]\n",
            " [13.239877]]\n",
            "Real values are:  498    21.2\n",
            "94     20.6\n",
            "150    21.5\n",
            "221    21.7\n",
            "423    13.4\n",
            "Name: PRICE, dtype: float64\n"
          ]
        }
      ]
    },
    {
      "cell_type": "code",
      "source": [
        "mse_neural, mae_neural = model.evaluate(X_test_scaled, y_test) \n",
        "print('Mean squared error from neural net: ', mse_neural) \n",
        "print('Mean absolute error from neural net: ', mae_neural)"
      ],
      "metadata": {
        "id": "xmBMv1z1xYiM",
        "colab": {
          "base_uri": "https://localhost:8080/"
        },
        "outputId": "32db8df6-e4cc-439f-9f03-d4b19da788f6"
      },
      "execution_count": 120,
      "outputs": [
        {
          "output_type": "stream",
          "name": "stdout",
          "text": [
            "4/4 [==============================] - 0s 3ms/step - loss: 14.6962 - mae: 2.7738\n",
            "Mean squared error from neural net:  14.696152687072754\n",
            "Mean absolute error from neural net:  2.773848295211792\n"
          ]
        }
      ]
    },
    {
      "cell_type": "markdown",
      "source": [
        "# *Exercice 4 : Comparaison des performances*\n",
        "Les performances de ce réseau de neurones profonds sont comparées à des algorithmes classiques \n",
        "d’apprentissage statistique (régréssion linéaire, arbre de decision, random Forest). \n"
      ],
      "metadata": {
        "id": "1h5JXg2szS2z"
      }
    },
    {
      "cell_type": "code",
      "source": [
        "from sklearn import linear_model \n",
        "from sklearn.tree import DecisionTreeRegressor \n",
        "from sklearn.metrics import mean_squared_error, mean_absolute_error"
      ],
      "metadata": {
        "id": "QstOOFZJzST5"
      },
      "execution_count": 128,
      "outputs": []
    },
    {
      "cell_type": "code",
      "source": [
        "lr_model = linear_model.LinearRegression() #choisir un modèle : regression linéaire\n",
        "lr_model.fit(X_train_scaled, y_train) #entrainer le modèle\n",
        "y_pred_lr = lr_model.predict(X_test_scaled) # faire la prédiction"
      ],
      "metadata": {
        "id": "njgfxBWYzd8a"
      },
      "execution_count": 129,
      "outputs": []
    },
    {
      "cell_type": "code",
      "source": [
        "mse_lr = mean_squared_error(y_test, y_pred_lr) \n",
        "mae_lr = mean_absolute_error(y_test, y_pred_lr) \n",
        "print('Mean squared error from linear regression: ', mse_lr) \n",
        "print('Mean absolute error from linear regression: ', mae_lr)"
      ],
      "metadata": {
        "id": "ZXOhLp3bztHQ",
        "colab": {
          "base_uri": "https://localhost:8080/"
        },
        "outputId": "90730971-b8e2-425f-b013-e16389651615"
      },
      "execution_count": 130,
      "outputs": [
        {
          "output_type": "stream",
          "name": "stdout",
          "text": [
            "Mean squared error from linear regression:  16.49535197593168\n",
            "Mean absolute error from linear regression:  3.0558941538909594\n"
          ]
        }
      ]
    },
    {
      "cell_type": "markdown",
      "source": [
        "RN : \n",
        "\n",
        "* Mean squared error from neural net:  13.830933570861816\n",
        "\n",
        "* Mean absolute error from neural net:  2.755727767944336\n",
        "\n",
        "modele LinR : \n",
        "* Mean squared error from linear regression:  16.49535197593167\n",
        "* Mean absolute error from linear regression:  3.055894153890959\n",
        "\n",
        "le réseau de neurones est plus performent que la modèle de Regression linéaire parce qu'il nous donne le moindre erreur"
      ],
      "metadata": {
        "id": "ZuOCtYQo0D8V"
      }
    },
    {
      "cell_type": "code",
      "source": [
        "tree = DecisionTreeRegressor() #algorithme arbre de décision.\n",
        "tree.fit(X_train_scaled, y_train) #entrainement du modèle sur le jeu de données d'entrainement\n",
        "y_pred_tree = tree.predict(X_test_scaled) #prédiction du label basée sur les données du test"
      ],
      "metadata": {
        "id": "V1qcgyYW0-yU"
      },
      "execution_count": 131,
      "outputs": []
    },
    {
      "cell_type": "code",
      "source": [
        "mse_dt = mean_squared_error(y_test, y_pred_tree) \n",
        "mae_dt = mean_absolute_error(y_test, y_pred_tree) \n",
        "print('Mean squared error using decision tree: ', mse_dt) \n",
        "print('Mean absolute error using decision tree: ', mae_dt)"
      ],
      "metadata": {
        "id": "DDJhUEe81AfR",
        "colab": {
          "base_uri": "https://localhost:8080/"
        },
        "outputId": "0e0d41ef-d117-4c1c-ef6e-d2ef492e2a5f"
      },
      "execution_count": 132,
      "outputs": [
        {
          "output_type": "stream",
          "name": "stdout",
          "text": [
            "Mean squared error using decision tree:  19.065294117647056\n",
            "Mean absolute error using decision tree:  3.2372549019607844\n"
          ]
        }
      ]
    },
    {
      "cell_type": "markdown",
      "source": [
        "Le réseau de neurones est plus performant que l'Arbre de décision"
      ],
      "metadata": {
        "id": "036tq7D11Gcg"
      }
    },
    {
      "cell_type": "code",
      "source": [
        "from sklearn.ensemble import RandomForestRegressor \n",
        "model = RandomForestRegressor(n_estimators = 30, random_state=30) \n",
        "# Modèle RandomForestRegressor avec 30 arbres | random_state est la graine utilisée par le générateur de nombres aléatoires ;\n",
        "model.fit(X_train_scaled, y_train) \n",
        "# Entrainement du modèle\n",
        "y_pred_RF = model.predict(X_test_scaled)\n",
        "# Prédiction"
      ],
      "metadata": {
        "id": "99yf-kxy1h6d"
      },
      "execution_count": 133,
      "outputs": []
    },
    {
      "cell_type": "code",
      "source": [
        "mse_RF = mean_squared_error(y_test, y_pred_RF) \n",
        "mae_RF = mean_absolute_error(y_test, y_pred_RF) \n",
        "print('Mean squared error using Random Forest: ', mse_RF) \n",
        "print('Mean absolute error Using Random Forest: ', mae_RF) "
      ],
      "metadata": {
        "id": "UJ2falix1tZM",
        "colab": {
          "base_uri": "https://localhost:8080/"
        },
        "outputId": "327570fb-c2fd-4866-bfb3-30d199704619"
      },
      "execution_count": 134,
      "outputs": [
        {
          "output_type": "stream",
          "name": "stdout",
          "text": [
            "Mean squared error using Random Forest:  12.701104793028327\n",
            "Mean absolute error Using Random Forest:  2.408235294117647\n"
          ]
        }
      ]
    },
    {
      "cell_type": "markdown",
      "source": [
        "Random Forest pour une 30 d'arbre donne moins d'erreurs que le réseau de neuronespour avec 30 epochs"
      ],
      "metadata": {
        "id": "PSAyGFIH11Tz"
      }
    }
  ]
}