{
  "nbformat": 4,
  "nbformat_minor": 0,
  "metadata": {
    "colab": {
      "name": "TP5_EyaBENNESSIB.ipynb",
      "provenance": [],
      "authorship_tag": "ABX9TyN2rqSfQKD1B9f0SyQC73RI",
      "include_colab_link": true
    },
    "kernelspec": {
      "name": "python3",
      "display_name": "Python 3"
    },
    "language_info": {
      "name": "python"
    }
  },
  "cells": [
    {
      "cell_type": "markdown",
      "metadata": {
        "id": "view-in-github",
        "colab_type": "text"
      },
      "source": [
        "<a href=\"https://colab.research.google.com/github/Eyabennessib/Machine-Learning/blob/main/TP5_EyaBENNESSIB.ipynb\" target=\"_parent\"><img src=\"https://colab.research.google.com/assets/colab-badge.svg\" alt=\"Open In Colab\"/></a>"
      ]
    },
    {
      "cell_type": "code",
      "execution_count": 2,
      "metadata": {
        "colab": {
          "base_uri": "https://localhost:8080/"
        },
        "id": "DqXWZcPqLpiW",
        "outputId": "852b7a4e-6d50-4746-b52e-fa8131305ea1"
      },
      "outputs": [
        {
          "output_type": "stream",
          "name": "stdout",
          "text": [
            "Model name:          Intel(R) Xeon(R) CPU @ 2.20GHz\n",
            "df: –h: No such file or directory\n",
            "Available\n",
            "69024516\n",
            "13302920\n",
            "NVIDIA-SMI has failed because it couldn't communicate with the NVIDIA driver. Make sure that the latest NVIDIA driver is installed and running.\n",
            "\n"
          ]
        }
      ],
      "source": [
        "from psutil import * \n",
        "cpu_count() # indique le nombre de CPU \n",
        "!lscpu |grep 'Model name' # CPU mode and speed \n",
        "!df –h / | awk '{print $4}' # available Hard disk space \n",
        "!free –h –si | awk '/Mem:/{print $2}' # Usuable memory \n",
        "!nvidia-smi –L # GPU specifications."
      ]
    },
    {
      "cell_type": "code",
      "source": [
        "from keras.models import Sequential \n",
        "from keras.layers import Dense \n",
        "from keras.wrappers.scikit_learn import KerasRegressor \n",
        "from pandas import read_csv \n",
        "from sklearn.model_selection import cross_val_score \n",
        "from sklearn.model_selection import KFold \n",
        "from sklearn.pipeline import Pipeline \n",
        "from sklearn.model_selection import train_test_split "
      ],
      "metadata": {
        "id": "8eIrcg4fNS1j"
      },
      "execution_count": 4,
      "outputs": []
    },
    {
      "cell_type": "code",
      "source": [
        "df = read_csv(\"housing_data_for_regression.csv\", delim_whitespace=True, header=None)"
      ],
      "metadata": {
        "id": "rv2QlR9SN4Zh"
      },
      "execution_count": 10,
      "outputs": []
    },
    {
      "cell_type": "code",
      "source": [
        "df.head()"
      ],
      "metadata": {
        "colab": {
          "base_uri": "https://localhost:8080/",
          "height": 206
        },
        "id": "EyKgP3EDnWQ1",
        "outputId": "6047a1cd-6bae-4ced-89d7-122f60c75bb1"
      },
      "execution_count": 11,
      "outputs": [
        {
          "output_type": "execute_result",
          "data": {
            "text/html": [
              "\n",
              "  <div id=\"df-fd664780-a332-40c3-980b-3df22af0a52e\">\n",
              "    <div class=\"colab-df-container\">\n",
              "      <div>\n",
              "<style scoped>\n",
              "    .dataframe tbody tr th:only-of-type {\n",
              "        vertical-align: middle;\n",
              "    }\n",
              "\n",
              "    .dataframe tbody tr th {\n",
              "        vertical-align: top;\n",
              "    }\n",
              "\n",
              "    .dataframe thead th {\n",
              "        text-align: right;\n",
              "    }\n",
              "</style>\n",
              "<table border=\"1\" class=\"dataframe\">\n",
              "  <thead>\n",
              "    <tr style=\"text-align: right;\">\n",
              "      <th></th>\n",
              "      <th>0</th>\n",
              "      <th>1</th>\n",
              "      <th>2</th>\n",
              "      <th>3</th>\n",
              "      <th>4</th>\n",
              "      <th>5</th>\n",
              "      <th>6</th>\n",
              "      <th>7</th>\n",
              "      <th>8</th>\n",
              "      <th>9</th>\n",
              "      <th>10</th>\n",
              "      <th>11</th>\n",
              "      <th>12</th>\n",
              "      <th>13</th>\n",
              "    </tr>\n",
              "  </thead>\n",
              "  <tbody>\n",
              "    <tr>\n",
              "      <th>0</th>\n",
              "      <td>0.00632</td>\n",
              "      <td>18.0</td>\n",
              "      <td>2.31</td>\n",
              "      <td>0</td>\n",
              "      <td>0.538</td>\n",
              "      <td>6.575</td>\n",
              "      <td>65.2</td>\n",
              "      <td>4.0900</td>\n",
              "      <td>1</td>\n",
              "      <td>296.0</td>\n",
              "      <td>15.3</td>\n",
              "      <td>396.90</td>\n",
              "      <td>4.98</td>\n",
              "      <td>24.0</td>\n",
              "    </tr>\n",
              "    <tr>\n",
              "      <th>1</th>\n",
              "      <td>0.02731</td>\n",
              "      <td>0.0</td>\n",
              "      <td>7.07</td>\n",
              "      <td>0</td>\n",
              "      <td>0.469</td>\n",
              "      <td>6.421</td>\n",
              "      <td>78.9</td>\n",
              "      <td>4.9671</td>\n",
              "      <td>2</td>\n",
              "      <td>242.0</td>\n",
              "      <td>17.8</td>\n",
              "      <td>396.90</td>\n",
              "      <td>9.14</td>\n",
              "      <td>21.6</td>\n",
              "    </tr>\n",
              "    <tr>\n",
              "      <th>2</th>\n",
              "      <td>0.02729</td>\n",
              "      <td>0.0</td>\n",
              "      <td>7.07</td>\n",
              "      <td>0</td>\n",
              "      <td>0.469</td>\n",
              "      <td>7.185</td>\n",
              "      <td>61.1</td>\n",
              "      <td>4.9671</td>\n",
              "      <td>2</td>\n",
              "      <td>242.0</td>\n",
              "      <td>17.8</td>\n",
              "      <td>392.83</td>\n",
              "      <td>4.03</td>\n",
              "      <td>34.7</td>\n",
              "    </tr>\n",
              "    <tr>\n",
              "      <th>3</th>\n",
              "      <td>0.03237</td>\n",
              "      <td>0.0</td>\n",
              "      <td>2.18</td>\n",
              "      <td>0</td>\n",
              "      <td>0.458</td>\n",
              "      <td>6.998</td>\n",
              "      <td>45.8</td>\n",
              "      <td>6.0622</td>\n",
              "      <td>3</td>\n",
              "      <td>222.0</td>\n",
              "      <td>18.7</td>\n",
              "      <td>394.63</td>\n",
              "      <td>2.94</td>\n",
              "      <td>33.4</td>\n",
              "    </tr>\n",
              "    <tr>\n",
              "      <th>4</th>\n",
              "      <td>0.06905</td>\n",
              "      <td>0.0</td>\n",
              "      <td>2.18</td>\n",
              "      <td>0</td>\n",
              "      <td>0.458</td>\n",
              "      <td>7.147</td>\n",
              "      <td>54.2</td>\n",
              "      <td>6.0622</td>\n",
              "      <td>3</td>\n",
              "      <td>222.0</td>\n",
              "      <td>18.7</td>\n",
              "      <td>396.90</td>\n",
              "      <td>5.33</td>\n",
              "      <td>36.2</td>\n",
              "    </tr>\n",
              "  </tbody>\n",
              "</table>\n",
              "</div>\n",
              "      <button class=\"colab-df-convert\" onclick=\"convertToInteractive('df-fd664780-a332-40c3-980b-3df22af0a52e')\"\n",
              "              title=\"Convert this dataframe to an interactive table.\"\n",
              "              style=\"display:none;\">\n",
              "        \n",
              "  <svg xmlns=\"http://www.w3.org/2000/svg\" height=\"24px\"viewBox=\"0 0 24 24\"\n",
              "       width=\"24px\">\n",
              "    <path d=\"M0 0h24v24H0V0z\" fill=\"none\"/>\n",
              "    <path d=\"M18.56 5.44l.94 2.06.94-2.06 2.06-.94-2.06-.94-.94-2.06-.94 2.06-2.06.94zm-11 1L8.5 8.5l.94-2.06 2.06-.94-2.06-.94L8.5 2.5l-.94 2.06-2.06.94zm10 10l.94 2.06.94-2.06 2.06-.94-2.06-.94-.94-2.06-.94 2.06-2.06.94z\"/><path d=\"M17.41 7.96l-1.37-1.37c-.4-.4-.92-.59-1.43-.59-.52 0-1.04.2-1.43.59L10.3 9.45l-7.72 7.72c-.78.78-.78 2.05 0 2.83L4 21.41c.39.39.9.59 1.41.59.51 0 1.02-.2 1.41-.59l7.78-7.78 2.81-2.81c.8-.78.8-2.07 0-2.86zM5.41 20L4 18.59l7.72-7.72 1.47 1.35L5.41 20z\"/>\n",
              "  </svg>\n",
              "      </button>\n",
              "      \n",
              "  <style>\n",
              "    .colab-df-container {\n",
              "      display:flex;\n",
              "      flex-wrap:wrap;\n",
              "      gap: 12px;\n",
              "    }\n",
              "\n",
              "    .colab-df-convert {\n",
              "      background-color: #E8F0FE;\n",
              "      border: none;\n",
              "      border-radius: 50%;\n",
              "      cursor: pointer;\n",
              "      display: none;\n",
              "      fill: #1967D2;\n",
              "      height: 32px;\n",
              "      padding: 0 0 0 0;\n",
              "      width: 32px;\n",
              "    }\n",
              "\n",
              "    .colab-df-convert:hover {\n",
              "      background-color: #E2EBFA;\n",
              "      box-shadow: 0px 1px 2px rgba(60, 64, 67, 0.3), 0px 1px 3px 1px rgba(60, 64, 67, 0.15);\n",
              "      fill: #174EA6;\n",
              "    }\n",
              "\n",
              "    [theme=dark] .colab-df-convert {\n",
              "      background-color: #3B4455;\n",
              "      fill: #D2E3FC;\n",
              "    }\n",
              "\n",
              "    [theme=dark] .colab-df-convert:hover {\n",
              "      background-color: #434B5C;\n",
              "      box-shadow: 0px 1px 3px 1px rgba(0, 0, 0, 0.15);\n",
              "      filter: drop-shadow(0px 1px 2px rgba(0, 0, 0, 0.3));\n",
              "      fill: #FFFFFF;\n",
              "    }\n",
              "  </style>\n",
              "\n",
              "      <script>\n",
              "        const buttonEl =\n",
              "          document.querySelector('#df-fd664780-a332-40c3-980b-3df22af0a52e button.colab-df-convert');\n",
              "        buttonEl.style.display =\n",
              "          google.colab.kernel.accessAllowed ? 'block' : 'none';\n",
              "\n",
              "        async function convertToInteractive(key) {\n",
              "          const element = document.querySelector('#df-fd664780-a332-40c3-980b-3df22af0a52e');\n",
              "          const dataTable =\n",
              "            await google.colab.kernel.invokeFunction('convertToInteractive',\n",
              "                                                     [key], {});\n",
              "          if (!dataTable) return;\n",
              "\n",
              "          const docLinkHtml = 'Like what you see? Visit the ' +\n",
              "            '<a target=\"_blank\" href=https://colab.research.google.com/notebooks/data_table.ipynb>data table notebook</a>'\n",
              "            + ' to learn more about interactive tables.';\n",
              "          element.innerHTML = '';\n",
              "          dataTable['output_type'] = 'display_data';\n",
              "          await google.colab.output.renderOutput(dataTable, element);\n",
              "          const docLink = document.createElement('div');\n",
              "          docLink.innerHTML = docLinkHtml;\n",
              "          element.appendChild(docLink);\n",
              "        }\n",
              "      </script>\n",
              "    </div>\n",
              "  </div>\n",
              "  "
            ],
            "text/plain": [
              "        0     1     2   3      4      5   ...  8      9     10      11    12    13\n",
              "0  0.00632  18.0  2.31   0  0.538  6.575  ...   1  296.0  15.3  396.90  4.98  24.0\n",
              "1  0.02731   0.0  7.07   0  0.469  6.421  ...   2  242.0  17.8  396.90  9.14  21.6\n",
              "2  0.02729   0.0  7.07   0  0.469  7.185  ...   2  242.0  17.8  392.83  4.03  34.7\n",
              "3  0.03237   0.0  2.18   0  0.458  6.998  ...   3  222.0  18.7  394.63  2.94  33.4\n",
              "4  0.06905   0.0  2.18   0  0.458  7.147  ...   3  222.0  18.7  396.90  5.33  36.2\n",
              "\n",
              "[5 rows x 14 columns]"
            ]
          },
          "metadata": {},
          "execution_count": 11
        }
      ]
    },
    {
      "cell_type": "code",
      "source": [
        "feature_names = ['CRIM', 'ZN', 'INDUS', 'CHAS', 'NOX', 'RM', 'AGE', 'DIS', 'RAD', 'TAX','PTRATIO', 'B', 'LSTAT', 'MEDV'] \n",
        "df.columns = feature_names"
      ],
      "metadata": {
        "id": "7APJZ1vkna1j"
      },
      "execution_count": 12,
      "outputs": []
    },
    {
      "cell_type": "code",
      "source": [
        "print(df.head()) "
      ],
      "metadata": {
        "colab": {
          "base_uri": "https://localhost:8080/"
        },
        "id": "oewKiK8Yn6K6",
        "outputId": "5c677999-6477-46e5-bb3a-36a169d5be07"
      },
      "execution_count": 13,
      "outputs": [
        {
          "output_type": "stream",
          "name": "stdout",
          "text": [
            "      CRIM    ZN  INDUS  CHAS    NOX  ...    TAX  PTRATIO       B  LSTAT  MEDV\n",
            "0  0.00632  18.0   2.31     0  0.538  ...  296.0     15.3  396.90   4.98  24.0\n",
            "1  0.02731   0.0   7.07     0  0.469  ...  242.0     17.8  396.90   9.14  21.6\n",
            "2  0.02729   0.0   7.07     0  0.469  ...  242.0     17.8  392.83   4.03  34.7\n",
            "3  0.03237   0.0   2.18     0  0.458  ...  222.0     18.7  394.63   2.94  33.4\n",
            "4  0.06905   0.0   2.18     0  0.458  ...  222.0     18.7  396.90   5.33  36.2\n",
            "\n",
            "[5 rows x 14 columns]\n"
          ]
        }
      ]
    },
    {
      "cell_type": "code",
      "source": [
        "df = df.rename(columns={'MEDV': 'PRICE'}) \n",
        "print(df.describe()) "
      ],
      "metadata": {
        "colab": {
          "base_uri": "https://localhost:8080/"
        },
        "id": "lCePdM3voAYz",
        "outputId": "ede1d861-1551-4abc-a0f5-ef257fc927c8"
      },
      "execution_count": 14,
      "outputs": [
        {
          "output_type": "stream",
          "name": "stdout",
          "text": [
            "             CRIM          ZN       INDUS  ...           B       LSTAT       PRICE\n",
            "count  506.000000  506.000000  506.000000  ...  506.000000  506.000000  506.000000\n",
            "mean     3.613524   11.363636   11.136779  ...  356.674032   12.653063   22.532806\n",
            "std      8.601545   23.322453    6.860353  ...   91.294864    7.141062    9.197104\n",
            "min      0.006320    0.000000    0.460000  ...    0.320000    1.730000    5.000000\n",
            "25%      0.082045    0.000000    5.190000  ...  375.377500    6.950000   17.025000\n",
            "50%      0.256510    0.000000    9.690000  ...  391.440000   11.360000   21.200000\n",
            "75%      3.677082   12.500000   18.100000  ...  396.225000   16.955000   25.000000\n",
            "max     88.976200  100.000000   27.740000  ...  396.900000   37.970000   50.000000\n",
            "\n",
            "[8 rows x 14 columns]\n"
          ]
        }
      ]
    },
    {
      "cell_type": "code",
      "source": [
        "X = df.drop('PRICE', axis = 1) \n",
        "y = df['PRICE'] "
      ],
      "metadata": {
        "id": "ash0J2otoMfi"
      },
      "execution_count": 15,
      "outputs": []
    },
    {
      "cell_type": "markdown",
      "source": [
        "Exercice 2 : Construction et entrainement du modèle \n"
      ],
      "metadata": {
        "id": "xszEFVqhocIZ"
      }
    },
    {
      "cell_type": "code",
      "source": [
        "X_train, X_test, y_train, y_test = train_test_split(X, y, test_size = 0.2, random_state = 20) "
      ],
      "metadata": {
        "id": "To8MphxTobl9"
      },
      "execution_count": 16,
      "outputs": []
    },
    {
      "cell_type": "code",
      "source": [
        "from sklearn.preprocessing import StandardScaler \n",
        "scaler=StandardScaler() \n",
        "scaler.fit(X_train) \n",
        "X_train_scaled = scaler.transform(X_train) \n",
        "X_test_scaled = scaler.transform(X_test)\n",
        "#Standardisez les fonctionnalités en supprimant la moyenne et en mettant à l’échelle la variance unitaire."
      ],
      "metadata": {
        "id": "nmmsAt8AqNiL"
      },
      "execution_count": 17,
      "outputs": []
    },
    {
      "cell_type": "code",
      "source": [
        "model = Sequential() \n",
        "model.add(Dense(128, input_dim=13, activation='relu')) #premiere couche du réseau (d'entrée)\n",
        "model.add(Dense(64, activation='relu')) #2eme couche\n",
        "model.add(Dense(1, activation='linear')) #couche de sortie"
      ],
      "metadata": {
        "id": "wOsQ8jojrTCp"
      },
      "execution_count": 18,
      "outputs": []
    },
    {
      "cell_type": "code",
      "source": [
        "model.compile(loss='mean_squared_error', optimizer='adam', metrics=['mae']) \n",
        "model.summary()"
      ],
      "metadata": {
        "colab": {
          "base_uri": "https://localhost:8080/"
        },
        "id": "UtMFzPrAsIKx",
        "outputId": "9cc110b8-e593-4af3-b3c3-8630c114c250"
      },
      "execution_count": 19,
      "outputs": [
        {
          "output_type": "stream",
          "name": "stdout",
          "text": [
            "Model: \"sequential\"\n",
            "_________________________________________________________________\n",
            " Layer (type)                Output Shape              Param #   \n",
            "=================================================================\n",
            " dense (Dense)               (None, 128)               1792      \n",
            "                                                                 \n",
            " dense_1 (Dense)             (None, 64)                8256      \n",
            "                                                                 \n",
            " dense_2 (Dense)             (None, 1)                 65        \n",
            "                                                                 \n",
            "=================================================================\n",
            "Total params: 10,113\n",
            "Trainable params: 10,113\n",
            "Non-trainable params: 0\n",
            "_________________________________________________________________\n"
          ]
        }
      ]
    },
    {
      "cell_type": "code",
      "source": [
        "history = model.fit(X_train_scaled, y_train, validation_split=0.2, epochs =100) "
      ],
      "metadata": {
        "colab": {
          "base_uri": "https://localhost:8080/"
        },
        "id": "3rVisU99s51M",
        "outputId": "759c96c1-7911-4e51-e9c4-98e54bb7727b"
      },
      "execution_count": 20,
      "outputs": [
        {
          "output_type": "stream",
          "name": "stdout",
          "text": [
            "Epoch 1/100\n",
            "11/11 [==============================] - 1s 21ms/step - loss: 571.0901 - mae: 22.0112 - val_loss: 587.1077 - val_mae: 22.2071\n",
            "Epoch 2/100\n",
            "11/11 [==============================] - 0s 4ms/step - loss: 510.0586 - mae: 20.6100 - val_loss: 508.3041 - val_mae: 20.4819\n",
            "Epoch 3/100\n",
            "11/11 [==============================] - 0s 5ms/step - loss: 430.6364 - mae: 18.6535 - val_loss: 404.6155 - val_mae: 17.9454\n",
            "Epoch 4/100\n",
            "11/11 [==============================] - 0s 6ms/step - loss: 333.8056 - mae: 15.9346 - val_loss: 275.9945 - val_mae: 14.4014\n",
            "Epoch 5/100\n",
            "11/11 [==============================] - 0s 6ms/step - loss: 217.4471 - mae: 12.3126 - val_loss: 151.9426 - val_mae: 10.2972\n",
            "Epoch 6/100\n",
            "11/11 [==============================] - 0s 6ms/step - loss: 126.1787 - mae: 8.6688 - val_loss: 76.3153 - val_mae: 6.9685\n",
            "Epoch 7/100\n",
            "11/11 [==============================] - 0s 4ms/step - loss: 80.8950 - mae: 6.7290 - val_loss: 50.6402 - val_mae: 5.6966\n",
            "Epoch 8/100\n",
            "11/11 [==============================] - 0s 4ms/step - loss: 61.6065 - mae: 5.8141 - val_loss: 36.9686 - val_mae: 4.9052\n",
            "Epoch 9/100\n",
            "11/11 [==============================] - 0s 6ms/step - loss: 45.7372 - mae: 4.9099 - val_loss: 28.7623 - val_mae: 4.3784\n",
            "Epoch 10/100\n",
            "11/11 [==============================] - 0s 5ms/step - loss: 35.9380 - mae: 4.2072 - val_loss: 24.6329 - val_mae: 4.1333\n",
            "Epoch 11/100\n",
            "11/11 [==============================] - 0s 6ms/step - loss: 30.5644 - mae: 3.8555 - val_loss: 21.7952 - val_mae: 3.8793\n",
            "Epoch 12/100\n",
            "11/11 [==============================] - 0s 4ms/step - loss: 27.3532 - mae: 3.6758 - val_loss: 19.9219 - val_mae: 3.6780\n",
            "Epoch 13/100\n",
            "11/11 [==============================] - 0s 5ms/step - loss: 24.9966 - mae: 3.5184 - val_loss: 18.9520 - val_mae: 3.5815\n",
            "Epoch 14/100\n",
            "11/11 [==============================] - 0s 4ms/step - loss: 23.2787 - mae: 3.3506 - val_loss: 18.0691 - val_mae: 3.4875\n",
            "Epoch 15/100\n",
            "11/11 [==============================] - 0s 5ms/step - loss: 22.0716 - mae: 3.2536 - val_loss: 17.3750 - val_mae: 3.4129\n",
            "Epoch 16/100\n",
            "11/11 [==============================] - 0s 4ms/step - loss: 21.1598 - mae: 3.1615 - val_loss: 17.1294 - val_mae: 3.3833\n",
            "Epoch 17/100\n",
            "11/11 [==============================] - 0s 4ms/step - loss: 20.1425 - mae: 3.0801 - val_loss: 16.1539 - val_mae: 3.2916\n",
            "Epoch 18/100\n",
            "11/11 [==============================] - 0s 5ms/step - loss: 19.3447 - mae: 3.0016 - val_loss: 15.5532 - val_mae: 3.2159\n",
            "Epoch 19/100\n",
            "11/11 [==============================] - 0s 6ms/step - loss: 18.5408 - mae: 2.9393 - val_loss: 15.2229 - val_mae: 3.1631\n",
            "Epoch 20/100\n",
            "11/11 [==============================] - 0s 7ms/step - loss: 17.8615 - mae: 2.8746 - val_loss: 15.4056 - val_mae: 3.1420\n",
            "Epoch 21/100\n",
            "11/11 [==============================] - 0s 5ms/step - loss: 17.3260 - mae: 2.8166 - val_loss: 14.9107 - val_mae: 3.1060\n",
            "Epoch 22/100\n",
            "11/11 [==============================] - 0s 6ms/step - loss: 16.8577 - mae: 2.7912 - val_loss: 14.5540 - val_mae: 3.0664\n",
            "Epoch 23/100\n",
            "11/11 [==============================] - 0s 4ms/step - loss: 16.3306 - mae: 2.7852 - val_loss: 14.3461 - val_mae: 3.0331\n",
            "Epoch 24/100\n",
            "11/11 [==============================] - 0s 6ms/step - loss: 15.7759 - mae: 2.7128 - val_loss: 14.2513 - val_mae: 3.0043\n",
            "Epoch 25/100\n",
            "11/11 [==============================] - 0s 6ms/step - loss: 15.2889 - mae: 2.6611 - val_loss: 14.3085 - val_mae: 2.9862\n",
            "Epoch 26/100\n",
            "11/11 [==============================] - 0s 6ms/step - loss: 15.0450 - mae: 2.6409 - val_loss: 13.8729 - val_mae: 2.9301\n",
            "Epoch 27/100\n",
            "11/11 [==============================] - 0s 4ms/step - loss: 14.5181 - mae: 2.5986 - val_loss: 13.3273 - val_mae: 2.9183\n",
            "Epoch 28/100\n",
            "11/11 [==============================] - 0s 5ms/step - loss: 14.3727 - mae: 2.5904 - val_loss: 13.1592 - val_mae: 2.8949\n",
            "Epoch 29/100\n",
            "11/11 [==============================] - 0s 4ms/step - loss: 13.9136 - mae: 2.5288 - val_loss: 13.4453 - val_mae: 2.8917\n",
            "Epoch 30/100\n",
            "11/11 [==============================] - 0s 5ms/step - loss: 13.9464 - mae: 2.5290 - val_loss: 13.4692 - val_mae: 2.8656\n",
            "Epoch 31/100\n",
            "11/11 [==============================] - 0s 5ms/step - loss: 13.9193 - mae: 2.5335 - val_loss: 13.9231 - val_mae: 2.9445\n",
            "Epoch 32/100\n",
            "11/11 [==============================] - 0s 4ms/step - loss: 14.3941 - mae: 2.5606 - val_loss: 12.9929 - val_mae: 2.8606\n",
            "Epoch 33/100\n",
            "11/11 [==============================] - 0s 6ms/step - loss: 13.3847 - mae: 2.5123 - val_loss: 12.8860 - val_mae: 2.8500\n",
            "Epoch 34/100\n",
            "11/11 [==============================] - 0s 6ms/step - loss: 13.1961 - mae: 2.5061 - val_loss: 12.9753 - val_mae: 2.8476\n",
            "Epoch 35/100\n",
            "11/11 [==============================] - 0s 6ms/step - loss: 12.9381 - mae: 2.4849 - val_loss: 12.6576 - val_mae: 2.8436\n",
            "Epoch 36/100\n",
            "11/11 [==============================] - 0s 6ms/step - loss: 12.6285 - mae: 2.4376 - val_loss: 12.5786 - val_mae: 2.8333\n",
            "Epoch 37/100\n",
            "11/11 [==============================] - 0s 5ms/step - loss: 12.3086 - mae: 2.3969 - val_loss: 12.5224 - val_mae: 2.8143\n",
            "Epoch 38/100\n",
            "11/11 [==============================] - 0s 6ms/step - loss: 12.1486 - mae: 2.3861 - val_loss: 12.3136 - val_mae: 2.7718\n",
            "Epoch 39/100\n",
            "11/11 [==============================] - 0s 5ms/step - loss: 12.0397 - mae: 2.3833 - val_loss: 12.0809 - val_mae: 2.7494\n",
            "Epoch 40/100\n",
            "11/11 [==============================] - 0s 6ms/step - loss: 11.8298 - mae: 2.3707 - val_loss: 12.4720 - val_mae: 2.7806\n",
            "Epoch 41/100\n",
            "11/11 [==============================] - 0s 5ms/step - loss: 11.9668 - mae: 2.3598 - val_loss: 13.0116 - val_mae: 2.8028\n",
            "Epoch 42/100\n",
            "11/11 [==============================] - 0s 6ms/step - loss: 11.5612 - mae: 2.3263 - val_loss: 12.4233 - val_mae: 2.8203\n",
            "Epoch 43/100\n",
            "11/11 [==============================] - 0s 6ms/step - loss: 11.4046 - mae: 2.3230 - val_loss: 12.4963 - val_mae: 2.8228\n",
            "Epoch 44/100\n",
            "11/11 [==============================] - 0s 4ms/step - loss: 11.2007 - mae: 2.2958 - val_loss: 12.2421 - val_mae: 2.8032\n",
            "Epoch 45/100\n",
            "11/11 [==============================] - 0s 5ms/step - loss: 11.1309 - mae: 2.2852 - val_loss: 12.2792 - val_mae: 2.7897\n",
            "Epoch 46/100\n",
            "11/11 [==============================] - 0s 6ms/step - loss: 10.9097 - mae: 2.2506 - val_loss: 12.0424 - val_mae: 2.7644\n",
            "Epoch 47/100\n",
            "11/11 [==============================] - 0s 5ms/step - loss: 10.7798 - mae: 2.2359 - val_loss: 12.0724 - val_mae: 2.7768\n",
            "Epoch 48/100\n",
            "11/11 [==============================] - 0s 4ms/step - loss: 10.6755 - mae: 2.2307 - val_loss: 12.1563 - val_mae: 2.7839\n",
            "Epoch 49/100\n",
            "11/11 [==============================] - 0s 4ms/step - loss: 10.6141 - mae: 2.2390 - val_loss: 12.0267 - val_mae: 2.7772\n",
            "Epoch 50/100\n",
            "11/11 [==============================] - 0s 4ms/step - loss: 10.5219 - mae: 2.2313 - val_loss: 11.7461 - val_mae: 2.7341\n",
            "Epoch 51/100\n",
            "11/11 [==============================] - 0s 4ms/step - loss: 10.4472 - mae: 2.2067 - val_loss: 11.5925 - val_mae: 2.7133\n",
            "Epoch 52/100\n",
            "11/11 [==============================] - 0s 6ms/step - loss: 10.2543 - mae: 2.2351 - val_loss: 12.1864 - val_mae: 2.7620\n",
            "Epoch 53/100\n",
            "11/11 [==============================] - 0s 5ms/step - loss: 10.3665 - mae: 2.2415 - val_loss: 12.1274 - val_mae: 2.7601\n",
            "Epoch 54/100\n",
            "11/11 [==============================] - 0s 5ms/step - loss: 10.1484 - mae: 2.1671 - val_loss: 12.4338 - val_mae: 2.7756\n",
            "Epoch 55/100\n",
            "11/11 [==============================] - 0s 4ms/step - loss: 10.1784 - mae: 2.1522 - val_loss: 12.1301 - val_mae: 2.7723\n",
            "Epoch 56/100\n",
            "11/11 [==============================] - 0s 5ms/step - loss: 9.8577 - mae: 2.1837 - val_loss: 12.0239 - val_mae: 2.8107\n",
            "Epoch 57/100\n",
            "11/11 [==============================] - 0s 4ms/step - loss: 10.1760 - mae: 2.2514 - val_loss: 11.8362 - val_mae: 2.7577\n",
            "Epoch 58/100\n",
            "11/11 [==============================] - 0s 6ms/step - loss: 9.7113 - mae: 2.1427 - val_loss: 12.3075 - val_mae: 2.7778\n",
            "Epoch 59/100\n",
            "11/11 [==============================] - 0s 6ms/step - loss: 9.7100 - mae: 2.1343 - val_loss: 12.0258 - val_mae: 2.7795\n",
            "Epoch 60/100\n",
            "11/11 [==============================] - 0s 4ms/step - loss: 9.7034 - mae: 2.1665 - val_loss: 12.0186 - val_mae: 2.7606\n",
            "Epoch 61/100\n",
            "11/11 [==============================] - 0s 5ms/step - loss: 9.8432 - mae: 2.1424 - val_loss: 12.1337 - val_mae: 2.7583\n",
            "Epoch 62/100\n",
            "11/11 [==============================] - 0s 4ms/step - loss: 9.3860 - mae: 2.0748 - val_loss: 11.9602 - val_mae: 2.7343\n",
            "Epoch 63/100\n",
            "11/11 [==============================] - 0s 4ms/step - loss: 9.3082 - mae: 2.1059 - val_loss: 11.6617 - val_mae: 2.7005\n",
            "Epoch 64/100\n",
            "11/11 [==============================] - 0s 4ms/step - loss: 9.3276 - mae: 2.1354 - val_loss: 12.5017 - val_mae: 2.8039\n",
            "Epoch 65/100\n",
            "11/11 [==============================] - 0s 5ms/step - loss: 9.1550 - mae: 2.0846 - val_loss: 11.7362 - val_mae: 2.7539\n",
            "Epoch 66/100\n",
            "11/11 [==============================] - 0s 4ms/step - loss: 9.0638 - mae: 2.0759 - val_loss: 11.6861 - val_mae: 2.7006\n",
            "Epoch 67/100\n",
            "11/11 [==============================] - 0s 6ms/step - loss: 8.9126 - mae: 2.0428 - val_loss: 11.4845 - val_mae: 2.6838\n",
            "Epoch 68/100\n",
            "11/11 [==============================] - 0s 5ms/step - loss: 8.7692 - mae: 2.0487 - val_loss: 11.5103 - val_mae: 2.6942\n",
            "Epoch 69/100\n",
            "11/11 [==============================] - 0s 4ms/step - loss: 8.7290 - mae: 2.0389 - val_loss: 11.4946 - val_mae: 2.6656\n",
            "Epoch 70/100\n",
            "11/11 [==============================] - 0s 6ms/step - loss: 8.8042 - mae: 2.0695 - val_loss: 11.4797 - val_mae: 2.6951\n",
            "Epoch 71/100\n",
            "11/11 [==============================] - 0s 5ms/step - loss: 8.5567 - mae: 2.0410 - val_loss: 11.5316 - val_mae: 2.6738\n",
            "Epoch 72/100\n",
            "11/11 [==============================] - 0s 7ms/step - loss: 8.4579 - mae: 2.0005 - val_loss: 11.3841 - val_mae: 2.6363\n",
            "Epoch 73/100\n",
            "11/11 [==============================] - 0s 6ms/step - loss: 8.5053 - mae: 1.9989 - val_loss: 11.3688 - val_mae: 2.6424\n",
            "Epoch 74/100\n",
            "11/11 [==============================] - 0s 5ms/step - loss: 8.4285 - mae: 2.0249 - val_loss: 11.3567 - val_mae: 2.6537\n",
            "Epoch 75/100\n",
            "11/11 [==============================] - 0s 5ms/step - loss: 8.2663 - mae: 2.0116 - val_loss: 11.4480 - val_mae: 2.6443\n",
            "Epoch 76/100\n",
            "11/11 [==============================] - 0s 4ms/step - loss: 8.1299 - mae: 1.9787 - val_loss: 11.1692 - val_mae: 2.6253\n",
            "Epoch 77/100\n",
            "11/11 [==============================] - 0s 5ms/step - loss: 8.0348 - mae: 1.9789 - val_loss: 11.1377 - val_mae: 2.6064\n",
            "Epoch 78/100\n",
            "11/11 [==============================] - 0s 4ms/step - loss: 8.0053 - mae: 1.9941 - val_loss: 10.9175 - val_mae: 2.6042\n",
            "Epoch 79/100\n",
            "11/11 [==============================] - 0s 6ms/step - loss: 7.9597 - mae: 1.9900 - val_loss: 11.1316 - val_mae: 2.6231\n",
            "Epoch 80/100\n",
            "11/11 [==============================] - 0s 6ms/step - loss: 7.9267 - mae: 1.9778 - val_loss: 11.0805 - val_mae: 2.6278\n",
            "Epoch 81/100\n",
            "11/11 [==============================] - 0s 7ms/step - loss: 7.8195 - mae: 1.9428 - val_loss: 10.8316 - val_mae: 2.5809\n",
            "Epoch 82/100\n",
            "11/11 [==============================] - 0s 4ms/step - loss: 7.7969 - mae: 1.9436 - val_loss: 11.0526 - val_mae: 2.5960\n",
            "Epoch 83/100\n",
            "11/11 [==============================] - 0s 4ms/step - loss: 7.7710 - mae: 1.9245 - val_loss: 11.2442 - val_mae: 2.6321\n",
            "Epoch 84/100\n",
            "11/11 [==============================] - 0s 6ms/step - loss: 7.8655 - mae: 1.9290 - val_loss: 10.7323 - val_mae: 2.5668\n",
            "Epoch 85/100\n",
            "11/11 [==============================] - 0s 5ms/step - loss: 7.5840 - mae: 1.9078 - val_loss: 10.6890 - val_mae: 2.5498\n",
            "Epoch 86/100\n",
            "11/11 [==============================] - 0s 6ms/step - loss: 7.4934 - mae: 1.8981 - val_loss: 10.5312 - val_mae: 2.5661\n",
            "Epoch 87/100\n",
            "11/11 [==============================] - 0s 7ms/step - loss: 7.4729 - mae: 1.9027 - val_loss: 10.7214 - val_mae: 2.5608\n",
            "Epoch 88/100\n",
            "11/11 [==============================] - 0s 4ms/step - loss: 7.4956 - mae: 1.9366 - val_loss: 10.9483 - val_mae: 2.5961\n",
            "Epoch 89/100\n",
            "11/11 [==============================] - 0s 6ms/step - loss: 7.3070 - mae: 1.9096 - val_loss: 10.5747 - val_mae: 2.6104\n",
            "Epoch 90/100\n",
            "11/11 [==============================] - 0s 4ms/step - loss: 7.4223 - mae: 1.9191 - val_loss: 10.7401 - val_mae: 2.5705\n",
            "Epoch 91/100\n",
            "11/11 [==============================] - 0s 5ms/step - loss: 7.4205 - mae: 1.9377 - val_loss: 10.3146 - val_mae: 2.5605\n",
            "Epoch 92/100\n",
            "11/11 [==============================] - 0s 5ms/step - loss: 7.1795 - mae: 1.8912 - val_loss: 10.6985 - val_mae: 2.5302\n",
            "Epoch 93/100\n",
            "11/11 [==============================] - 0s 5ms/step - loss: 7.0986 - mae: 1.8545 - val_loss: 10.3773 - val_mae: 2.5518\n",
            "Epoch 94/100\n",
            "11/11 [==============================] - 0s 6ms/step - loss: 6.9117 - mae: 1.8624 - val_loss: 10.7533 - val_mae: 2.5826\n",
            "Epoch 95/100\n",
            "11/11 [==============================] - 0s 6ms/step - loss: 7.0187 - mae: 1.8748 - val_loss: 10.3031 - val_mae: 2.5543\n",
            "Epoch 96/100\n",
            "11/11 [==============================] - 0s 7ms/step - loss: 6.9880 - mae: 1.8880 - val_loss: 10.1895 - val_mae: 2.5076\n",
            "Epoch 97/100\n",
            "11/11 [==============================] - 0s 7ms/step - loss: 6.8115 - mae: 1.8387 - val_loss: 10.2552 - val_mae: 2.4844\n",
            "Epoch 98/100\n",
            "11/11 [==============================] - 0s 4ms/step - loss: 6.7866 - mae: 1.8354 - val_loss: 10.0563 - val_mae: 2.5073\n",
            "Epoch 99/100\n",
            "11/11 [==============================] - 0s 6ms/step - loss: 6.5981 - mae: 1.8235 - val_loss: 10.5700 - val_mae: 2.5005\n",
            "Epoch 100/100\n",
            "11/11 [==============================] - 0s 6ms/step - loss: 6.9138 - mae: 1.8515 - val_loss: 10.3277 - val_mae: 2.5059\n"
          ]
        }
      ]
    },
    {
      "cell_type": "code",
      "source": [
        "history = model.fit(X_train_scaled, y_train, validation_split=0.2, epochs =20) "
      ],
      "metadata": {
        "colab": {
          "base_uri": "https://localhost:8080/"
        },
        "id": "Oha10vhVtbZh",
        "outputId": "32166b96-554f-4a5b-f096-358c49c4f9be"
      },
      "execution_count": 21,
      "outputs": [
        {
          "output_type": "stream",
          "name": "stdout",
          "text": [
            "Epoch 1/20\n",
            "11/11 [==============================] - 0s 17ms/step - loss: 6.6529 - mae: 1.8422 - val_loss: 9.8777 - val_mae: 2.5154\n",
            "Epoch 2/20\n",
            "11/11 [==============================] - 0s 6ms/step - loss: 6.4964 - mae: 1.8196 - val_loss: 10.3258 - val_mae: 2.4793\n",
            "Epoch 3/20\n",
            "11/11 [==============================] - 0s 8ms/step - loss: 6.3855 - mae: 1.7978 - val_loss: 10.1493 - val_mae: 2.5084\n",
            "Epoch 4/20\n",
            "11/11 [==============================] - 0s 10ms/step - loss: 6.3276 - mae: 1.7923 - val_loss: 10.3250 - val_mae: 2.5122\n",
            "Epoch 5/20\n",
            "11/11 [==============================] - 0s 17ms/step - loss: 6.1880 - mae: 1.7707 - val_loss: 10.2379 - val_mae: 2.4762\n",
            "Epoch 6/20\n",
            "11/11 [==============================] - 0s 23ms/step - loss: 6.3750 - mae: 1.7860 - val_loss: 9.9542 - val_mae: 2.4671\n",
            "Epoch 7/20\n",
            "11/11 [==============================] - 0s 17ms/step - loss: 6.2136 - mae: 1.7814 - val_loss: 9.7949 - val_mae: 2.4550\n",
            "Epoch 8/20\n",
            "11/11 [==============================] - 0s 16ms/step - loss: 6.1198 - mae: 1.7685 - val_loss: 9.7117 - val_mae: 2.4633\n",
            "Epoch 9/20\n",
            "11/11 [==============================] - 0s 13ms/step - loss: 6.2354 - mae: 1.8287 - val_loss: 9.4621 - val_mae: 2.4148\n",
            "Epoch 10/20\n",
            "11/11 [==============================] - 0s 4ms/step - loss: 6.3864 - mae: 1.8356 - val_loss: 9.7823 - val_mae: 2.4223\n",
            "Epoch 11/20\n",
            "11/11 [==============================] - 0s 4ms/step - loss: 5.8688 - mae: 1.7308 - val_loss: 9.4086 - val_mae: 2.4488\n",
            "Epoch 12/20\n",
            "11/11 [==============================] - 0s 6ms/step - loss: 6.2519 - mae: 1.8116 - val_loss: 9.2313 - val_mae: 2.3686\n",
            "Epoch 13/20\n",
            "11/11 [==============================] - 0s 6ms/step - loss: 6.3588 - mae: 1.7614 - val_loss: 9.7593 - val_mae: 2.4385\n",
            "Epoch 14/20\n",
            "11/11 [==============================] - 0s 4ms/step - loss: 5.8363 - mae: 1.7270 - val_loss: 9.1171 - val_mae: 2.3733\n",
            "Epoch 15/20\n",
            "11/11 [==============================] - 0s 6ms/step - loss: 5.8220 - mae: 1.7388 - val_loss: 9.3794 - val_mae: 2.3767\n",
            "Epoch 16/20\n",
            "11/11 [==============================] - 0s 6ms/step - loss: 5.8468 - mae: 1.7185 - val_loss: 9.5110 - val_mae: 2.4121\n",
            "Epoch 17/20\n",
            "11/11 [==============================] - 0s 6ms/step - loss: 5.6249 - mae: 1.7211 - val_loss: 9.1877 - val_mae: 2.3592\n",
            "Epoch 18/20\n",
            "11/11 [==============================] - 0s 4ms/step - loss: 5.6391 - mae: 1.7315 - val_loss: 9.0533 - val_mae: 2.3460\n",
            "Epoch 19/20\n",
            "11/11 [==============================] - 0s 4ms/step - loss: 5.5052 - mae: 1.6885 - val_loss: 9.3704 - val_mae: 2.3714\n",
            "Epoch 20/20\n",
            "11/11 [==============================] - 0s 5ms/step - loss: 5.5424 - mae: 1.6827 - val_loss: 9.0930 - val_mae: 2.3818\n"
          ]
        }
      ]
    },
    {
      "cell_type": "code",
      "source": [
        "history = model.fit(X_train_scaled, y_train, validation_split=0.2, epochs =30) "
      ],
      "metadata": {
        "colab": {
          "base_uri": "https://localhost:8080/"
        },
        "id": "oVTfp5jJt5_g",
        "outputId": "4baf68e8-3301-4df0-efd6-15c5670919ff"
      },
      "execution_count": 22,
      "outputs": [
        {
          "output_type": "stream",
          "name": "stdout",
          "text": [
            "Epoch 1/30\n",
            "11/11 [==============================] - 0s 8ms/step - loss: 5.6427 - mae: 1.7371 - val_loss: 9.2002 - val_mae: 2.3585\n",
            "Epoch 2/30\n",
            "11/11 [==============================] - 0s 4ms/step - loss: 5.4126 - mae: 1.6987 - val_loss: 9.3526 - val_mae: 2.3631\n",
            "Epoch 3/30\n",
            "11/11 [==============================] - 0s 6ms/step - loss: 5.2700 - mae: 1.6607 - val_loss: 9.1318 - val_mae: 2.4032\n",
            "Epoch 4/30\n",
            "11/11 [==============================] - 0s 4ms/step - loss: 5.3640 - mae: 1.6947 - val_loss: 9.1495 - val_mae: 2.3610\n",
            "Epoch 5/30\n",
            "11/11 [==============================] - 0s 4ms/step - loss: 5.2651 - mae: 1.6698 - val_loss: 9.5950 - val_mae: 2.3842\n",
            "Epoch 6/30\n",
            "11/11 [==============================] - 0s 4ms/step - loss: 5.4522 - mae: 1.7098 - val_loss: 9.3342 - val_mae: 2.3966\n",
            "Epoch 7/30\n",
            "11/11 [==============================] - 0s 5ms/step - loss: 5.1881 - mae: 1.6704 - val_loss: 9.0491 - val_mae: 2.3741\n",
            "Epoch 8/30\n",
            "11/11 [==============================] - 0s 6ms/step - loss: 5.1543 - mae: 1.6750 - val_loss: 8.8757 - val_mae: 2.3144\n",
            "Epoch 9/30\n",
            "11/11 [==============================] - 0s 6ms/step - loss: 5.1981 - mae: 1.6714 - val_loss: 9.2424 - val_mae: 2.3975\n",
            "Epoch 10/30\n",
            "11/11 [==============================] - 0s 6ms/step - loss: 5.1749 - mae: 1.6588 - val_loss: 9.2622 - val_mae: 2.3442\n",
            "Epoch 11/30\n",
            "11/11 [==============================] - 0s 4ms/step - loss: 5.1387 - mae: 1.6297 - val_loss: 9.0126 - val_mae: 2.3387\n",
            "Epoch 12/30\n",
            "11/11 [==============================] - 0s 5ms/step - loss: 5.1704 - mae: 1.6730 - val_loss: 8.8600 - val_mae: 2.2917\n",
            "Epoch 13/30\n",
            "11/11 [==============================] - 0s 4ms/step - loss: 4.9068 - mae: 1.6342 - val_loss: 9.0553 - val_mae: 2.3437\n",
            "Epoch 14/30\n",
            "11/11 [==============================] - 0s 4ms/step - loss: 5.1391 - mae: 1.6897 - val_loss: 9.3595 - val_mae: 2.3812\n",
            "Epoch 15/30\n",
            "11/11 [==============================] - 0s 4ms/step - loss: 5.0199 - mae: 1.6637 - val_loss: 9.0531 - val_mae: 2.3777\n",
            "Epoch 16/30\n",
            "11/11 [==============================] - 0s 4ms/step - loss: 7.3848 - mae: 1.9957 - val_loss: 10.6468 - val_mae: 2.4576\n",
            "Epoch 17/30\n",
            "11/11 [==============================] - 0s 5ms/step - loss: 5.4778 - mae: 1.7159 - val_loss: 10.5855 - val_mae: 2.5888\n",
            "Epoch 18/30\n",
            "11/11 [==============================] - 0s 5ms/step - loss: 5.2327 - mae: 1.6812 - val_loss: 8.9946 - val_mae: 2.3302\n",
            "Epoch 19/30\n",
            "11/11 [==============================] - 0s 4ms/step - loss: 4.8410 - mae: 1.6334 - val_loss: 8.8573 - val_mae: 2.3012\n",
            "Epoch 20/30\n",
            "11/11 [==============================] - 0s 4ms/step - loss: 4.8247 - mae: 1.6380 - val_loss: 9.3311 - val_mae: 2.3884\n",
            "Epoch 21/30\n",
            "11/11 [==============================] - 0s 4ms/step - loss: 4.7360 - mae: 1.6250 - val_loss: 8.7603 - val_mae: 2.3593\n",
            "Epoch 22/30\n",
            "11/11 [==============================] - 0s 6ms/step - loss: 4.5689 - mae: 1.5886 - val_loss: 8.7469 - val_mae: 2.2999\n",
            "Epoch 23/30\n",
            "11/11 [==============================] - 0s 6ms/step - loss: 4.7161 - mae: 1.6226 - val_loss: 8.6958 - val_mae: 2.3106\n",
            "Epoch 24/30\n",
            "11/11 [==============================] - 0s 4ms/step - loss: 4.5528 - mae: 1.5729 - val_loss: 9.4297 - val_mae: 2.4023\n",
            "Epoch 25/30\n",
            "11/11 [==============================] - 0s 4ms/step - loss: 4.5714 - mae: 1.5632 - val_loss: 8.8296 - val_mae: 2.3192\n",
            "Epoch 26/30\n",
            "11/11 [==============================] - 0s 4ms/step - loss: 4.5866 - mae: 1.5847 - val_loss: 8.7314 - val_mae: 2.3138\n",
            "Epoch 27/30\n",
            "11/11 [==============================] - 0s 5ms/step - loss: 4.4837 - mae: 1.5771 - val_loss: 8.9513 - val_mae: 2.3335\n",
            "Epoch 28/30\n",
            "11/11 [==============================] - 0s 6ms/step - loss: 4.4130 - mae: 1.5519 - val_loss: 8.7197 - val_mae: 2.3049\n",
            "Epoch 29/30\n",
            "11/11 [==============================] - 0s 4ms/step - loss: 4.3454 - mae: 1.5688 - val_loss: 8.7184 - val_mae: 2.2935\n",
            "Epoch 30/30\n",
            "11/11 [==============================] - 0s 4ms/step - loss: 4.3923 - mae: 1.5743 - val_loss: 8.6990 - val_mae: 2.3122\n"
          ]
        }
      ]
    },
    {
      "cell_type": "code",
      "source": [
        "from matplotlib import pyplot as plt \n",
        "loss = history.history['loss'] \n",
        "val_loss = history.history['val_loss'] \n",
        "epochs = range(1, len(loss) + 1) \n",
        "plt.plot(epochs, loss, 'y', label='Training loss') \n",
        "plt.plot(epochs, val_loss, 'r', label='Validation loss') \n",
        "plt.title('Training and validation loss') \n",
        "plt.xlabel('Epochs') \n",
        "plt.ylabel('Loss') \n",
        "plt.legend() \n",
        "plt.show() "
      ],
      "metadata": {
        "colab": {
          "base_uri": "https://localhost:8080/",
          "height": 295
        },
        "id": "xph9bwagtA8M",
        "outputId": "52135d7b-3418-4664-902c-96fa529af967"
      },
      "execution_count": 23,
      "outputs": [
        {
          "output_type": "display_data",
          "data": {
            "image/png": "[encoded data removed]",
            "text/plain": [
              "<Figure size 432x288 with 1 Axes>"
            ]
          },
          "metadata": {
            "needs_background": "light"
          }
        }
      ]
    },
    {
      "cell_type": "markdown",
      "source": [
        "on peut voir avec cette graphe que la courbe en rouge (validation loss) a des valeurs de la fonction loss plus elevées que la courbe en vert ( training loss) ce qui est tout à fait normal. on peut voir qu'après 30 epochs la fonction loss nous indique une erreur de 9 tant que l'autre est proche de 0."
      ],
      "metadata": {
        "id": "o77ClZSHutdg"
      }
    },
    {
      "cell_type": "code",
      "source": [
        "acc = history.history['mae'] \n",
        "val_acc = history.history['val_mae'] \n",
        "plt.plot(epochs, acc, 'y', label='Training MAE') \n",
        "plt.plot(epochs, val_acc, 'r', label='Validation MAE') \n",
        "plt.title('Training and validation MAE') \n",
        "plt.xlabel('Epochs') \n",
        "plt.ylabel('Accuracy') \n",
        "plt.legend() \n",
        "plt.show()"
      ],
      "metadata": {
        "colab": {
          "base_uri": "https://localhost:8080/",
          "height": 295
        },
        "id": "-DJs4W2GumXS",
        "outputId": "e08185db-144a-4ebb-efc9-97dcd3000bc0"
      },
      "execution_count": 28,
      "outputs": [
        {
          "output_type": "display_data",
          "data": {
            "image/png": "[encoded data removed]",
            "text/plain": [
              "<Figure size 432x288 with 1 Axes>"
            ]
          },
          "metadata": {
            "needs_background": "light"
          }
        }
      ]
    },
    {
      "cell_type": "markdown",
      "source": [
        "Maintenant, on compare la valeur de l'erreur absolue moyenne entre la courbe de training set et de validation set. On peut constater que l'erreur ne s'annule pas et et la data set de training est plus proche de 0 que la data set de validation."
      ],
      "metadata": {
        "id": "-vqFBUjAxAN_"
      }
    },
    {
      "cell_type": "code",
      "source": [
        "predictions = model.predict(X_test_scaled[:5]) \n",
        "print(\"Predicted values are: \", predictions) \n",
        "print(\"Real values are: \", y_test[:5]) "
      ],
      "metadata": {
        "colab": {
          "base_uri": "https://localhost:8080/"
        },
        "id": "8J84BqovxAlv",
        "outputId": "dcbc3362-9678-44b7-a7a7-4095ef8af3c4"
      },
      "execution_count": 29,
      "outputs": [
        {
          "output_type": "stream",
          "name": "stdout",
          "text": [
            "Predicted values are:  [[19.222294]\n",
            " [20.048431]\n",
            " [21.013157]\n",
            " [20.815168]\n",
            " [12.67321 ]]\n",
            "Real values are:  498    21.2\n",
            "94     20.6\n",
            "150    21.5\n",
            "221    21.7\n",
            "423    13.4\n",
            "Name: PRICE, dtype: float64\n"
          ]
        }
      ]
    },
    {
      "cell_type": "code",
      "source": [
        "mse_neural, mae_neural = model.evaluate(X_test_scaled, y_test) \n",
        "print('Mean squared error from neural net: ', mse_neural) \n",
        "print('Mean absolute error from neural net: ', mae_neural)"
      ],
      "metadata": {
        "colab": {
          "base_uri": "https://localhost:8080/"
        },
        "id": "xmBMv1z1xYiM",
        "outputId": "9d37d8ef-255f-4556-fc88-59c2a08351b4"
      },
      "execution_count": 30,
      "outputs": [
        {
          "output_type": "stream",
          "name": "stdout",
          "text": [
            "4/4 [==============================] - 0s 4ms/step - loss: 13.8309 - mae: 2.7557\n",
            "Mean squared error from neural net:  13.830933570861816\n",
            "Mean absolute error from neural net:  2.755727767944336\n"
          ]
        }
      ]
    },
    {
      "cell_type": "markdown",
      "source": [
        "Exercice 4 : Comparaison des performances \n",
        "Les performances de ce réseau de neurones profonds sont comparées à des algorithmes classiques \n",
        "d’apprentissage statistique (régréssion linéaire, arbre de decision, random Forest). \n"
      ],
      "metadata": {
        "id": "1h5JXg2szS2z"
      }
    },
    {
      "cell_type": "code",
      "source": [
        "from sklearn import linear_model \n",
        "from sklearn.tree import DecisionTreeRegressor \n",
        "from sklearn.metrics import mean_squared_error, mean_absolute_error"
      ],
      "metadata": {
        "id": "QstOOFZJzST5"
      },
      "execution_count": 31,
      "outputs": []
    },
    {
      "cell_type": "code",
      "source": [
        "lr_model = linear_model.LinearRegression() #choisir un modèle : regression linéaire\n",
        "lr_model.fit(X_train_scaled, y_train) #entrainer le modèle\n",
        "y_pred_lr = lr_model.predict(X_test_scaled) # faire la prédiction"
      ],
      "metadata": {
        "id": "njgfxBWYzd8a"
      },
      "execution_count": 33,
      "outputs": []
    },
    {
      "cell_type": "code",
      "source": [
        "mse_lr = mean_squared_error(y_test, y_pred_lr) \n",
        "mae_lr = mean_absolute_error(y_test, y_pred_lr) \n",
        "print('Mean squared error from linear regression: ', mse_lr) \n",
        "print('Mean absolute error from linear regression: ', mae_lr)"
      ],
      "metadata": {
        "colab": {
          "base_uri": "https://localhost:8080/"
        },
        "id": "ZXOhLp3bztHQ",
        "outputId": "b3d738b8-2024-410b-ad35-268f703737d5"
      },
      "execution_count": 35,
      "outputs": [
        {
          "output_type": "stream",
          "name": "stdout",
          "text": [
            "Mean squared error from linear regression:  16.49535197593167\n",
            "Mean absolute error from linear regression:  3.055894153890959\n"
          ]
        }
      ]
    },
    {
      "cell_type": "markdown",
      "source": [
        "RN : (Mean squared error from neural net:  13.830933570861816\n",
        "Mean absolute error from neural net:  2.755727767944336)\n",
        "\n",
        "modele LinR : (Mean squared error from linear regression:  16.49535197593167\n",
        "Mean absolute error from linear regression:  3.055894153890959)\n",
        "\n",
        "le réseau de neurones est plus performent que la modèle de Regression linéaire parce qu'il nous donne le moindre erreur"
      ],
      "metadata": {
        "id": "ZuOCtYQo0D8V"
      }
    },
    {
      "cell_type": "code",
      "source": [
        "tree = DecisionTreeRegressor() \n",
        "tree.fit(X_train_scaled, y_train) \n",
        "y_pred_tree = tree.predict(X_test_scaled)"
      ],
      "metadata": {
        "id": "V1qcgyYW0-yU"
      },
      "execution_count": 36,
      "outputs": []
    },
    {
      "cell_type": "code",
      "source": [
        "mse_dt = mean_squared_error(y_test, y_pred_tree) \n",
        "mae_dt = mean_absolute_error(y_test, y_pred_tree) \n",
        "print('Mean squared error using decision tree: ', mse_dt) \n",
        "print('Mean absolute error using decision tree: ', mae_dt)"
      ],
      "metadata": {
        "colab": {
          "base_uri": "https://localhost:8080/"
        },
        "id": "DDJhUEe81AfR",
        "outputId": "db1c96e7-270b-4aa2-c1cb-121d0594e837"
      },
      "execution_count": 37,
      "outputs": [
        {
          "output_type": "stream",
          "name": "stdout",
          "text": [
            "Mean squared error using decision tree:  26.025294117647068\n",
            "Mean absolute error using decision tree:  3.301960784313725\n"
          ]
        }
      ]
    },
    {
      "cell_type": "markdown",
      "source": [
        "le réseaux de neurones est plus performant que l'Arbres de décision"
      ],
      "metadata": {
        "id": "036tq7D11Gcg"
      }
    },
    {
      "cell_type": "code",
      "source": [
        "from sklearn.ensemble import RandomForestRegressor \n",
        "model = RandomForestRegressor(n_estimators = 30, random_state=30) \n",
        "model.fit(X_train_scaled, y_train) \n",
        "y_pred_RF = model.predict(X_test_scaled)"
      ],
      "metadata": {
        "id": "99yf-kxy1h6d"
      },
      "execution_count": 38,
      "outputs": []
    },
    {
      "cell_type": "code",
      "source": [
        "mse_RF = mean_squared_error(y_test, y_pred_RF) \n",
        "mae_RF = mean_absolute_error(y_test, y_pred_RF) \n",
        "print('Mean squared error using Random Forest: ', mse_RF) \n",
        "print('Mean absolute error Using Random Forest: ', mae_RF) "
      ],
      "metadata": {
        "colab": {
          "base_uri": "https://localhost:8080/"
        },
        "id": "UJ2falix1tZM",
        "outputId": "d7a07edd-729f-4f97-9880-1fbf0de5dddb"
      },
      "execution_count": 39,
      "outputs": [
        {
          "output_type": "stream",
          "name": "stdout",
          "text": [
            "Mean squared error using Random Forest:  12.701104793028327\n",
            "Mean absolute error Using Random Forest:  2.408235294117647\n"
          ]
        }
      ]
    },
    {
      "cell_type": "markdown",
      "source": [
        "Random Forest pour une 30 d'arbre donne moins d'erreurs que le réseau de neuronespour avec 30 epochs"
      ],
      "metadata": {
        "id": "PSAyGFIH11Tz"
      }
    }
  ]
}