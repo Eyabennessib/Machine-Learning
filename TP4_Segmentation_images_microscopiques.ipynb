{
  "cells": [
    {
      "cell_type": "markdown",
      "metadata": {
        "id": "view-in-github",
        "colab_type": "text"
      },
      "source": [
        "<a href=\"https://colab.research.google.com/github/Eyabennessib/Machine-Learning/blob/main/TP4_Segmentation_images_microscopiques.ipynb\" target=\"_parent\"><img src=\"https://colab.research.google.com/assets/colab-badge.svg\" alt=\"Open In Colab\"/></a>"
      ]
    },
    {
      "cell_type": "markdown",
      "metadata": {
        "id": "wQkYLWDZqpgm"
      },
      "source": [
        "\n",
        "\n",
        "# TP 4 Segmentation d’images microscopiques \n",
        "### Eya BEN NESSIB"
      ]
    },
    {
      "cell_type": "markdown",
      "metadata": {
        "id": "oaXw9ToPqpgr"
      },
      "source": [
        "*Ce TP a pour objectif de segmenter des images microscopiques par le biais de l’algorithme \n",
        "d’apprentissage « RandomForestRegressor ».*"
      ]
    },
    {
      "cell_type": "markdown",
      "metadata": {
        "id": "PUonK-p1qpgs"
      },
      "source": [
        "### Extraction des attributs et préparation du jeu de données"
      ]
    },
    {
      "cell_type": "code",
      "execution_count": null,
      "metadata": {
        "id": "8n_JI3sxqpgs"
      },
      "outputs": [],
      "source": [
        "import numpy as np \n",
        "import cv2 \n",
        "import pandas as pd"
      ]
    },
    {
      "cell_type": "code",
      "execution_count": null,
      "metadata": {
        "id": "7_OiRz1jqpgt"
      },
      "outputs": [],
      "source": [
        "Img = cv2.imread(\"Train_images/Sandstone_Versa0000.tif\")"
      ]
    },
    {
      "cell_type": "code",
      "execution_count": null,
      "metadata": {
        "id": "nJGkE_7Cqpgt",
        "outputId": "ee5f8f46-da08-4098-e0d4-aa9cc99404e9"
      },
      "outputs": [
        {
          "data": {
            "text/plain": [
              "(1024, 996, 3)"
            ]
          },
          "execution_count": 23,
          "metadata": {},
          "output_type": "execute_result"
        }
      ],
      "source": [
        "Img.shape"
      ]
    },
    {
      "cell_type": "code",
      "execution_count": null,
      "metadata": {
        "id": "Ini7qhJXqpgu"
      },
      "outputs": [],
      "source": [
        "Img = cv2.cvtColor(Img, cv2.COLOR_BGR2GRAY)"
      ]
    },
    {
      "cell_type": "code",
      "execution_count": null,
      "metadata": {
        "id": "ICn8IyNQqpgv"
      },
      "outputs": [],
      "source": [
        "Img2 = Img.reshape(-1) # 1D "
      ]
    },
    {
      "cell_type": "code",
      "execution_count": null,
      "metadata": {
        "id": "xFQADViNqpgv",
        "outputId": "e9e58f22-7939-4610-8673-6a70effef23d"
      },
      "outputs": [
        {
          "name": "stdout",
          "output_type": "stream",
          "text": [
            "<bound method NDFrame.head of          Original Imag\n",
            "0                    0\n",
            "1                    0\n",
            "2                    0\n",
            "3                    0\n",
            "4                    0\n",
            "...                ...\n",
            "1019899              0\n",
            "1019900              0\n",
            "1019901              0\n",
            "1019902              0\n",
            "1019903              0\n",
            "\n",
            "[1019904 rows x 1 columns]>\n"
          ]
        }
      ],
      "source": [
        "df = pd.DataFrame() #construire une base de donnée de type dataframe avec la bibliothèque pandas\n",
        "df['Original Imag'] = Img2 #affecter les données de l'image à la base de données\n",
        "print(df.head) #visualiser une partie des données"
      ]
    },
    {
      "cell_type": "code",
      "execution_count": null,
      "metadata": {
        "id": "Gtke1nDnqpgw",
        "outputId": "b515f9f3-0523-4e6b-f63c-daf22334fd23"
      },
      "outputs": [
        {
          "name": "stdout",
          "output_type": "stream",
          "text": [
            "Gabor1\n",
            "Gabor1 : theta= 0.0 : sigma= 1 : lamda= 0.0 : gamma= 0.05\n",
            "Gabor2\n",
            "Gabor2 : theta= 0.0 : sigma= 1 : lamda= 0.0 : gamma= 0.5\n",
            "Gabor3\n",
            "Gabor3 : theta= 0.0 : sigma= 1 : lamda= 0.7853981633974483 : gamma= 0.05\n",
            "Gabor4\n",
            "Gabor4 : theta= 0.0 : sigma= 1 : lamda= 0.7853981633974483 : gamma= 0.5\n",
            "Gabor5\n",
            "Gabor5 : theta= 0.0 : sigma= 1 : lamda= 1.5707963267948966 : gamma= 0.05\n",
            "Gabor6\n",
            "Gabor6 : theta= 0.0 : sigma= 1 : lamda= 1.5707963267948966 : gamma= 0.5\n",
            "Gabor7\n",
            "Gabor7 : theta= 0.0 : sigma= 1 : lamda= 2.356194490192345 : gamma= 0.05\n",
            "Gabor8\n",
            "Gabor8 : theta= 0.0 : sigma= 1 : lamda= 2.356194490192345 : gamma= 0.5\n",
            "Gabor9\n",
            "Gabor9 : theta= 0.0 : sigma= 3 : lamda= 0.0 : gamma= 0.05\n",
            "Gabor10\n",
            "Gabor10 : theta= 0.0 : sigma= 3 : lamda= 0.0 : gamma= 0.5\n",
            "Gabor11\n",
            "Gabor11 : theta= 0.0 : sigma= 3 : lamda= 0.7853981633974483 : gamma= 0.05\n",
            "Gabor12\n",
            "Gabor12 : theta= 0.0 : sigma= 3 : lamda= 0.7853981633974483 : gamma= 0.5\n",
            "Gabor13\n",
            "Gabor13 : theta= 0.0 : sigma= 3 : lamda= 1.5707963267948966 : gamma= 0.05\n",
            "Gabor14\n",
            "Gabor14 : theta= 0.0 : sigma= 3 : lamda= 1.5707963267948966 : gamma= 0.5\n",
            "Gabor15\n",
            "Gabor15 : theta= 0.0 : sigma= 3 : lamda= 2.356194490192345 : gamma= 0.05\n",
            "Gabor16\n",
            "Gabor16 : theta= 0.0 : sigma= 3 : lamda= 2.356194490192345 : gamma= 0.5\n",
            "Gabor17\n",
            "Gabor17 : theta= 0.7853981633974483 : sigma= 1 : lamda= 0.0 : gamma= 0.05\n",
            "Gabor18\n",
            "Gabor18 : theta= 0.7853981633974483 : sigma= 1 : lamda= 0.0 : gamma= 0.5\n",
            "Gabor19\n",
            "Gabor19 : theta= 0.7853981633974483 : sigma= 1 : lamda= 0.7853981633974483 : gamma= 0.05\n",
            "Gabor20\n",
            "Gabor20 : theta= 0.7853981633974483 : sigma= 1 : lamda= 0.7853981633974483 : gamma= 0.5\n",
            "Gabor21\n",
            "Gabor21 : theta= 0.7853981633974483 : sigma= 1 : lamda= 1.5707963267948966 : gamma= 0.05\n",
            "Gabor22\n",
            "Gabor22 : theta= 0.7853981633974483 : sigma= 1 : lamda= 1.5707963267948966 : gamma= 0.5\n",
            "Gabor23\n",
            "Gabor23 : theta= 0.7853981633974483 : sigma= 1 : lamda= 2.356194490192345 : gamma= 0.05\n",
            "Gabor24\n",
            "Gabor24 : theta= 0.7853981633974483 : sigma= 1 : lamda= 2.356194490192345 : gamma= 0.5\n",
            "Gabor25\n",
            "Gabor25 : theta= 0.7853981633974483 : sigma= 3 : lamda= 0.0 : gamma= 0.05\n",
            "Gabor26\n",
            "Gabor26 : theta= 0.7853981633974483 : sigma= 3 : lamda= 0.0 : gamma= 0.5\n",
            "Gabor27\n",
            "Gabor27 : theta= 0.7853981633974483 : sigma= 3 : lamda= 0.7853981633974483 : gamma= 0.05\n",
            "Gabor28\n",
            "Gabor28 : theta= 0.7853981633974483 : sigma= 3 : lamda= 0.7853981633974483 : gamma= 0.5\n",
            "Gabor29\n",
            "Gabor29 : theta= 0.7853981633974483 : sigma= 3 : lamda= 1.5707963267948966 : gamma= 0.05\n",
            "Gabor30\n",
            "Gabor30 : theta= 0.7853981633974483 : sigma= 3 : lamda= 1.5707963267948966 : gamma= 0.5\n",
            "Gabor31\n",
            "Gabor31 : theta= 0.7853981633974483 : sigma= 3 : lamda= 2.356194490192345 : gamma= 0.05\n",
            "Gabor32\n",
            "Gabor32 : theta= 0.7853981633974483 : sigma= 3 : lamda= 2.356194490192345 : gamma= 0.5\n"
          ]
        }
      ],
      "source": [
        "num = 1 \n",
        "kernels = [] \n",
        "#fixation des paramètres du filtre\n",
        "for theta in range(2): \n",
        "    theta = theta / 4. * np.pi \n",
        "    for sigma in (1, 3): \n",
        "        for lamda in np.arange(0, np.pi, np.pi / 4): \n",
        "            for gamma in (0.05, 0.5): \n",
        "             gabor_label = 'Gabor' + str(num) \n",
        "             print(gabor_label) \n",
        "             ksize=9 #définir la taile du kernel (9,9)\n",
        "             kernel = cv2.getGaborKernel((ksize, ksize), sigma, theta,lamda, gamma, 0, ktype=cv2.CV_32F) \n",
        "             #déclarer le filtre gabor au variable kernel\n",
        "             kernels.append(kernel) #remplir la liste par les valeurs du filtre\n",
        "             fimg = cv2.filter2D(Img2, cv2.CV_8UC3, kernel) #appliquer le filtre sur l'image\n",
        "             filtered_img = fimg.reshape(-1) #transformer l'image filtrée en un signal 1D\n",
        "             df[gabor_label] = filtered_img #créer et affecter les valeurs de l'image filtrée à la colonne gabor_laber dans la base des données\n",
        "             print(gabor_label, ': theta=', theta, ': sigma=', sigma, ': lamda=', lamda, ': gamma=', gamma) \n",
        "             num += 1"
      ]
    },
    {
      "cell_type": "code",
      "execution_count": null,
      "metadata": {
        "id": "o7TBn4-Rqpgx"
      },
      "outputs": [],
      "source": [
        "#des filtres de detection des contours\n",
        "edges = cv2.Canny(Img, 100,200) #appliquer le filtre sur l'image\n",
        "# 200 s’agit de la valeur seuil élevée du gradient.\n",
        "# 100 s’agit de la valeur seuil faible du gradient.\n",
        "edges1 = edges.reshape(-1) #transfomer l'image en 1 signal 1D\n",
        "df['Canny Edge'] = edges1 #afecter les valeurs des attributs à la base des données dans la colonne Canny Edge\n",
        "\n",
        "from skimage.filters import roberts, sobel, scharr, prewitt \n",
        "\n",
        "edge_roberts = roberts(Img) #appliquer le filtre sur l'image\n",
        "edge_roberts1 = edge_roberts.reshape(-1) #transfomer l'image en 1 signal 1D\n",
        "df['Roberts'] = edge_roberts1  #afecter les valeurs des attributs à la base des données\n",
        "\n",
        "edge_sobel = sobel(Img) #appliquer le filtre sur l'image\n",
        "edge_sobel1 = edge_sobel.reshape(-1) #transfomer l'image en 1 signal 1D\n",
        "df['Sobel'] = edge_sobel1  #afecter les valeurs des attributs à la base des données \n",
        "\n",
        "edge_scharr = scharr(Img) #appliquer le filtre sur l'image\n",
        "edge_scharr1 = edge_scharr.reshape(-1) #transfomer l'image en 1 signal 1D\n",
        "df['Scharr'] = edge_scharr1  #afecter les valeurs des attributs à la base des données\n",
        "\n",
        "edge_prewitt = prewitt(Img) #appliquer le filtre sur l'image\n",
        "edge_prewitt1 = edge_prewitt.reshape(-1) #transfomer l'image en 1 signal 1D\n",
        "df['Prewitt'] = edge_prewitt1  #afecter les valeurs des attributs à la base des données\n",
        "\n",
        "from scipy import ndimage as nd \n",
        "\n",
        "gaussian_img = nd.gaussian_filter(Img, sigma=3) #appliquer le filtre sur l'image\n",
        "gaussian_img1 = gaussian_img.reshape(-1) #transfomer l'image en 1 signal 1D\n",
        "df['Gaussian s3'] = gaussian_img1  #afecter les valeurs des attributs à la base des données\n",
        "gaussian_img2 = nd.gaussian_filter(Img, sigma=7) #appliquer le filtre sur l'image\n",
        "gaussian_img3 = gaussian_img2.reshape(-1) #transfomer l'image en 1 signal 1D\n",
        "df['Gaussian s7'] = gaussian_img3  #afecter les valeurs des attributs à la base des données\n",
        "\n",
        "median_img = nd.median_filter(Img, size=3) #appliquer le filtre sur l'image\n",
        "median_img1 = median_img.reshape(-1) #transfomer l'image en 1 signal 1D\n",
        "df['Median s3'] = median_img1  #afecter les valeurs des attributs à la base des données"
      ]
    },
    {
      "cell_type": "code",
      "execution_count": null,
      "metadata": {
        "id": "sao8JxZgqpgx"
      },
      "outputs": [],
      "source": [
        "labeled_img = cv2.imread(\"C:/Users/Eyq/OneDrive/Desktop/ML/Train_masks/Sandstone_Versa0000.tif\") #lire l'image"
      ]
    },
    {
      "cell_type": "code",
      "execution_count": null,
      "metadata": {
        "id": "mfXzYuRnqpgy",
        "outputId": "2e869a17-9588-42b7-e0b1-53ff8884218b"
      },
      "outputs": [
        {
          "data": {
            "text/plain": [
              "(1024, 996, 3)"
            ]
          },
          "execution_count": 58,
          "metadata": {},
          "output_type": "execute_result"
        }
      ],
      "source": [
        "labeled_img.shape"
      ]
    },
    {
      "cell_type": "code",
      "execution_count": null,
      "metadata": {
        "id": "oMTBR2qmqpgy"
      },
      "outputs": [],
      "source": [
        "labeled_img = cv2.cvtColor(labeled_img, cv2.COLOR_BGR2GRAY) #transormer l'image en niveau de gris\n",
        "labeled_img1 = labeled_img.reshape(-1) #transfomer l'image en 1 signal 1D\n",
        "df['Labels'] = labeled_img1 #afecter les labels à la base des données"
      ]
    },
    {
      "cell_type": "markdown",
      "metadata": {
        "id": "76-IZVagqpgy"
      },
      "source": [
        "### Entrainement du modèle \n"
      ]
    },
    {
      "cell_type": "code",
      "execution_count": null,
      "metadata": {
        "id": "4GSVUjvGqpgy"
      },
      "outputs": [],
      "source": [
        "from sklearn.model_selection import train_test_split"
      ]
    },
    {
      "cell_type": "code",
      "execution_count": null,
      "metadata": {
        "id": "dNo60x2Lqpgy"
      },
      "outputs": [],
      "source": [
        "y = df['Labels']"
      ]
    },
    {
      "cell_type": "code",
      "execution_count": null,
      "metadata": {
        "id": "TbV2sr96qpgy"
      },
      "outputs": [],
      "source": [
        "X = df.drop(labels = [\"Labels\"], axis=1)"
      ]
    },
    {
      "cell_type": "code",
      "execution_count": null,
      "metadata": {
        "id": "3E5GKYQjqpgz"
      },
      "outputs": [],
      "source": [
        "X_train, X_test, y_train, y_test = train_test_split(X, y, test_size=0.33, random_state=42)"
      ]
    },
    {
      "cell_type": "code",
      "execution_count": null,
      "metadata": {
        "id": "hBHdZJ3Jqpgz"
      },
      "outputs": [],
      "source": [
        "from sklearn.ensemble import RandomForestClassifier \n",
        "model = RandomForestClassifier(n_estimators = 100, random_state = 42)"
      ]
    },
    {
      "cell_type": "code",
      "execution_count": null,
      "metadata": {
        "id": "k43wLXLEqpgz",
        "outputId": "7ea8e100-ab26-40db-a17e-6b934d7f2fda"
      },
      "outputs": [
        {
          "data": {
            "text/plain": [
              "RandomForestClassifier(random_state=42)"
            ]
          },
          "execution_count": 86,
          "metadata": {},
          "output_type": "execute_result"
        }
      ],
      "source": [
        "model.fit(X_train, y_train) "
      ]
    },
    {
      "cell_type": "code",
      "execution_count": null,
      "metadata": {
        "id": "lopPnYN1qpgz",
        "outputId": "367a665b-1832-4d3b-c1da-2b44f555131e"
      },
      "outputs": [
        {
          "data": {
            "text/plain": [
              "array([29, 29, 29, ..., 76, 76, 29], dtype=uint8)"
            ]
          },
          "execution_count": 87,
          "metadata": {},
          "output_type": "execute_result"
        }
      ],
      "source": [
        "model.predict(X_test)"
      ]
    },
    {
      "cell_type": "code",
      "execution_count": null,
      "metadata": {
        "id": "dxe9_3-dqpgz"
      },
      "outputs": [],
      "source": [
        "from sklearn import metrics"
      ]
    },
    {
      "cell_type": "code",
      "execution_count": null,
      "metadata": {
        "id": "ZBpGXmZEqpgz",
        "outputId": "d76b760f-d8b0-4440-cab3-9c8a42bbaa1f"
      },
      "outputs": [
        {
          "data": {
            "text/plain": [
              "1.0"
            ]
          },
          "execution_count": 89,
          "metadata": {},
          "output_type": "execute_result"
        }
      ],
      "source": [
        "model.score(X_train,y_train)"
      ]
    },
    {
      "cell_type": "code",
      "execution_count": null,
      "metadata": {
        "id": "qviszfkiqpg0",
        "outputId": "b5767eb7-c86d-41bb-d2aa-9958417f2b5f"
      },
      "outputs": [
        {
          "data": {
            "text/plain": [
              "0.9831030189946193"
            ]
          },
          "execution_count": 90,
          "metadata": {},
          "output_type": "execute_result"
        }
      ],
      "source": [
        "model.score(X_test,y_test)"
      ]
    },
    {
      "cell_type": "markdown",
      "metadata": {
        "id": "5c0WUy9yqpg0"
      },
      "source": [
        "on constate que le modèle est stable et précis avec un score de 0,98 ;"
      ]
    },
    {
      "cell_type": "code",
      "execution_count": null,
      "metadata": {
        "id": "E4IhlwXxqpg0",
        "outputId": "9c1504ae-b34b-4518-a7b8-b60303fdcd73"
      },
      "outputs": [
        {
          "name": "stdout",
          "output_type": "stream",
          "text": [
            "Gabor4           1.235443e-01\n",
            "Gaussian s3      1.053255e-01\n",
            "Gabor6           1.020367e-01\n",
            "Median s3        9.482956e-02\n",
            "Gabor8           9.376081e-02\n",
            "Gabor5           6.371189e-02\n",
            "Gabor7           6.271700e-02\n",
            "Gabor12          5.690750e-02\n",
            "Gabor24          5.157029e-02\n",
            "Original Imag    4.299164e-02\n",
            "Gabor23          3.467396e-02\n",
            "Gaussian s7      3.304312e-02\n",
            "Gabor22          1.934675e-02\n",
            "Gabor21          1.741603e-02\n",
            "Gabor30          1.678781e-02\n",
            "Gabor11          1.652334e-02\n",
            "Gabor31          1.030941e-02\n",
            "Gabor29          9.870432e-03\n",
            "Prewitt          9.608970e-03\n",
            "Gabor3           8.305730e-03\n",
            "Scharr           8.200408e-03\n",
            "Sobel            8.068300e-03\n",
            "Roberts          6.160673e-03\n",
            "Gabor32          3.028239e-03\n",
            "Canny Edge       1.125030e-03\n",
            "Gabor20          1.123553e-04\n",
            "Gabor28          2.344694e-05\n",
            "Gabor27          7.827402e-07\n",
            "Gabor19          4.607592e-08\n",
            "Gabor2           0.000000e+00\n",
            "Gabor10          0.000000e+00\n",
            "Gabor26          0.000000e+00\n",
            "Gabor1           0.000000e+00\n",
            "Gabor18          0.000000e+00\n",
            "Gabor17          0.000000e+00\n",
            "Gabor16          0.000000e+00\n",
            "Gabor15          0.000000e+00\n",
            "Gabor14          0.000000e+00\n",
            "Gabor13          0.000000e+00\n",
            "Gabor9           0.000000e+00\n",
            "Gabor25          0.000000e+00\n",
            "dtype: float64\n"
          ]
        }
      ],
      "source": [
        "features_list = list(X.columns)  \n",
        "features_imp = pd.Series(model.feature_importances_, index = features_list).sort_values(ascending=False) \n",
        "print(features_imp)"
      ]
    },
    {
      "cell_type": "markdown",
      "metadata": {
        "id": "RAtQ202_qpg0"
      },
      "source": [
        "les attributs améliore la performance du modèle. En ajoutant à chaque fois des images filtrées par les filtres de detection des contours, ceci améliore la prédiction du modèle à ségmenter l'image;"
      ]
    },
    {
      "cell_type": "markdown",
      "metadata": {
        "id": "q6zZ9Rx0qpg0"
      },
      "source": [
        "### Sauvegarde du modèle "
      ]
    },
    {
      "cell_type": "code",
      "execution_count": null,
      "metadata": {
        "id": "TLSl97sCqpg0"
      },
      "outputs": [],
      "source": [
        "import pickle #importer la bibliothèque pour enregistrer le modèle.\n",
        "filename = \"sandstone_model\" #nommer le disque du modèle.\n",
        "pickle.dump(model, open(filename, 'wb')) #sauvgarder le modèle dans le disque."
      ]
    },
    {
      "cell_type": "markdown",
      "metadata": {
        "id": "tND_kiVjqpg0"
      },
      "source": [
        "### Test du modèle sur de nouvelles données"
      ]
    },
    {
      "cell_type": "code",
      "execution_count": null,
      "metadata": {
        "id": "cqG1WTWhqpg0"
      },
      "outputs": [],
      "source": [
        "loaded_model = pickle.load(open(filename, 'rb'))\n",
        "result = loaded_model.predict(X)"
      ]
    },
    {
      "cell_type": "code",
      "execution_count": null,
      "metadata": {
        "id": "-xwCkzeeqpg0"
      },
      "outputs": [],
      "source": [
        "segmented = result.reshape((Img.shape))"
      ]
    },
    {
      "cell_type": "code",
      "execution_count": null,
      "metadata": {
        "id": "BYzLXkVuqpg1",
        "outputId": "ab9bbd21-4ae5-46a4-b807-c01684d7cff8"
      },
      "outputs": [
        {
          "data": {
            "image/png": "[encoded data removed]",
            "text/plain": [
              "<Figure size 432x288 with 1 Axes>"
            ]
          },
          "metadata": {
            "needs_background": "light"
          },
          "output_type": "display_data"
        }
      ],
      "source": [
        "from matplotlib import pyplot as plt \n",
        "plt.imshow(segmented, cmap ='jet') \n",
        "plt.imsave('segmented_rock_RF_100_estim.jpg', segmented, cmap ='jet') "
      ]
    },
    {
      "cell_type": "markdown",
      "metadata": {
        "id": "jiSjPyAwqpg1"
      },
      "source": [
        "En comparant avec l'image en train mask, je constate que la ségmentation des parties sur l'image est bien faite par le modèle et on retrouve la même image; "
      ]
    }
  ],
  "metadata": {
    "interpreter": {
      "hash": "e2135ba8a6b6940a25c1ee45ade9bcd9d597d8a6be37a47c3240c54949e975a1"
    },
    "kernelspec": {
      "display_name": "Python 3.8.8 ('base')",
      "language": "python",
      "name": "python3"
    },
    "language_info": {
      "codemirror_mode": {
        "name": "ipython",
        "version": 3
      },
      "file_extension": ".py",
      "mimetype": "text/x-python",
      "name": "python",
      "nbconvert_exporter": "python",
      "pygments_lexer": "ipython3",
      "version": "3.8.8"
    },
    "orig_nbformat": 4,
    "colab": {
      "name": "TP4_Segmentation_images_microscopiques.ipynb",
      "provenance": [],
      "include_colab_link": true
    }
  },
  "nbformat": 4,
  "nbformat_minor": 0
}